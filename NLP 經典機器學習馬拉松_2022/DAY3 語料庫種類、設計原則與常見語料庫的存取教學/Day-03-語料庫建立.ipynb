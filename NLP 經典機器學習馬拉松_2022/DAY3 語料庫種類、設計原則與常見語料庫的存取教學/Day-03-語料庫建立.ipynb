{
 "cells": [
  {
   "cell_type": "markdown",
   "metadata": {
    "id": "N6HhkHRxr79B"
   },
   "source": [
    "## 作業目標：熟悉 nltk 語料庫的使用"
   ]
  },
  {
   "cell_type": "code",
   "execution_count": null,
   "metadata": {
    "colab": {
     "base_uri": "https://localhost:8080/"
    },
    "id": "nMFRJR9ksMey",
    "outputId": "42ec2263-93c3-4af1-d2d4-fe0aab0a9f91"
   },
   "outputs": [],
   "source": [
    "# 任務一：載入 nltk 套件，下載所有語料庫\n",
    "import nltk\n",
    "nltk.download('all-corpora')"
   ]
  },
  {
   "cell_type": "code",
   "execution_count": 1,
   "metadata": {
    "colab": {
     "base_uri": "https://localhost:8080/"
    },
    "id": "jxKgL1r0sedo",
    "outputId": "84e7839c-16bd-4e5c-d49d-185f8626fee9"
   },
   "outputs": [
    {
     "name": "stdout",
     "output_type": "stream",
     "text": [
      "*** Introductory Examples for the NLTK Book ***\n",
      "Loading text1, ..., text9 and sent1, ..., sent9\n",
      "Type the name of the text or sentence to view it.\n",
      "Type: 'texts()' or 'sents()' to list the materials.\n",
      "text1: Moby Dick by Herman Melville 1851\n",
      "text2: Sense and Sensibility by Jane Austen 1811\n",
      "text3: The Book of Genesis\n",
      "text4: Inaugural Address Corpus\n",
      "text5: Chat Corpus\n",
      "text6: Monty Python and the Holy Grail\n",
      "text7: Wall Street Journal\n",
      "text8: Personals Corpus\n",
      "text9: The Man Who Was Thursday by G . K . Chesterton 1908\n"
     ]
    }
   ],
   "source": [
    "# 任務二：載入 nltk 所有預設的文本\n",
    "from nltk.book import *"
   ]
  },
  {
   "cell_type": "code",
   "execution_count": 2,
   "metadata": {
    "colab": {
     "base_uri": "https://localhost:8080/"
    },
    "id": "jm51hMnTs24f",
    "outputId": "6bab2f46-c1f8-4607-c51b-304bf293fd1a"
   },
   "outputs": [
    {
     "name": "stdout",
     "output_type": "stream",
     "text": [
      "Displaying 8 of 8 matches:\n",
      " , was called a Cape - Cod - man . A happy - go - lucky ; neither craven nor va\n",
      " rivers ; through sun and shade ; by happy hearts or broken ; through all the w\n",
      " most sea - terms , this one is very happy and significant . For the whale is i\n",
      "ng by way of getting a living . Oh ! happy that the world is such an excellent \n",
      "e says , Monsieur , that he ' s very happy to have been of any service to us .\"\n",
      "irst love ; we marry and think to be happy for aye , when pop comes Libra , or \n",
      " , a desperate burglar slid into his happy home , and robbed them all of everyt\n",
      "rous thing in his soul . That glad , happy air , that winsome sky , did at last\n"
     ]
    }
   ],
   "source": [
    "# 任務三：分析 Moby Dick by Herman Melville 1851 文本，找出 'happy' 出現在文本的什麼句子中\n",
    "text1.concordance('happy')"
   ]
  },
  {
   "cell_type": "code",
   "execution_count": 3,
   "metadata": {
    "colab": {
     "base_uri": "https://localhost:8080/"
    },
    "id": "8qWHwVNItBAC",
    "outputId": "c72bf6e3-9749-487c-b340-5692b37cb547"
   },
   "outputs": [
    {
     "name": "stdout",
     "output_type": "stream",
     "text": [
      "old queer named far ancient well how clear god country taken fat ocean\n",
      "learned man first white interesting convenient island\n"
     ]
    }
   ],
   "source": [
    "# 任務四：分析 Moby Dick by Herman Melville 1851 文本，找出 'happy' 在文本中的相似詞\n",
    "text1.similar('happy')"
   ]
  },
  {
   "cell_type": "code",
   "execution_count": 5,
   "metadata": {
    "colab": {
     "base_uri": "https://localhost:8080/"
    },
    "id": "BOt6STp6tLU0",
    "outputId": "4a60a89d-62e1-4b8a-a998-8c126b438967"
   },
   "outputs": [
    {
     "name": "stdout",
     "output_type": "stream",
     "text": [
      "very_and\n"
     ]
    }
   ],
   "source": [
    "# 任務五：了解為什麼 'old' 與 'happy' 在這個文本中是相似詞\n",
    "text1.common_contexts(['old', 'happy'])"
   ]
  },
  {
   "cell_type": "code",
   "execution_count": 6,
   "metadata": {
    "colab": {
     "base_uri": "https://localhost:8080/"
    },
    "id": "e5PXdJm0t4ay",
    "outputId": "320d50a1-26b2-4e13-b049-f023baac0d1d"
   },
   "outputs": [
    {
     "data": {
      "text/plain": [
       "['austen-emma.txt',\n",
       " 'austen-persuasion.txt',\n",
       " 'austen-sense.txt',\n",
       " 'bible-kjv.txt',\n",
       " 'blake-poems.txt',\n",
       " 'bryant-stories.txt',\n",
       " 'burgess-busterbrown.txt',\n",
       " 'carroll-alice.txt',\n",
       " 'chesterton-ball.txt',\n",
       " 'chesterton-brown.txt',\n",
       " 'chesterton-thursday.txt',\n",
       " 'edgeworth-parents.txt',\n",
       " 'melville-moby_dick.txt',\n",
       " 'milton-paradise.txt',\n",
       " 'shakespeare-caesar.txt',\n",
       " 'shakespeare-hamlet.txt',\n",
       " 'shakespeare-macbeth.txt',\n",
       " 'whitman-leaves.txt']"
      ]
     },
     "execution_count": 6,
     "metadata": {},
     "output_type": "execute_result"
    }
   ],
   "source": [
    "# 任務六：列出 gutenberg 語料庫的所有文本\n",
    "from nltk.corpus import gutenberg\n",
    "gutenberg.fileids()"
   ]
  },
  {
   "cell_type": "code",
   "execution_count": 9,
   "metadata": {
    "colab": {
     "base_uri": "https://localhost:8080/"
    },
    "id": "3pMNF5ISOMe3",
    "outputId": "731a6fea-501d-4220-e27a-fc783b5e3967"
   },
   "outputs": [
    {
     "name": "stdout",
     "output_type": "stream",
     "text": [
      "austen-emma.txt : [Emma by \n",
      "austen-persuasion.txt : [Persuasi\n",
      "austen-sense.txt : [Sense an\n",
      "bible-kjv.txt : [The King\n",
      "blake-poems.txt : [Poems by\n",
      "bryant-stories.txt : [Stories \n",
      "burgess-busterbrown.txt : [The Adve\n",
      "carroll-alice.txt : [Alice's \n",
      "chesterton-ball.txt : [The Ball\n",
      "chesterton-brown.txt : [The Wisd\n",
      "chesterton-thursday.txt : [The Man \n",
      "edgeworth-parents.txt : [The Pare\n",
      "melville-moby_dick.txt : [Moby Dic\n",
      "milton-paradise.txt : [Paradise\n",
      "shakespeare-caesar.txt : [The Trag\n",
      "shakespeare-hamlet.txt : [The Trag\n",
      "shakespeare-macbeth.txt : [The Trag\n",
      "whitman-leaves.txt : [Leaves o\n"
     ]
    }
   ],
   "source": [
    "# 任務七：查看 gutenberg 語料庫中每一個文本前 10 個字元\n",
    "for i in gutenberg.fileids():\n",
    "    print(i,\":\",gutenberg.raw(i)[0:9])"
   ]
  },
  {
   "cell_type": "code",
   "execution_count": 14,
   "metadata": {
    "id": "mlu7RCK3O-hF"
   },
   "outputs": [],
   "source": [
    "# 任務八：創建一個資料夾命名為 'mycorpus'，將網站上提供的 'sample.txt' 放到資料夾中，並將 'mycorpus' 資料夾讀取為 nltk 語料庫\n",
    "from nltk.corpus import PlaintextCorpusReader\n",
    "corpus_root = './mycorpus/'\n",
    "corpus = PlaintextCorpusReader(corpus_root, '.*')"
   ]
  },
  {
   "cell_type": "code",
   "execution_count": 11,
   "metadata": {
    "colab": {
     "base_uri": "https://localhost:8080/"
    },
    "id": "tFhyuGnHQd8O",
    "outputId": "c0325a1b-eb2e-468a-935c-e2126201e75a"
   },
   "outputs": [
    {
     "data": {
      "text/plain": [
       "['sample.txt']"
      ]
     },
     "execution_count": 11,
     "metadata": {},
     "output_type": "execute_result"
    }
   ],
   "source": [
    "# 任務九：列出自己建立的語料庫中的所有文本\n",
    "corpus.fileids()"
   ]
  },
  {
   "cell_type": "code",
   "execution_count": 12,
   "metadata": {
    "colab": {
     "base_uri": "https://localhost:8080/"
    },
    "id": "CmmhkA44Qmgw",
    "outputId": "924fb9ad-510f-47ac-b325-f2b49f163706"
   },
   "outputs": [
    {
     "name": "stdout",
     "output_type": "stream",
     "text": [
      "0: 芒果葉蟬\n",
      "1: (\n",
      "2: 跳仔\n",
      "3: )\n",
      "4: 須注意防治\n",
      "5: 否則容易落花落果芒果香甜又好吃\n",
      "6: ，\n",
      "7: 是國人喜愛的水果之一\n",
      "8: 。\n",
      "9: 由於目前正值芒果重要害蟲\n",
      "10: ～\n",
      "11: 葉蟬的發生期\n",
      "12: ，\n",
      "13: 行政院農業委員會高雄區農業改良場特別呼籲農友要注意防治\n",
      "14: ，\n",
      "15: 以免遭受損失\n",
      "16: 。\n",
      "17: 高雄區農業改良場場長黃賢良表示\n",
      "18: ，\n",
      "19: 芒果是高屏地區重要的經濟果樹\n",
      "20: ，\n",
      "21: 主要栽培地以高雄縣甲仙\n",
      "22: 、\n",
      "23: 六龜\n",
      "24: 、\n",
      "25: 杉林\n",
      "26: 、\n",
      "27: 旗山和屏東縣高樹\n",
      "28: 、\n",
      "29: 鹽埔\n",
      "30: 、\n",
      "31: 內埔\n",
      "32: 、\n",
      "33: 瑪家\n",
      "34: 、\n",
      "35: 春日\n",
      "36: 、\n",
      "37: 枋寮\n",
      "38: 、\n",
      "39: 枋山等地\n",
      "40: ，\n",
      "41: 栽植面積約達1萬公頃\n",
      "42: ，\n",
      "43: 幾佔全台灣的一半\n",
      "44: 。\n",
      "45: 由於芒果品種多\n",
      "46: ，\n",
      "47: 加上農民栽培技術佳\n",
      "48: ，\n",
      "49: 因此品質良好\n",
      "50: ，\n",
      "51: 且具外銷潛力\n",
      "52: ，\n",
      "53: 深受日本\n",
      "54: 、\n",
      "55: 新加坡\n",
      "56: 、\n",
      "57: 香港等消費者喜愛\n",
      "58: 。\n",
      "59: 該場植保研究室陳明昭助理研究員表示\n",
      "60: ，\n",
      "61: 芒果栽培管理過程常見白粉病\n",
      "62: 、\n",
      "63: 果斑病\n",
      "64: 、\n",
      "65: 藻斑病\n",
      "66: 、\n",
      "67: 炭疽病等病害\n",
      "68: ，\n",
      "69: 及東方果實蠅\n",
      "70: 、\n",
      "71: 毒蛾類\n",
      "72: 、\n",
      "73: 紅蜘蛛\n",
      "74: 、\n",
      "75: 葉蟬等蟲害\n",
      "76: 。\n",
      "77: 其中俗稱跳仔的葉蟬\n",
      "78: ，\n",
      "79: 常發生於每年11月至翌年2月\n",
      "80: ，\n",
      "81: 也就是芒果開花抽穗期至開花結小果期\n",
      "82: ，\n",
      "83: 一年可發生12\n",
      "84: ～\n",
      "85: 13世代\n",
      "86: 。\n",
      "87: 成蟲產卵於幼嫩葉脈中肋或花梗組織中\n",
      "88: ，\n",
      "89: 若蟲有群集性\n",
      "90: ，\n",
      "91: 成蟲可在幼嫩或老化之組織上吸食汁液\n",
      "92: ，\n",
      "93: 致使組織被破壞\n",
      "94: ，\n",
      "95: 引起落花\n",
      "96: 、\n",
      "97: 落果或幼葉畸型\n",
      "98: ；\n",
      "99: 且其分泌物\n",
      "100: (\n",
      "101: 排泄物\n",
      "102: )\n",
      "103: 會誘發黑煤或煤煙病\n",
      "104: ，\n",
      "105: 影響光合作用及污染果品\n",
      "106: ，\n",
      "107: 妨礙授粉\n",
      "108: ，\n",
      "109: 是芒果開花期最重要的害蟲\n",
      "110: 。\n",
      "111: 由於芒果葉蟬發生時期剛好也是白粉病發生季節\n",
      "112: ，\n",
      "113: 如果二者同時發生\n",
      "114: ，\n",
      "115: 其危害將更為嚴重\n",
      "116: ，\n",
      "117: 因此葉蟬對芒果的危害不容忽視\n",
      "118: 。\n",
      "119: 請農友務必參照植保手冊推薦之藥劑加以防治\n",
      "120: 。\n",
      "121: 農友如有任何芒果病蟲害防治上的問題\n",
      "122: ，\n",
      "123: 歡迎與該場植保研究室聯繫\n",
      "124: ，\n",
      "125: 將竭誠為農友服務\n",
      "126: 。\n",
      "127: 聯絡人\n",
      "128: ：\n",
      "129: 高雄農改場植物保護研究室陳明昭先生電話\n",
      "130: ：\n",
      "131: 08\n",
      "132: -\n",
      "133: 7229461轉118\n"
     ]
    }
   ],
   "source": [
    "# 任務十：列出語料庫中 sample.txt 文本的所有字詞\n",
    "for idx, word in enumerate(corpus.words('sample.txt')):\n",
    "    print(f'{idx}: {word}')"
   ]
  }
 ],
 "metadata": {
  "colab": {
   "name": "作業修改.ipynb",
   "provenance": []
  },
  "kernelspec": {
   "display_name": "Python 3 (ipykernel)",
   "language": "python",
   "name": "python3"
  },
  "language_info": {
   "codemirror_mode": {
    "name": "ipython",
    "version": 3
   },
   "file_extension": ".py",
   "mimetype": "text/x-python",
   "name": "python",
   "nbconvert_exporter": "python",
   "pygments_lexer": "ipython3",
   "version": "3.8.12"
  }
 },
 "nbformat": 4,
 "nbformat_minor": 1
}
