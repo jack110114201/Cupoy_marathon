{
 "cells": [
  {
   "cell_type": "code",
   "execution_count": 1,
   "id": "3059cc4c",
   "metadata": {},
   "outputs": [
    {
     "name": "stdout",
     "output_type": "stream",
     "text": [
      "Requirement already satisfied: jieba in /home/weiche/.local/lib/python3.8/site-packages (0.42.1)\r\n"
     ]
    }
   ],
   "source": [
    "!pip install jieba"
   ]
  },
  {
   "cell_type": "code",
   "execution_count": 3,
   "id": "20e3c4cc",
   "metadata": {},
   "outputs": [
    {
     "name": "stdout",
     "output_type": "stream",
     "text": [
      "['由', '於', '新冠', '疫情', '，', '世界', '衛生', '組織', '的', '所作', '所', '為', '，', '讓', '公共', '衛生', '的', '重要性', '浮上', '檯', '面', '。']\n",
      "['由', '於', '新冠', '疫情', '，', '世界衛生組織', '的', '所作', '所', '為', '，', '讓', '公共衛生', '的', '重要性', '浮上', '檯', '面', '。']\n"
     ]
    }
   ],
   "source": [
    "import jieba # 引入 jieba 套件\n",
    "\n",
    "inputtext = \"由於新冠疫情，世界衛生組織的所作所為，讓公共衛生的重要性浮上檯面。\"\n",
    "print(list(jieba.cut(inputtext))) # 示範在沒有醫療專業語料庫下，斷詞的結果\n",
    "\n",
    "jieba.load_userdict(\"medical_corpus.txt\") # 輸入方才處理後的醫療專業語料庫\n",
    "print(list(jieba.cut(inputtext))) # 示範在輸入醫療專業語料庫後，斷詞的結果"
   ]
  }
 ],
 "metadata": {
  "kernelspec": {
   "display_name": "Python 3 (ipykernel)",
   "language": "python",
   "name": "python3"
  },
  "language_info": {
   "codemirror_mode": {
    "name": "ipython",
    "version": 3
   },
   "file_extension": ".py",
   "mimetype": "text/x-python",
   "name": "python",
   "nbconvert_exporter": "python",
   "pygments_lexer": "ipython3",
   "version": "3.8.10"
  }
 },
 "nbformat": 4,
 "nbformat_minor": 5
}
