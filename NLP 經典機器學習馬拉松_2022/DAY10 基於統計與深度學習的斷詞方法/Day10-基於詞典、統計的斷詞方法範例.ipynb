{
 "cells": [
  {
   "cell_type": "markdown",
   "id": "b066f86d-a833-4870-98b5-408f284d8282",
   "metadata": {},
   "source": [
    "# 馬可夫鍊（MM）"
   ]
  },
  {
   "cell_type": "markdown",
   "id": "86e43f77-0ac4-4f35-9695-5ccf301905d9",
   "metadata": {},
   "source": [
    "### 我們以白球W與黑球B為例子"
   ]
  },
  {
   "cell_type": "markdown",
   "id": "ec01dad8-de8b-423c-a8c7-95453669cb9e",
   "metadata": {},
   "source": [
    "![title](MM.png)"
   ]
  },
  {
   "cell_type": "code",
   "execution_count": 4,
   "id": "f3d2ebd2-bc66-4be2-9699-95f7e13c1cf6",
   "metadata": {},
   "outputs": [],
   "source": [
    "import numpy as np"
   ]
  },
  {
   "cell_type": "code",
   "execution_count": 8,
   "id": "17e5c405-e646-4684-9832-48f18a4d248d",
   "metadata": {},
   "outputs": [
    {
     "name": "stdout",
     "output_type": "stream",
     "text": [
      "[[0.7 0.3]]\n"
     ]
    }
   ],
   "source": [
    "# 起始狀態\n",
    "I = np.matrix([[1, 0]])\n",
    "# 轉移矩陣\n",
    "T = np.matrix([[.7, 0.3],\n",
    "               [.6, 0.4]])\n",
    "T1 = I * T\n",
    "# 第一次轉移\n",
    "print (T1)\n"
   ]
  },
  {
   "cell_type": "code",
   "execution_count": 9,
   "id": "fa5ec38b-3f8a-4c9c-b1f1-b055228aa12d",
   "metadata": {},
   "outputs": [
    {
     "name": "stdout",
     "output_type": "stream",
     "text": [
      "[[0.67 0.33]]\n"
     ]
    }
   ],
   "source": [
    "T2 = T1 * T\n",
    "# 第二次轉移\n",
    "print (T2)"
   ]
  },
  {
   "cell_type": "code",
   "execution_count": 10,
   "id": "cda2fbef-9bf7-493d-bf36-11b1083467a8",
   "metadata": {},
   "outputs": [
    {
     "name": "stdout",
     "output_type": "stream",
     "text": [
      "[[0.667 0.333]]\n"
     ]
    }
   ],
   "source": [
    "\n",
    "T3 = T2 * T\n",
    "# 第三次轉移\n",
    "print (T3)"
   ]
  },
  {
   "cell_type": "code",
   "execution_count": 11,
   "id": "d9d2009f-aa2b-4113-8b9f-9847d79f2d6f",
   "metadata": {},
   "outputs": [
    {
     "name": "stdout",
     "output_type": "stream",
     "text": [
      "[[0.65 0.35]]\n"
     ]
    }
   ],
   "source": [
    "# 起始狀態2\n",
    "I = np.matrix([[0.5, 0.5]])\n",
    "# 轉移矩陣\n",
    "T = np.matrix([[.7, 0.3],\n",
    "               [.6, 0.4]])\n",
    "T1 = I * T\n",
    "# 第一次轉移\n",
    "print (T1)"
   ]
  },
  {
   "cell_type": "code",
   "execution_count": 12,
   "id": "85d67fef-adaa-4e8f-86b2-5c516abedcd6",
   "metadata": {},
   "outputs": [
    {
     "name": "stdout",
     "output_type": "stream",
     "text": [
      "[[0.665 0.335]]\n"
     ]
    }
   ],
   "source": [
    "\n",
    "T2 = T1 * T\n",
    "# 第二次轉移\n",
    "print (T2)"
   ]
  },
  {
   "cell_type": "code",
   "execution_count": 13,
   "id": "bdc9b14f-7860-489f-91bd-22e501043e65",
   "metadata": {},
   "outputs": [
    {
     "name": "stdout",
     "output_type": "stream",
     "text": [
      "[[0.6665 0.3335]]\n"
     ]
    }
   ],
   "source": [
    "\n",
    "T3 = T2 * T\n",
    "# 第三次轉移\n",
    "print (T3)"
   ]
  },
  {
   "cell_type": "code",
   "execution_count": null,
   "id": "b9b73031-6720-40aa-be64-6e32253fe8f7",
   "metadata": {},
   "outputs": [],
   "source": []
  }
 ],
 "metadata": {
  "kernelspec": {
   "display_name": "base",
   "language": "python",
   "name": "base"
  },
  "language_info": {
   "codemirror_mode": {
    "name": "ipython",
    "version": 3
   },
   "file_extension": ".py",
   "mimetype": "text/x-python",
   "name": "python",
   "nbconvert_exporter": "python",
   "pygments_lexer": "ipython3",
   "version": "3.8.8"
  }
 },
 "nbformat": 4,
 "nbformat_minor": 5
}
