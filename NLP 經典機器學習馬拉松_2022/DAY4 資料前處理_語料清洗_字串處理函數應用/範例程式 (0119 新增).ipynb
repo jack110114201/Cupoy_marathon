{
 "cells": [
  {
   "cell_type": "markdown",
   "metadata": {
    "id": "xLfO5TgHLKwk"
   },
   "source": [
    "## 範例目標"
   ]
  },
  {
   "cell_type": "markdown",
   "metadata": {
    "id": "uEfyeFfOQvVV"
   },
   "source": [
    "本次範例的目標為熟練基本的字串處理技巧，學習更多字串處理的延伸概念，並釐清許多初學者經常搞混的觀念。本次範例由以下問題所組成：\n",
    "- 取得字串由多少字元所組成\n",
    "- 計算特定字元出現的次數\n",
    "- 判斷一個字串中的每一個詞 (word) 是不是都是大寫開始\n",
    "- 判斷兩個字串是否有相同的「身份」\n",
    "- f-string 的使用\n",
    "- 判斷字串是否只由數字組成\n",
    "- 將 List of String 變成一個 String\n",
    "- 將字串變成大/小寫"
   ]
  },
  {
   "cell_type": "markdown",
   "metadata": {
    "id": "UVRf04M6XrME"
   },
   "source": [
    "## 取得字串由多少字元所組成 "
   ]
  },
  {
   "cell_type": "code",
   "execution_count": 1,
   "metadata": {
    "colab": {
     "base_uri": "https://localhost:8080/"
    },
    "id": "npEpDeeBXxw6",
    "outputId": "89fe3ad1-ff8d-4e37-cccb-e0ebb50875e6"
   },
   "outputs": [
    {
     "data": {
      "text/plain": [
       "8"
      ]
     },
     "execution_count": 1,
     "metadata": {},
     "output_type": "execute_result"
    }
   ],
   "source": [
    "# 透過 len() 計算字串由多少字元組成\n",
    "str1 = 'mushroom'\n",
    "len(str1)"
   ]
  },
  {
   "cell_type": "markdown",
   "metadata": {
    "id": "EAeJaZj4YTmg"
   },
   "source": [
    "## 計算特定字元出現的次數"
   ]
  },
  {
   "cell_type": "code",
   "execution_count": 20,
   "metadata": {
    "colab": {
     "base_uri": "https://localhost:8080/"
    },
    "id": "8O3mYRa4YX04",
    "outputId": "2ff72594-cb4e-4b83-8fa7-afc974d6fa0e"
   },
   "outputs": [
    {
     "data": {
      "text/plain": [
       "2"
      ]
     },
     "execution_count": 20,
     "metadata": {},
     "output_type": "execute_result"
    }
   ],
   "source": [
    "# 透過 count() 計算字元出現次數\n",
    "str1 = 'mushroom'\n",
    "str1.count('o')"
   ]
  },
  {
   "cell_type": "markdown",
   "metadata": {
    "id": "1W6UTbdeYtPr"
   },
   "source": [
    "## 判斷一個字串中的每一個詞 (word) 是不是都是大寫開始"
   ]
  },
  {
   "cell_type": "code",
   "execution_count": 22,
   "metadata": {
    "colab": {
     "base_uri": "https://localhost:8080/"
    },
    "id": "rkL3C8LFYuME",
    "outputId": "2c433c80-d1ef-4c4a-e35a-71dd46319c94"
   },
   "outputs": [
    {
     "data": {
      "text/plain": [
       "True"
      ]
     },
     "execution_count": 22,
     "metadata": {},
     "output_type": "execute_result"
    }
   ],
   "source": [
    "# 透過 istitle() 判斷一個字串中的每一個詞 (word) 是不是都是大寫開始\n",
    "'Natural Language Processing'.istitle()"
   ]
  },
  {
   "cell_type": "code",
   "execution_count": 23,
   "metadata": {
    "colab": {
     "base_uri": "https://localhost:8080/"
    },
    "id": "w07RFaYCY-oB",
    "outputId": "d26f79e0-2dbb-4d26-e62e-5b70f2ed05c6"
   },
   "outputs": [
    {
     "data": {
      "text/plain": [
       "False"
      ]
     },
     "execution_count": 23,
     "metadata": {},
     "output_type": "execute_result"
    }
   ],
   "source": [
    "# 因為 processing 不是大寫開始，因此為 False\n",
    "'Natural Language processing'.istitle()"
   ]
  },
  {
   "cell_type": "markdown",
   "metadata": {
    "id": "1foLyr3DRJkH"
   },
   "source": [
    "## 判斷兩個字串是否有相同的「身份」"
   ]
  },
  {
   "cell_type": "markdown",
   "metadata": {
    "id": "JgcyVASCR-Hn"
   },
   "source": [
    "在 Python 中，我們可以透過「==」與「is」來比較兩個字串，但是兩者其實是比較不同的東西。\n",
    "*   「==」：比較兩個字串是否有相同的「值」(value)\n",
    "*   「is」：比較兩個字串是否有相同的「身份」(identity)\n",
    "\n",
    "如果兩個字串有相同的身份，則這兩字串會存在相同的記憶體空間。我們也可以透過 `id()` 取得字串(變數)的記憶體位置。"
   ]
  },
  {
   "cell_type": "code",
   "execution_count": 17,
   "metadata": {
    "colab": {
     "base_uri": "https://localhost:8080/"
    },
    "id": "paPk7vIDRMeZ",
    "outputId": "2e320632-e0e1-4714-de43-5d24ef7c3925"
   },
   "outputs": [
    {
     "name": "stdout",
     "output_type": "stream",
     "text": [
      "identity: str1 and str2 => True\n",
      "identity: str1 and str3 => False\n",
      "value: str1 and str2 => True\n",
      "value: str1 and str3 => True\n"
     ]
    }
   ],
   "source": [
    "# 建立三個字串\n",
    "str1 = 'hello!'\n",
    "str2 = str1\n",
    "str3 = 'hello!'\n",
    "\n",
    "# 判斷 str1 與 str2 是否有相同的「身份」\n",
    "print('identity: str1 and str2 => {}'.format(str1 is str2))\n",
    "\n",
    "# 判斷 str1 與 str3 是否有相同的「身份」\n",
    "print('identity: str1 and str3 => {}'.format(str1 is str3))\n",
    "\n",
    "# 判斷 str1 與 str 2 是否有相同的「值」\n",
    "print('value: str1 and str2 => {}'.format(str1 == str2))\n",
    "\n",
    "# 判斷 str1 與 str 3 是否有相同的「值」\n",
    "print('value: str1 and str3 => {}'.format(str1 == str3))"
   ]
  },
  {
   "cell_type": "markdown",
   "metadata": {
    "id": "WV3uVtc-V56a"
   },
   "source": [
    "## f-string 的使用"
   ]
  },
  {
   "cell_type": "markdown",
   "metadata": {
    "id": "8hcKBcMDZfSu"
   },
   "source": [
    "實際上除了使用 `format()` 將變數與字串結合之外，在 Python 3.6 後，可以透過 f-string 的寫法，將變數置於字串中。\n",
    "\n",
    "f-string 的用法為在原來的字串前方加上 f。"
   ]
  },
  {
   "cell_type": "code",
   "execution_count": 25,
   "metadata": {
    "colab": {
     "base_uri": "https://localhost:8080/"
    },
    "id": "qM7a9L_kZyQt",
    "outputId": "e036b465-87bc-4cb7-ba8c-93c834f6e696"
   },
   "outputs": [
    {
     "name": "stdout",
     "output_type": "stream",
     "text": [
      "My name is Johnny\n",
      "I am learning NLP.\n"
     ]
    }
   ],
   "source": [
    "name = 'Johnny'\n",
    "subject = 'NLP'\n",
    "\n",
    "print(f'My name is {name}')\n",
    "print(f'I am learning {subject}.')"
   ]
  },
  {
   "cell_type": "markdown",
   "metadata": {
    "id": "svfrwqC3Z7Sn"
   },
   "source": [
    "## 判斷字串是否只由數字組成"
   ]
  },
  {
   "cell_type": "code",
   "execution_count": 26,
   "metadata": {
    "colab": {
     "base_uri": "https://localhost:8080/"
    },
    "id": "kXiI4rOnaaum",
    "outputId": "bd7f5691-0ce6-4d66-8087-d1210c188f80"
   },
   "outputs": [
    {
     "data": {
      "text/plain": [
       "True"
      ]
     },
     "execution_count": 26,
     "metadata": {},
     "output_type": "execute_result"
    }
   ],
   "source": [
    "'15000'.isnumeric()"
   ]
  },
  {
   "cell_type": "code",
   "execution_count": 28,
   "metadata": {
    "colab": {
     "base_uri": "https://localhost:8080/"
    },
    "id": "WT0Od6iaahO1",
    "outputId": "9fd9e51e-74a2-4573-85bf-8fed1c2a2238"
   },
   "outputs": [
    {
     "data": {
      "text/plain": [
       "False"
      ]
     },
     "execution_count": 28,
     "metadata": {},
     "output_type": "execute_result"
    }
   ],
   "source": [
    "# 但是如果有小數點就會回傳 False\n",
    "'15000.0'.isnumeric()"
   ]
  },
  {
   "cell_type": "markdown",
   "metadata": {
    "id": "Yw7BAXDvak9k"
   },
   "source": [
    "## 將 List of String 變成一個 String"
   ]
  },
  {
   "cell_type": "code",
   "execution_count": 29,
   "metadata": {
    "colab": {
     "base_uri": "https://localhost:8080/",
     "height": 35
    },
    "id": "pHT_4COPbOgs",
    "outputId": "2c507f6c-8c1d-41d7-edd4-7aaa2f994542"
   },
   "outputs": [
    {
     "data": {
      "application/vnd.google.colaboratory.intrinsic+json": {
       "type": "string"
      },
      "text/plain": [
       "'abc'"
      ]
     },
     "execution_count": 29,
     "metadata": {},
     "output_type": "execute_result"
    }
   ],
   "source": [
    "lst = ['a', 'b', 'c']\n",
    "''.join(lst)"
   ]
  },
  {
   "cell_type": "markdown",
   "metadata": {
    "id": "DtH63K0RcYKW"
   },
   "source": [
    "## 將字串變成大/小寫"
   ]
  },
  {
   "cell_type": "code",
   "execution_count": 30,
   "metadata": {
    "id": "OOfPguHbd5tP"
   },
   "outputs": [],
   "source": [
    "str1 = 'hello'"
   ]
  },
  {
   "cell_type": "code",
   "execution_count": 31,
   "metadata": {
    "colab": {
     "base_uri": "https://localhost:8080/",
     "height": 35
    },
    "id": "xDAhAD2ld78s",
    "outputId": "1daac6f0-2f11-42bb-acb8-ff71e86ad817"
   },
   "outputs": [
    {
     "data": {
      "application/vnd.google.colaboratory.intrinsic+json": {
       "type": "string"
      },
      "text/plain": [
       "'HELLO'"
      ]
     },
     "execution_count": 31,
     "metadata": {},
     "output_type": "execute_result"
    }
   ],
   "source": [
    "# 變成大寫\n",
    "str1.upper()"
   ]
  },
  {
   "cell_type": "code",
   "execution_count": 32,
   "metadata": {
    "colab": {
     "base_uri": "https://localhost:8080/",
     "height": 35
    },
    "id": "68b7JWDad83Z",
    "outputId": "93b4ac25-d60e-4ee9-81ad-033975771805"
   },
   "outputs": [
    {
     "data": {
      "application/vnd.google.colaboratory.intrinsic+json": {
       "type": "string"
      },
      "text/plain": [
       "'hello'"
      ]
     },
     "execution_count": 32,
     "metadata": {},
     "output_type": "execute_result"
    }
   ],
   "source": [
    "# 變成小寫\n",
    "str1.lower()"
   ]
  }
 ],
 "metadata": {
  "colab": {
   "name": "範例程式.ipynb",
   "provenance": []
  },
  "kernelspec": {
   "display_name": "Python 3 (ipykernel)",
   "language": "python",
   "name": "python3"
  },
  "language_info": {
   "codemirror_mode": {
    "name": "ipython",
    "version": 3
   },
   "file_extension": ".py",
   "mimetype": "text/x-python",
   "name": "python",
   "nbconvert_exporter": "python",
   "pygments_lexer": "ipython3",
   "version": "3.8.10"
  }
 },
 "nbformat": 4,
 "nbformat_minor": 1
}
