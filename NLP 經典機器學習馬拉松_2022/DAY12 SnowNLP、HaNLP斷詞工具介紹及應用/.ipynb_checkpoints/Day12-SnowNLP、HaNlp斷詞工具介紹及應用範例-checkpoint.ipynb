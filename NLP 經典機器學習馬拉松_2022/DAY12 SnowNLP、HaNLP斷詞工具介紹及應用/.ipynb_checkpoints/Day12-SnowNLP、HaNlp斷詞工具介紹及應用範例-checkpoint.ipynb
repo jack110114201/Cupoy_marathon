{
 "cells": [
  {
   "cell_type": "code",
   "execution_count": 1,
   "id": "26a0b69e",
   "metadata": {
    "execution": {
     "iopub.execute_input": "2022-02-09T08:05:22.378102Z",
     "iopub.status.busy": "2022-02-09T08:05:22.377847Z",
     "iopub.status.idle": "2022-02-09T08:05:22.385377Z",
     "shell.execute_reply": "2022-02-09T08:05:22.384188Z",
     "shell.execute_reply.started": "2022-02-09T08:05:22.378070Z"
    },
    "tags": []
   },
   "outputs": [],
   "source": [
    "## Yahoo新聞\n",
    "#https://tw.news.yahoo.com/%E4%BA%94%E5%80%8D%E5%88%B8%E6%95%B8%E4%BD%8D%E7%B6%81%E5%AE%9A%E5%A4%A7%E5%A1%9E%E8%BB%8A-%E5%94%90%E9%B3%B3%E5%9B%9E%E6%87%89%E4%BA%86-023539315.html?guce_referrer=aHR0cHM6Ly93d3cuZ29vZ2xlLmNvbS50dy8&guce_referrer_sig=AQAAAAg7mi_rBYHi9PPyVDCtMPZqyxf97Prd4vKLtIrUJ6d2Bo5hdNxgQiKLbM5U4dloHFhARX9C2vS5zEKbia011RbwN5USBTL2mgCUlSPksPRGDWPh1kqJdJngtGW2EtHYlkSNmFfjXluBdBMR6PUhV5WYYwUvGQrSzfsCGm8upzH4"
   ]
  },
  {
   "cell_type": "code",
   "execution_count": 1,
   "id": "51de1fa2",
   "metadata": {
    "execution": {
     "iopub.execute_input": "2022-02-09T08:05:22.386901Z",
     "iopub.status.busy": "2022-02-09T08:05:22.386656Z",
     "iopub.status.idle": "2022-02-09T08:05:22.410258Z",
     "shell.execute_reply": "2022-02-09T08:05:22.409575Z",
     "shell.execute_reply.started": "2022-02-09T08:05:22.386864Z"
    },
    "tags": []
   },
   "outputs": [
    {
     "data": {
      "text/plain": [
       "'振興五倍券登記昨日上路，但網站塞爆，連綠委江永昌都大罵「辦公室助理拿五支手機測試，全部都進不去，政府該好好檢討」。行政院政委唐鳳今日於立院議場外受訪回應，其實網站在昨日上午10點多就恢復了。振興五倍券登記昨日上路，因數位綁定加碼的好食券限量4百萬份，加上各家信用卡、行動支付業者也採名額限量加碼，因此上午9點開放時間一到，許多民眾湧入網站登記，引發網站大塞車。 唐鳳表示，這次是採分散式綁定，網站開放的第一個小時還是陸續有20幾萬人綁定成功。因各家支付業者是各自處理網路流量，其實主網站在10點多就恢復了。 至於是否因網站堵塞，造成民眾不耐，恐引發多數人改選擇紙本綁定。唐鳳說，若會影響到本周六上路的紙本五倍券申請數量，這部分會再做因應。\\n'"
      ]
     },
     "execution_count": 1,
     "metadata": {},
     "output_type": "execute_result"
    }
   ],
   "source": [
    "text = u\"\"\"振興五倍券登記昨日上路，但網站塞爆，連綠委江永昌都大罵「辦公室助理拿五支手機測試，全部都進不去，政府該好好檢討」。行政院政委唐鳳今日於立院議場外受訪回應，其實網站在昨日上午10點多就恢復了。振興五倍券登記昨日上路，因數位綁定加碼的好食券限量4百萬份，加上各家信用卡、行動支付業者也採名額限量加碼，因此上午9點開放時間一到，許多民眾湧入網站登記，引發網站大塞車。 唐鳳表示，這次是採分散式綁定，網站開放的第一個小時還是陸續有20幾萬人綁定成功。因各家支付業者是各自處理網路流量，其實主網站在10點多就恢復了。 至於是否因網站堵塞，造成民眾不耐，恐引發多數人改選擇紙本綁定。唐鳳說，若會影響到本周六上路的紙本五倍券申請數量，這部分會再做因應。\n",
    "\"\"\"\n",
    "text"
   ]
  },
  {
   "cell_type": "markdown",
   "id": "3d3ab4aa",
   "metadata": {
    "tags": []
   },
   "source": [
    "# SnowNLP:Simplified Chinese Text Processing"
   ]
  },
  {
   "cell_type": "code",
   "execution_count": 2,
   "id": "c58b6178",
   "metadata": {
    "execution": {
     "iopub.execute_input": "2022-02-09T08:05:22.412158Z",
     "iopub.status.busy": "2022-02-09T08:05:22.411909Z",
     "iopub.status.idle": "2022-02-09T08:05:24.706654Z",
     "shell.execute_reply": "2022-02-09T08:05:24.706149Z",
     "shell.execute_reply.started": "2022-02-09T08:05:22.412131Z"
    }
   },
   "outputs": [],
   "source": [
    "# !pip install snownlp\n",
    "from snownlp import SnowNLP"
   ]
  },
  {
   "cell_type": "markdown",
   "id": "7b7153a0",
   "metadata": {},
   "source": [
    "# 斷句"
   ]
  },
  {
   "cell_type": "code",
   "execution_count": 3,
   "id": "6dafe7ef",
   "metadata": {
    "execution": {
     "iopub.execute_input": "2022-02-09T08:05:24.707784Z",
     "iopub.status.busy": "2022-02-09T08:05:24.707619Z",
     "iopub.status.idle": "2022-02-09T08:05:24.711923Z",
     "shell.execute_reply": "2022-02-09T08:05:24.711547Z",
     "shell.execute_reply.started": "2022-02-09T08:05:24.707766Z"
    },
    "tags": []
   },
   "outputs": [
    {
     "data": {
      "text/plain": [
       "['振興五倍券登記昨日上路',\n",
       " '但網站塞爆',\n",
       " '連綠委江永昌都大罵「辦公室助理拿五支手機測試',\n",
       " '全部都進不去',\n",
       " '政府該好好檢討」',\n",
       " '行政院政委唐鳳今日於立院議場外受訪回應',\n",
       " '其實網站在昨日上午10點多就恢復了',\n",
       " '振興五倍券登記昨日上路',\n",
       " '因數位綁定加碼的好食券限量4百萬份',\n",
       " '加上各家信用卡、行動支付業者也採名額限量加碼',\n",
       " '因此上午9點開放時間一到',\n",
       " '許多民眾湧入網站登記',\n",
       " '引發網站大塞車',\n",
       " '唐鳳表示',\n",
       " '這次是採分散式綁定',\n",
       " '網站開放的第一個小時還是陸續有20幾萬人綁定成功',\n",
       " '因各家支付業者是各自處理網路流量',\n",
       " '其實主網站在10點多就恢復了',\n",
       " '至於是否因網站堵塞',\n",
       " '造成民眾不耐',\n",
       " '恐引發多數人改選擇紙本綁定',\n",
       " '唐鳳說',\n",
       " '若會影響到本周六上路的紙本五倍券申請數量',\n",
       " '這部分會再做因應']"
      ]
     },
     "execution_count": 3,
     "metadata": {},
     "output_type": "execute_result"
    }
   ],
   "source": [
    "s_t = SnowNLP(text)\n",
    "s_t.sentences"
   ]
  },
  {
   "cell_type": "markdown",
   "id": "78337b52",
   "metadata": {
    "execution": {
     "iopub.execute_input": "2022-02-08T09:45:32.027118Z",
     "iopub.status.busy": "2022-02-08T09:45:32.026519Z",
     "iopub.status.idle": "2022-02-08T09:45:32.036505Z",
     "shell.execute_reply": "2022-02-08T09:45:32.035208Z",
     "shell.execute_reply.started": "2022-02-08T09:45:32.027044Z"
    }
   },
   "source": [
    "# 斷詞"
   ]
  },
  {
   "cell_type": "code",
   "execution_count": 4,
   "id": "2b57d940",
   "metadata": {
    "execution": {
     "iopub.execute_input": "2022-02-09T08:05:24.712896Z",
     "iopub.status.busy": "2022-02-09T08:05:24.712757Z",
     "iopub.status.idle": "2022-02-09T08:05:24.755484Z",
     "shell.execute_reply": "2022-02-09T08:05:24.754925Z",
     "shell.execute_reply.started": "2022-02-09T08:05:24.712880Z"
    },
    "tags": []
   },
   "outputs": [
    {
     "name": "stdout",
     "output_type": "stream",
     "text": [
      "['振', '興', '五', '倍', '券', '登', '記', '昨', '日', '上', '路', '，', '但', '網站', '塞', '爆', '，', '連', '綠委', '江', '永昌', '都', '大', '罵', '「', '辦公室', '助理', '拿', '五', '支', '手', '機', '測', '試', '，', '全', '部', '都', '進', '不', '去', '，', '政府', '該', '好', '好', '檢', '討', '」。', '行政', '院', '政', '委', '唐', '鳳', '今日', '於', '立', '院', '議', '場', '外受', '訪', '回', '應', '，', '其', '實', '網', '站', '在', '昨日', '上午', '10', '點', '多', '就', '恢', '復', '了', '。', '振', '興', '五', '倍', '券', '登', '記', '昨', '日', '上', '路', '，', '因', '數位', '綁', '定', '加', '碼', '的', '好食', '券', '限量', '4', '百', '萬份', '，', '加上', '各家', '信用卡', '、', '行', '動', '支付', '業', '者', '也', '採', '名', '額限', '量', '加', '碼', '，', '因此', '上午', '9', '點', '開', '放', '時', '間', '一', '到', '，', '許', '多', '民', '眾', '湧入', '網', '站', '登', '記', '，', '引', '發', '網站', '大', '塞', '車', '。', '唐', '鳳', '表示', '，', '這', '次', '是', '採', '分', '散式', '綁定', '，', '網站', '開放', '的', '第', '一', '個', '小', '時', '還', '是', '陸', '續', '有', '20', '幾', '萬', '人', '綁定', '成功', '。', '因', '各家', '支付', '業者', '是', '各', '自', '處理', '網路', '流量', '，', '其', '實', '主', '網', '站', '在', '10', '點', '多', '就', '恢', '復', '了', '。', '至', '於', '是', '否', '因', '網站', '堵塞', '，', '造', '成民', '眾', '不耐', '，', '恐', '引', '發', '多', '數', '人', '改', '選', '擇', '紙', '本', '綁定', '。', '唐', '鳳', '說', '，', '若', '會', '影', '響', '到', '本', '周六', '上', '路', '的', '紙', '本', '五', '倍', '券', '申', '請', '數', '量', '，', '這', '部', '分', '會', '再', '做', '因', '應', '。']\n"
     ]
    }
   ],
   "source": [
    "print(s_t.words)"
   ]
  },
  {
   "cell_type": "markdown",
   "id": "eb11aac9",
   "metadata": {},
   "source": [
    "# 詞性標記"
   ]
  },
  {
   "cell_type": "code",
   "execution_count": 5,
   "id": "bb2c22ca",
   "metadata": {
    "execution": {
     "iopub.execute_input": "2022-02-09T08:05:24.756244Z",
     "iopub.status.busy": "2022-02-09T08:05:24.756104Z",
     "iopub.status.idle": "2022-02-09T08:05:25.374875Z",
     "shell.execute_reply": "2022-02-09T08:05:25.374432Z",
     "shell.execute_reply.started": "2022-02-09T08:05:24.756228Z"
    },
    "tags": []
   },
   "outputs": [
    {
     "name": "stdout",
     "output_type": "stream",
     "text": [
      "[('振', 'Vg'), ('興', 'Ng'), ('五', 'm'), ('倍', 'q'), ('券', 'd'), ('登', 'v'), ('記', 'Rg'), ('昨', 'Rg'), ('日', 'Ng'), ('上', 'f'), ('路', 'n'), ('，', 'w'), ('但', 'c'), ('網站', 'd'), ('塞', 'v'), ('爆', 'v'), ('，', 'w'), ('連', 'Rg'), ('綠委', 'Rg'), ('江', 'nr'), ('永昌', 'nz'), ('都', 'd'), ('大', 'a'), ('罵', 'Rg'), ('「', 'Rg'), ('辦公室', 'Rg'), ('助理', 'n'), ('拿', 'v'), ('五', 'm'), ('支', 'q'), ('手', 'n'), ('機', 'o'), ('測', 'e'), ('試', 'e'), ('，', 'w'), ('全', 'a'), ('部', 'n'), ('都', 'd'), ('進', 'd'), ('不', 'd'), ('去', 'v'), ('，', 'w'), ('政府', 'n'), ('該', 'Bg'), ('好', 'a'), ('好', 'a'), ('檢', 'Rg'), ('討', 'Rg'), ('」。', 'Rg'), ('行政', 'n'), ('院', 'Ng'), ('政', 'Ng'), ('委', 'j'), ('唐', 'nr'), ('鳳', 'nr'), ('今日', 't'), ('於', 'Tg'), ('立', 'v'), ('院', 'Ng'), ('議', 'o'), ('場', 'o'), ('外受', 'e'), ('訪', 'e'), ('回', 'v'), ('應', 'y'), ('，', 'w'), ('其', 'r'), ('實', 'Tg'), ('網', 'Tg'), ('站', 'n'), ('在', 'p'), ('昨日', 't'), ('上午', 't'), ('10', 'Rg'), ('點', 'Rg'), ('多', 'Ng'), ('就', 'd'), ('恢', 'Ag'), ('復', 'Bg'), ('了', 'u'), ('。', 'w'), ('振', 'Vg'), ('興', 'Ng'), ('五', 'm'), ('倍', 'q'), ('券', 'd'), ('登', 'v'), ('記', 'Rg'), ('昨', 'Rg'), ('日', 'Ng'), ('上', 'f'), ('路', 'n'), ('，', 'w'), ('因', 'p'), ('數位', 'Rg'), ('綁', 'Rg'), ('定', 'd'), ('加', 'v'), ('碼', 'nx'), ('的', 'u'), ('好食', 'nx'), ('券', 'k'), ('限量', 'vd'), ('4', 'v'), ('百', 'm'), ('萬份', 'q'), ('，', 'w'), ('加上', 'v'), ('各家', 'r'), ('信用卡', 'n'), ('、', 'w'), ('行', 'v'), ('動', 'r'), ('支付', 'v'), ('業', 'Rg'), ('者', 'k'), ('也', 'd'), ('採', 'm'), ('名', 'q'), ('額限', 'b'), ('量', 'n'), ('加', 'v'), ('碼', 'y'), ('，', 'w'), ('因此', 'c'), ('上午', 't'), ('9', 'Tg'), ('點', 'Tg'), ('開', 'Tg'), ('放', 'v'), ('時', 'Tg'), ('間', 'Tg'), ('一', 'm'), ('到', 'v'), ('，', 'w'), ('許', 'Tg'), ('多', 'm'), ('民', 'Ng'), ('眾', 'o'), ('湧入', 'e'), ('網', 'e'), ('站', 'v'), ('登', 'v'), ('記', 'y'), ('，', 'w'), ('引', 'v'), ('發', 'Ag'), ('網站', 'Bg'), ('大', 'a'), ('塞', 'v'), ('車', 'Tg'), ('。', 'w'), ('唐', 'Tg'), ('鳳', 'Tg'), ('表示', 'v'), ('，', 'w'), ('這', 'm'), ('次', 'q'), ('是', 'v'), ('採', 'Dg'), ('分', 'v'), ('散式', 'Dg'), ('綁定', 'Ag'), ('，', 'w'), ('網站', 'Ag'), ('開放', 'Bg'), ('的', 'u'), ('第', 'm'), ('一', 'm'), ('個', 'Mg'), ('小', 'a'), ('時', 'Ag'), ('還', 'd'), ('是', 'v'), ('陸', 'Rg'), ('續', 'k'), ('有', 'v'), ('20', 'Rg'), ('幾', 'Rg'), ('萬', 'Ng'), ('人', 'n'), ('綁定', 'Dg'), ('成功', 'a'), ('。', 'w'), ('因', 'p'), ('各家', 'r'), ('支付', 'v'), ('業者', 'ad'), ('是', 'v'), ('各', 'r'), ('自', 'p'), ('處理', 'Rg'), ('網路', 'Rg'), ('流量', 'n'), ('，', 'w'), ('其', 'r'), ('實', 'Ag'), ('主', 'Vg'), ('網', 'Ng'), ('站', 'v'), ('在', 'p'), ('10', 'Rg'), ('點', 'Rg'), ('多', 'Ng'), ('就', 'd'), ('恢', 'Ag'), ('復', 'Bg'), ('了', 'u'), ('。', 'w'), ('至', 'p'), ('於', 'Tg'), ('是', 'v'), ('否', 'Vg'), ('因', 'p'), ('網站', 's'), ('堵塞', 'v'), ('，', 'w'), ('造', 'v'), ('成民', 'o'), ('眾', 'e'), ('不耐', 'e'), ('，', 'w'), ('恐', 'd'), ('引', 'v'), ('發', 'Mg'), ('多', 'a'), ('數', 'Ag'), ('人', 'n'), ('改', 'v'), ('選', 'Rg'), ('擇', 'Rg'), ('紙', 'Rg'), ('本', 'd'), ('綁定', 'Tg'), ('。', 'w'), ('唐', 'Tg'), ('鳳', 'Tg'), ('說', 'Tg'), ('，', 'w'), ('若', 'v'), ('會', 'Ag'), ('影', 'Ng'), ('響', 'Dg'), ('到', 'v'), ('本', 'r'), ('周六', 't'), ('上', 'f'), ('路', 'n'), ('的', 'u'), ('紙', 'm'), ('本', 'q'), ('五', 'm'), ('倍', 'q'), ('券', 'nr'), ('申', 'nr'), ('請', 'Dg'), ('數', 'Vg'), ('量', 'n'), ('，', 'w'), ('這', 'm'), ('部', 'q'), ('分', 'q'), ('會', 'd'), ('再', 'd'), ('做', 'v'), ('因', 'p'), ('應', 'Rg'), ('。', 'w')]\n"
     ]
    }
   ],
   "source": [
    "print(list(s_t.tags))"
   ]
  },
  {
   "cell_type": "markdown",
   "id": "5c7ab9a7",
   "metadata": {},
   "source": [
    "# 情感分析"
   ]
  },
  {
   "cell_type": "code",
   "execution_count": 6,
   "id": "1f4239ff",
   "metadata": {
    "execution": {
     "iopub.execute_input": "2022-02-09T08:05:25.375782Z",
     "iopub.status.busy": "2022-02-09T08:05:25.375623Z",
     "iopub.status.idle": "2022-02-09T08:05:25.418630Z",
     "shell.execute_reply": "2022-02-09T08:05:25.418058Z",
     "shell.execute_reply.started": "2022-02-09T08:05:25.375764Z"
    },
    "tags": []
   },
   "outputs": [
    {
     "name": "stdout",
     "output_type": "stream",
     "text": [
      "2.5014719651217376e-07\n"
     ]
    }
   ],
   "source": [
    "print(s_t.sentiments)"
   ]
  },
  {
   "cell_type": "markdown",
   "id": "c93cfffb",
   "metadata": {},
   "source": [
    "# 中文轉換成羅馬拼音"
   ]
  },
  {
   "cell_type": "code",
   "execution_count": 7,
   "id": "2d85e619",
   "metadata": {
    "execution": {
     "iopub.execute_input": "2022-02-09T08:05:25.419439Z",
     "iopub.status.busy": "2022-02-09T08:05:25.419290Z",
     "iopub.status.idle": "2022-02-09T08:05:25.422442Z",
     "shell.execute_reply": "2022-02-09T08:05:25.422071Z",
     "shell.execute_reply.started": "2022-02-09T08:05:25.419422Z"
    },
    "tags": []
   },
   "outputs": [
    {
     "name": "stdout",
     "output_type": "stream",
     "text": [
      "['zhen', '興', 'wu', 'bei', '券', 'deng', '記', 'zuo', 'ri', 'shang', 'lu', '，', 'dan', '網', 'zhan', 'sai', 'bao', '，', '連', '綠', 'wei', 'jiang', 'yong', 'chang', 'dou', 'da', '罵', '「', '辦', 'gong', 'shi', 'zhu', 'li', 'na', 'wu', 'zhi', 'shou', '機', '測', '試', '，', 'quan', 'bu', 'dou', '進', 'bu', 'qu', '，', 'zheng', 'fu', '該', 'hao', 'hao', '檢', '討', '」。', 'xing', 'zheng', 'yuan', 'zheng', 'wei', 'tang', '鳳', 'jin', 'ri', '於', 'li', 'yuan', '議', '場', 'wai', 'shou', '訪', 'hui', '應', '，', 'qi', '實', '網', 'zhan', 'zai', 'zuo', 'ri', 'shang', 'wu', '10', '點', 'duo', 'jiu', '恢', '復', 'liao', '。', 'zhen', '興', 'wu', 'bei', '券', 'deng', '記', 'zuo', 'ri', 'shang', 'lu', '，', 'yin', '數', 'wei', '綁', 'ding', 'jia', '碼', 'de', 'hao', 'shi', '券', 'xian', 'liang', '4', 'bai', '萬', 'fen', '，', 'jia', 'shang', 'ge', 'jia', 'xin', 'yong', 'qia', '、', 'xing', '動', 'zhi', 'fu', '業', 'zhe', 'ye', '採', 'ming', '額', 'xian', 'liang', 'jia', '碼', '，', 'yin', 'ci', 'shang', 'wu', '9', '點', '開', 'fang', '時', '間', 'yi', 'dao', '，', '許', 'duo', 'min', '眾', '湧', 'ru', '網', 'zhan', 'deng', '記', '，', 'yin', '發', '網', 'zhan', 'da', 'sai', '車', '。', 'tang', '鳳', 'biao', 'shi', '，', '這', 'ci', 'shi', '採', 'fen', 'san', 'shi', '綁', 'ding', '，', '網', 'zhan', '開', 'fang', 'de', 'di', 'yi', '個', 'xiao', '時', '還', 'shi', '陸', '續', 'you', '20', '幾', '萬', 'ren', '綁', 'ding', 'cheng', 'gong', '。', 'yin', 'ge', 'jia', 'zhi', 'fu', '業', 'zhe', 'shi', 'ge', 'zi', '處', 'li', '網', 'lu', 'liu', 'liang', '，', 'qi', '實', 'zhu', '網', 'zhan', 'zai', '10', '點', 'duo', 'jiu', '恢', '復', 'liao', '。', 'zhi', '於', 'shi', 'fou', 'yin', '網', 'zhan', 'du', 'se', '，', 'zao', 'cheng', 'min', '眾', 'bu', 'nai', '，', 'kong', 'yin', '發', 'duo', '數', 'ren', 'gai', '選', '擇', '紙', 'ben', '綁', 'ding', '。', 'tang', '鳳', '說', '，', 'ruo', '會', 'ying', '響', 'dao', 'ben', 'zhou', 'liu', 'shang', 'lu', 'de', '紙', 'ben', 'wu', 'bei', '券', 'shen', '請', '數', 'liang', '，', '這', 'bu', 'fen', '會', 'zai', 'zuo', 'yin', '應', '。']\n"
     ]
    }
   ],
   "source": [
    "print(s_t.pinyin)"
   ]
  },
  {
   "cell_type": "markdown",
   "id": "710dbf6c",
   "metadata": {},
   "source": [
    "# 繁體轉簡體"
   ]
  },
  {
   "cell_type": "code",
   "execution_count": 8,
   "id": "cd2f0f33",
   "metadata": {
    "execution": {
     "iopub.execute_input": "2022-02-09T08:05:25.423681Z",
     "iopub.status.busy": "2022-02-09T08:05:25.423534Z",
     "iopub.status.idle": "2022-02-09T08:05:25.426464Z",
     "shell.execute_reply": "2022-02-09T08:05:25.425978Z",
     "shell.execute_reply.started": "2022-02-09T08:05:25.423664Z"
    },
    "tags": []
   },
   "outputs": [
    {
     "name": "stdout",
     "output_type": "stream",
     "text": [
      "振兴五倍券登记昨日上路，但网站塞爆，连绿委江永昌都大骂「办公室助理拿五支手机测试，全部都进不去，政府该好好检讨」。行政院政委唐凤今日于立院议场外受访回应，其实网站在昨日上午10点多就恢复了。振兴五倍券登记昨日上路，因子位绑定加码的好食券限量4百万份，加上各家信用卡、行动支付业者也采名额限量加码，因此上午9点开放时间一到，许多民众湧入网站登记，引发网站大塞车。 唐凤表示，这次是采分布式绑定，网站开放的第一个小时还是陆续有20几万人绑定成功。因各家支付业者是各自处理网络流量，其实主网站在10点多就恢复了。 至于是否因网站堵塞，造成民众不耐，恐引发多数人改选择纸本绑定。唐凤说，若会影响到本周六上路的纸本五倍券申请数量，这部分会再做因应。\n",
      "\n"
     ]
    }
   ],
   "source": [
    "print(s_t.han)"
   ]
  },
  {
   "cell_type": "markdown",
   "id": "de546096",
   "metadata": {},
   "source": [
    "# 提取文本關鍵詞"
   ]
  },
  {
   "cell_type": "code",
   "execution_count": 9,
   "id": "2eb5dbef",
   "metadata": {
    "execution": {
     "iopub.execute_input": "2022-02-09T08:05:25.427315Z",
     "iopub.status.busy": "2022-02-09T08:05:25.427170Z",
     "iopub.status.idle": "2022-02-09T08:05:25.476507Z",
     "shell.execute_reply": "2022-02-09T08:05:25.476140Z",
     "shell.execute_reply.started": "2022-02-09T08:05:25.427299Z"
    },
    "tags": []
   },
   "outputs": [
    {
     "name": "stdout",
     "output_type": "stream",
     "text": [
      "['券', '五', '網站', '都', '網']\n"
     ]
    }
   ],
   "source": [
    "print(s_t.keywords(5))"
   ]
  },
  {
   "cell_type": "markdown",
   "id": "dd827a16",
   "metadata": {},
   "source": [
    "# 提取文本摘要"
   ]
  },
  {
   "cell_type": "code",
   "execution_count": 10,
   "id": "543a2da9",
   "metadata": {
    "execution": {
     "iopub.execute_input": "2022-02-09T08:05:25.477228Z",
     "iopub.status.busy": "2022-02-09T08:05:25.477089Z",
     "iopub.status.idle": "2022-02-09T08:05:25.521431Z",
     "shell.execute_reply": "2022-02-09T08:05:25.521052Z",
     "shell.execute_reply.started": "2022-02-09T08:05:25.477212Z"
    },
    "tags": []
   },
   "outputs": [
    {
     "name": "stdout",
     "output_type": "stream",
     "text": [
      "['振興五倍券登記昨日上路', '振興五倍券登記昨日上路', '其實網站在昨日上午10點多就恢復了', '若會影響到本周六上路的紙本五倍券申請數量', '引發網站大塞車']\n"
     ]
    }
   ],
   "source": [
    "print(s_t.summary(5))"
   ]
  },
  {
   "cell_type": "markdown",
   "id": "80f527be",
   "metadata": {},
   "source": [
    "# HanLP:Han Language Processing"
   ]
  },
  {
   "cell_type": "code",
   "execution_count": 11,
   "id": "4cf5e7c6",
   "metadata": {
    "execution": {
     "iopub.execute_input": "2022-02-09T08:05:25.522196Z",
     "iopub.status.busy": "2022-02-09T08:05:25.522050Z",
     "iopub.status.idle": "2022-02-09T08:05:25.610579Z",
     "shell.execute_reply": "2022-02-09T08:05:25.609740Z",
     "shell.execute_reply.started": "2022-02-09T08:05:25.522179Z"
    },
    "tags": []
   },
   "outputs": [],
   "source": [
    "# !pip install hanlp\n",
    "import hanlp"
   ]
  },
  {
   "cell_type": "markdown",
   "id": "48832cf9",
   "metadata": {},
   "source": [
    "# 斷詞"
   ]
  },
  {
   "cell_type": "code",
   "execution_count": 12,
   "id": "07f047fd",
   "metadata": {
    "tags": []
   },
   "outputs": [
    {
     "name": "stderr",
     "output_type": "stream",
     "text": [
      "Downloading https://file.hankcs.com/hanlp/tok/coarse_electra_small_zh_20210603_112321.zip to /home/weiche/.hanlp/tok/coarse_electra_small_zh_20210603_112321.zip\n",
      "100%  43.6 MiB   1.6 MiB/s ETA:  0 s [=============================================================]\n",
      "Decompressing /home/weiche/.hanlp/tok/coarse_electra_small_zh_20210603_112321.zip to /home/weiche/.hanlp/tok\n",
      "Downloading https://file.hankcs.com/hanlp/utils/char_table_20210602_202632.json.zip to /home/weiche/.hanlp/utils/char_table_20210602_202632.json.zip\n",
      "100%  26.7 KiB  26.7 KiB/s ETA:  0 s [=============================================================]\n",
      "Decompressing /home/weiche/.hanlp/utils/char_table_20210602_202632.json.zip to /home/weiche/.hanlp/utils\n",
      "Downloading https://file.hankcs.com/hanlp/transformers/electra_zh_small_20210706_125427.zip to /home/weiche/.hanlp/transformers/electra_zh_small_20210706_125427.zip\n",
      "100%  41.2 KiB  41.2 KiB/s ETA:  0 s [=============================================================]\n",
      "Decompressing /home/weiche/.hanlp/transformers/electra_zh_small_20210706_125427.zip to /home/weiche/.hanlp/transformers\n",
      "                                   \r"
     ]
    },
    {
     "data": {
      "text/plain": [
       "[['商品', '和', '服務', '。'],\n",
       " ['台北市',\n",
       "  '市長',\n",
       "  '來到',\n",
       "  '南港',\n",
       "  '軟體',\n",
       "  '科學',\n",
       "  '園區',\n",
       "  '參觀',\n",
       "  '自然',\n",
       "  '語言',\n",
       "  '處理',\n",
       "  '科技',\n",
       "  '公司',\n",
       "  '。']]"
      ]
     },
     "execution_count": 12,
     "metadata": {},
     "output_type": "execute_result"
    }
   ],
   "source": [
    "tok = hanlp.load(hanlp.pretrained.tok.COARSE_ELECTRA_SMALL_ZH)\n",
    "tok(['商品和服務。 ', '台北市市長來到南港軟體科學園區參觀自然語言處理科技公司。'])"
   ]
  },
  {
   "cell_type": "markdown",
   "id": "5725ccec",
   "metadata": {},
   "source": [
    "# 詞性標記"
   ]
  },
  {
   "cell_type": "code",
   "execution_count": 13,
   "id": "c02ab491",
   "metadata": {
    "execution": {
     "iopub.status.busy": "2022-02-09T08:05:32.291317Z",
     "iopub.status.idle": "2022-02-09T08:05:32.291597Z",
     "shell.execute_reply": "2022-02-09T08:05:32.291461Z"
    }
   },
   "outputs": [
    {
     "name": "stderr",
     "output_type": "stream",
     "text": [
      "Downloading https://file.hankcs.com/hanlp/pos/ctb9_pos_electra_small_20220118_164341.zip to /home/weiche/.hanlp/pos/ctb9_pos_electra_small_20220118_164341.zip\n",
      "100%  43.6 MiB   2.2 MiB/s ETA:  0 s [=============================================================]\n",
      "Decompressing /home/weiche/.hanlp/pos/ctb9_pos_electra_small_20220118_164341.zip to /home/weiche/.hanlp/pos\n",
      "                                   \r"
     ]
    },
    {
     "data": {
      "text/plain": [
       "['PN', 'DEG', 'NN', 'VC', 'VV', 'NN', 'VV']"
      ]
     },
     "execution_count": 13,
     "metadata": {},
     "output_type": "execute_result"
    }
   ],
   "source": [
    "pos = hanlp.load(hanlp.pretrained.pos.CTB9_POS_ELECTRA_SMALL)\n",
    "pos(['我', '的', '希望', '是', '希望', '疫情', '結束'])"
   ]
  },
  {
   "cell_type": "markdown",
   "id": "d91177cf",
   "metadata": {},
   "source": [
    "# 命名實體識別"
   ]
  },
  {
   "cell_type": "code",
   "execution_count": 14,
   "id": "c2006b62",
   "metadata": {
    "execution": {
     "iopub.status.busy": "2022-02-09T08:05:32.292343Z",
     "iopub.status.idle": "2022-02-09T08:05:32.292600Z",
     "shell.execute_reply": "2022-02-09T08:05:32.292477Z"
    },
    "tags": []
   },
   "outputs": [
    {
     "name": "stderr",
     "output_type": "stream",
     "text": [
      "Downloading https://file.hankcs.com/hanlp/ner/msra_ner_electra_small_20210807_154832.zip to /home/weiche/.hanlp/ner/msra_ner_electra_small_20210807_154832.zip\n",
      "100%  45.0 MiB 133.1 KiB/s ETA:  0 s [=============================================================]\n",
      "Decompressing /home/weiche/.hanlp/ner/msra_ner_electra_small_20210807_154832.zip to /home/weiche/.hanlp/ner\n",
      "                                   \r"
     ]
    },
    {
     "name": "stdout",
     "output_type": "stream",
     "text": [
      "[[('2021年', 'DATE', 0, 1)], [('台北市', 'LOCATION', 0, 1), ('南港軟體科學園區', 'LOCATION', 3, 7), ('自然語言處理科技公司', 'ORGANIZATION', 8, 13)]]\n"
     ]
    }
   ],
   "source": [
    "ner = hanlp.load(hanlp.pretrained.ner.MSRA_NER_ELECTRA_SMALL_ZH)\n",
    "print(ner([[\"2021年\", \"HanLPv2.1\", \"是\", \"次\", \"世代\", \"最\", \"先進\", \"的\", \"NLP\", \"技術\", \"。\"], \n",
    "           [\"台北市\", \"市長\", \"來到\", \"南港\", \"軟體\", \"科學\", \"園區\", \"參觀\", \"自然\", \"語言\", \"處理\", \"科技\", \"公司\", \"。 \"]], tasks='ner*'))"
   ]
  }
 ],
 "metadata": {
  "kernelspec": {
   "display_name": "Python 3 (ipykernel)",
   "language": "python",
   "name": "python3"
  },
  "language_info": {
   "codemirror_mode": {
    "name": "ipython",
    "version": 3
   },
   "file_extension": ".py",
   "mimetype": "text/x-python",
   "name": "python",
   "nbconvert_exporter": "python",
   "pygments_lexer": "ipython3",
   "version": "3.7.3"
  }
 },
 "nbformat": 4,
 "nbformat_minor": 5
}
