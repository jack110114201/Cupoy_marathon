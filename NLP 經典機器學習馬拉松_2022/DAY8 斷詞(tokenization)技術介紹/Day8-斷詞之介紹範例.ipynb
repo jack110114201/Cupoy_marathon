{
 "cells": [
  {
   "cell_type": "markdown",
   "id": "a3d8a67e-5295-4f00-b4b2-b40fa6426bd6",
   "metadata": {},
   "source": [
    "# 英文斷詞範例"
   ]
  },
  {
   "cell_type": "code",
   "execution_count": 8,
   "id": "ffa11a59-71aa-4006-b5e7-ffbe35308a6e",
   "metadata": {},
   "outputs": [],
   "source": [
    "text = \"\"\"Climate change threantens people with food and water scarcity\"\"\""
   ]
  },
  {
   "cell_type": "code",
   "execution_count": 9,
   "id": "5da2fbc5-65b6-4179-8a42-bfe45fe5563f",
   "metadata": {},
   "outputs": [
    {
     "data": {
      "text/plain": [
       "['Climate',\n",
       " 'change',\n",
       " 'threantens',\n",
       " 'people',\n",
       " 'with',\n",
       " 'food',\n",
       " 'and',\n",
       " 'water',\n",
       " 'scarcity']"
      ]
     },
     "execution_count": 9,
     "metadata": {},
     "output_type": "execute_result"
    }
   ],
   "source": [
    "sentence = text.split(\" \") # 以句號作為分隔基準\n",
    "sentence"
   ]
  },
  {
   "cell_type": "markdown",
   "id": "38f6bd2b-4ac0-49e9-9894-8e3fa742a866",
   "metadata": {},
   "source": [
    "# 中文斷詞範例"
   ]
  },
  {
   "cell_type": "code",
   "execution_count": 2,
   "id": "c9db3c94-d542-4d77-8c20-97db3ca074c1",
   "metadata": {},
   "outputs": [],
   "source": [
    "# -*- coding: utf-8 -*-\n",
    "import jieba\n",
    "#https://clay-atlas.com/blog/2019/09/23/python-chinese-tutorial-tokenizer-jieba/"
   ]
  },
  {
   "cell_type": "code",
   "execution_count": 4,
   "id": "5905f8a8-d67b-421f-a602-f54e5189f1dd",
   "metadata": {},
   "outputs": [
    {
     "name": "stdout",
     "output_type": "stream",
     "text": [
      "預設: 新冠|肺炎|疫情|未歇|，|各地|春節|備戰|，|防疫|大考|驗|。\n"
     ]
    }
   ],
   "source": [
    "text = '新冠肺炎疫情未歇，各地春節備戰，防疫大考驗。'\n",
    "print('預設:', '|'.join(jieba.cut(text, cut_all=False, HMM=True)))"
   ]
  },
  {
   "cell_type": "code",
   "execution_count": null,
   "id": "0eb36c29-71f0-433c-a936-80216cd94d3c",
   "metadata": {},
   "outputs": [],
   "source": []
  }
 ],
 "metadata": {
  "kernelspec": {
   "display_name": "base",
   "language": "python",
   "name": "base"
  },
  "language_info": {
   "codemirror_mode": {
    "name": "ipython",
    "version": 3
   },
   "file_extension": ".py",
   "mimetype": "text/x-python",
   "name": "python",
   "nbconvert_exporter": "python",
   "pygments_lexer": "ipython3",
   "version": "3.8.8"
  }
 },
 "nbformat": 4,
 "nbformat_minor": 5
}
