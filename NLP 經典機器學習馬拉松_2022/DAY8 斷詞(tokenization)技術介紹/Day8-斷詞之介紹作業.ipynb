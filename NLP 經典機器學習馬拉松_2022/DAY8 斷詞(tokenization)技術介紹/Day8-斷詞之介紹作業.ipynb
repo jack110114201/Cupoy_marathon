{
 "cells": [
  {
   "cell_type": "code",
   "execution_count": null,
   "id": "8eaf3073",
   "metadata": {},
   "outputs": [],
   "source": [
    "Q1:請簡述為何我們需要斷詞?"
   ]
  },
  {
   "cell_type": "code",
   "execution_count": null,
   "id": "c552d9d9",
   "metadata": {},
   "outputs": [],
   "source": [
    "A:\n",
    "文本本身是一種非數值化的資料，無法直接被計算。\n",
    "將單詞向量化之前，需要先將詞從句子中擷取出來，因為詞是最小有意義且可以自由使用的語言單位。任何需要處理語言的任務都必須先能分辨文本中的詞，才能進行進一步的處理。"
   ]
  },
  {
   "cell_type": "code",
   "execution_count": null,
   "id": "5ce94240",
   "metadata": {},
   "outputs": [],
   "source": [
    "Q2:請簡述一種簡單的方法將英文文本斷詞。"
   ]
  },
  {
   "cell_type": "code",
   "execution_count": null,
   "id": "3af41dc5",
   "metadata": {},
   "outputs": [],
   "source": [
    "A:\n",
    "利用空白間格便可以將詞斷出"
   ]
  },
  {
   "cell_type": "code",
   "execution_count": null,
   "id": "70b0e9fb",
   "metadata": {},
   "outputs": [],
   "source": [
    "Q3:請說明漢語語系文字斷詞的難點。"
   ]
  },
  {
   "cell_type": "code",
   "execution_count": null,
   "id": "23b3dd7a",
   "metadata": {},
   "outputs": [],
   "source": [
    "A:\n",
    "漢語語系句子中沒有詞的界限。"
   ]
  },
  {
   "cell_type": "code",
   "execution_count": null,
   "id": "61f803d0",
   "metadata": {},
   "outputs": [],
   "source": [
    "Q4:請列出三個常見的斷詞方法。"
   ]
  },
  {
   "cell_type": "code",
   "execution_count": null,
   "id": "2f532ecc",
   "metadata": {},
   "outputs": [],
   "source": [
    "A:\n",
    "1.基於詞典的分詞法\n",
    "2.基於統計的機器學習算法\n",
    "3.基於深度學習的算法"
   ]
  }
 ],
 "metadata": {
  "kernelspec": {
   "display_name": "Python 3 (ipykernel)",
   "language": "python",
   "name": "python3"
  },
  "language_info": {
   "codemirror_mode": {
    "name": "ipython",
    "version": 3
   },
   "file_extension": ".py",
   "mimetype": "text/x-python",
   "name": "python",
   "nbconvert_exporter": "python",
   "pygments_lexer": "ipython3",
   "version": "3.7.3"
  }
 },
 "nbformat": 4,
 "nbformat_minor": 5
}
