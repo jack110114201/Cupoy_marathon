{
 "cells": [
  {
   "cell_type": "code",
   "execution_count": null,
   "id": "b5edf5cf",
   "metadata": {
    "tags": []
   },
   "outputs": [],
   "source": [
    "## Yahoo新聞\n",
    "# https://tw.news.yahoo.com/%E7%BE%8E%E5%9C%8B%E6%96%B0%E5%86%A0%E6%AD%BB%E4%BA%A1%E6%95%B8%E4%B8%96%E7%95%8C%E6%9C%80%E9%AB%98-omicron%E6%AD%BB%E4%BA%A1%E6%95%B8%E8%B6%85%E8%B6%8Adelta-044821350.html"
   ]
  },
  {
   "cell_type": "code",
   "execution_count": 2,
   "id": "6a76f396",
   "metadata": {
    "execution": {
     "iopub.execute_input": "2022-02-07T09:17:42.503040Z",
     "iopub.status.busy": "2022-02-07T09:17:42.502498Z",
     "iopub.status.idle": "2022-02-07T09:17:42.512012Z",
     "shell.execute_reply": "2022-02-07T09:17:42.510736Z",
     "shell.execute_reply.started": "2022-02-07T09:17:42.502978Z"
    },
    "tags": []
   },
   "outputs": [],
   "source": [
    "text = \"\"\"美國新冠死亡數世界最高 Omicron死亡數超越Delta\n",
    "英國衛報報導，美國新冠肺炎死亡病例逼近90萬，是全球所有國家中最多，相當於美國第15大城，比舊金山、華府或波士頓的人口都多。\n",
    "此外，美國新冠死亡率也是富國中最高，其中半數死亡病例發生在疫苗問世後。\n",
    "美國從未以全國一致且持久、主動的方式防疫，多數防疫責任落在個人身上。在收入極不平等、公共衛生不健全、政治對立嚴重的美國，防疫結果可想而知。\n",
    "美國尤其在疫苗接種方面落後，特別是與其他富國相比。醫療體系在遭遇一波波疫情衝擊前就已不穩。\n",
    "其他在疫情早期死亡數也很多的國家，在新冠病毒變異株Omicron擴散後，死亡數就下降，但美國的Omicron死亡病例已超越去年秋天Delta變異株疫情的死亡病例。\n",
    "同時，美國領袖想模仿其他國家回歸正常生活，但住院和死亡數明明與其他國家大相逕庭。美國平均每天新冠死亡數超過2400人，逼近911恐攻死亡數。\n",
    "布朗大學教務長、急診醫師梅根．蘭尼說：「問題主要是疫苗和加強針接種率不高，比多數高收入國家低。疾管署大量資料顯示，疫苗和加強針能有效防止新冠死亡，甚至在Omicron流行時也是。」\n",
    "美國疫苗供應充足，但疫苗接種率約64%，加強針接種率48%。\"\"\"\n"
   ]
  },
  {
   "cell_type": "markdown",
   "id": "de661db7",
   "metadata": {},
   "source": [
    "# Q1: 請先去除換行符號，並使用jieba斷詞。"
   ]
  },
  {
   "cell_type": "code",
   "execution_count": 3,
   "id": "8305e93c",
   "metadata": {
    "tags": []
   },
   "outputs": [
    {
     "name": "stderr",
     "output_type": "stream",
     "text": [
      "Building prefix dict from the default dictionary ...\n",
      "Loading model from cache /tmp/jieba.cache\n",
      "Loading model cost 0.329 seconds.\n",
      "Prefix dict has been built successfully.\n"
     ]
    },
    {
     "name": "stdout",
     "output_type": "stream",
     "text": [
      "['美國', '新冠', '死亡', '數', '世界', '最高', ' ', 'Omicron', '死亡', '數', '超越', 'Delta', '英國衛報', '報導', '，', '美國', '新冠', '肺炎', '死亡', '病例', '逼近', '90', '萬', '，', '是', '全球', '所有', '國', '家中', '最', '多', '，', '相當', '於', '美國', '第', '15', '大城', '，', '比舊', '金山', '、', '華府', '或', '波士', '頓', '的', '人口', '都', '多', '。', '此外', '，', '美國', '新冠', '死亡率', '也', '是', '富國', '中', '最高', '，', '其中', '半數', '死亡', '病例', '發生', '在', '疫苗', '問世', '後', '。', '美國', '從', '未', '以', '全國', '一致', '且', '持久', '、', '主動', '的', '方式', '防疫', '，', '多數', '防疫', '責任', '落', '在', '個', '人', '身上', '。', '在', '收入', '極不', '平等', '、', '公共', '衛生', '不', '健全', '、', '政治', '對立', '嚴重', '的', '美國', '，', '防疫', '結果', '可想而知', '。', '美國', '尤其', '在', '疫苗', '接種', '方面', '落', '後', '，', '特別', '是', '與', '其他', '富國', '相比', '。', '醫療', '體系', '在', '遭遇', '一', '波波', '疫情', '衝擊', '前', '就', '已', '不穩', '。', '其他', '在', '疫情', '早期', '死亡', '數也', '很多', '的', '國家', '，', '在', '新冠', '病毒', '變異株', 'Omicron', '擴散', '後', '，', '死亡', '數就', '下降', '，', '但', '美國', '的', 'Omicron', '死亡', '病例', '已', '超越', '去年', '秋天', 'Delta', '變異株', '疫情', '的', '死亡', '病例', '。', '同時', '，', '美國', '領袖', '想', '模仿', '其他', '國家', '回歸', '正常', '生活', '，', '但', '住院', '和', '死亡', '數', '明明', '與', '其他', '國家', '大', '相', '逕', '庭', '。', '美國', '平均', '每天', '新冠', '死亡', '數超過', '2400', '人', '，', '逼近', '911', '恐攻', '死亡', '數', '。', '布朗', '大學', '教務長', '、', '急診', '醫師', '梅根', '．', '蘭尼說', '：', '「', '問題', '主要', '是', '疫苗', '和', '加強', '針接', '種率', '不高', '，', '比多數', '高', '收入', '國家', '低', '。', '疾管署', '大量', '資料', '顯示', '，', '疫苗', '和', '加強', '針能', '有效', '防止', '新冠', '死亡', '，', '甚至', '在', 'Omicron', '流行', '時', '也', '是', '。', '」', '美國', '疫苗', '供應', '充足', '，', '但', '疫苗', '接種', '率', '約', '64%', '，', '加強', '針接', '種率', '48%', '。']\n"
     ]
    }
   ],
   "source": [
    "#A:\n",
    "\"\"\"\n",
    "(提示)\n",
    "有三種方法可以使用：\n",
    "1.cut & join\n",
    "2.cut 並用 python 的 generator\n",
    "3.lcut\n",
    "\"\"\"\n",
    "\n",
    "import jieba\n",
    "\n",
    "text = text.replace('\\n','')\n",
    "print(jieba.lcut(text))\n",
    "\n"
   ]
  },
  {
   "cell_type": "markdown",
   "id": "0b82facb",
   "metadata": {},
   "source": [
    "# Q2: 請使用建立自己的的字典並成功分類'梅根．蘭尼'與'布朗大學˙。"
   ]
  },
  {
   "cell_type": "code",
   "execution_count": 19,
   "id": "1c7ddab7",
   "metadata": {
    "tags": []
   },
   "outputs": [
    {
     "name": "stdout",
     "output_type": "stream",
     "text": [
      "['美國', '新冠', '死亡', '數', '世界', '最高', ' ', 'Omicron', '死亡', '數', '超越', 'Delta', '英國衛報', '報導', '，', '美國', '新冠', '肺炎', '死亡', '病例', '逼近', '90', '萬', '，', '是', '全球', '所有', '國', '家中', '最', '多', '，', '相當', '於', '美國', '第', '15', '大城', '，', '比舊', '金山', '、', '華府', '或', '波士', '頓', '的', '人口', '都', '多', '。', '此外', '，', '美國', '新冠', '死亡率', '也', '是', '富國', '中', '最高', '，', '其中', '半數', '死亡', '病例', '發生', '在', '疫苗', '問世', '後', '。', '美國', '從', '未', '以', '全國', '一致', '且', '持久', '、', '主動', '的', '方式', '防疫', '，', '多數', '防疫', '責任', '落', '在', '個', '人', '身上', '。', '在', '收入', '極不', '平等', '、', '公共', '衛生', '不', '健全', '、', '政治', '對立', '嚴重', '的', '美國', '，', '防疫', '結果', '可想而知', '。', '美國', '尤其', '在', '疫苗', '接種', '方面', '落', '後', '，', '特別', '是', '與', '其他', '富國', '相比', '。', '醫療', '體系', '在', '遭遇', '一', '波波', '疫情', '衝擊', '前', '就', '已', '不穩', '。', '其他', '在', '疫情', '早期', '死亡', '數也', '很多', '的', '國家', '，', '在', '新冠', '病毒', '變異株', 'Omicron', '擴散', '後', '，', '死亡', '數就', '下降', '，', '但', '美國', '的', 'Omicron', '死亡', '病例', '已', '超越', '去年', '秋天', 'Delta', '變異株', '疫情', '的', '死亡', '病例', '。', '同時', '，', '美國', '領袖', '想', '模仿', '其他', '國家', '回歸', '正常', '生活', '，', '但', '住院', '和', '死亡', '數', '明明', '與', '其他', '國家', '大', '相', '逕', '庭', '。', '美國', '平均', '每天', '新冠', '死亡', '數超過', '2400', '人', '，', '逼近', '911', '恐攻', '死亡', '數', '。', '布朗大學', '教務長', '、', '急診', '醫師', '梅根', '．', '蘭尼說', '：', '「', '問題', '主要', '是', '疫苗', '和', '加強', '針接', '種率', '不高', '，', '比多數', '高', '收入', '國家', '低', '。', '疾管署', '大量', '資料', '顯示', '，', '疫苗', '和', '加強', '針能', '有效', '防止', '新冠', '死亡', '，', '甚至', '在', 'Omicron', '流行', '時', '也', '是', '。', '」', '美國', '疫苗', '供應', '充足', '，', '但', '疫苗', '接種', '率', '約', '64%', '，', '加強', '針接', '種率', '48%', '。']\n"
     ]
    }
   ],
   "source": [
    "#A:\n",
    "\"\"\"\n",
    "(提示)\n",
    "將'梅根．蘭尼'與'布朗大學˙加入自訂字典，再重新斷詞一次\n",
    "\"\"\"\n",
    "\n",
    "jieba.load_userdict('./userDict.txt')\n",
    "text = text.replace('\\n','')\n",
    "#print(text)\n",
    "print(jieba.lcut(text))"
   ]
  },
  {
   "cell_type": "markdown",
   "id": "ccfdc5ef",
   "metadata": {
    "execution": {
     "iopub.execute_input": "2022-02-07T09:08:37.911013Z",
     "iopub.status.busy": "2022-02-07T09:08:37.910456Z",
     "iopub.status.idle": "2022-02-07T09:08:37.916525Z",
     "shell.execute_reply": "2022-02-07T09:08:37.915337Z",
     "shell.execute_reply.started": "2022-02-07T09:08:37.910953Z"
    }
   },
   "source": [
    "# Q3: 請使用jieba進行詞性標記 (POS)"
   ]
  },
  {
   "cell_type": "code",
   "execution_count": 13,
   "id": "041e6daa",
   "metadata": {
    "tags": []
   },
   "outputs": [
    {
     "name": "stdout",
     "output_type": "stream",
     "text": [
      "美國 ns 新冠 n 死亡 v 數 zg 世界 n 最高 a   x Omicron eng 死亡 v 數 zg 超越 v Delta eng 英國 ns 衛報 n 報導 n ， x 美國 ns 新冠 n 肺炎 n 死亡 v 病例 n 逼近 v 90 m 萬 m ， x 是 v 全球 n 所有 b 國 zg 家中 s 最 d 多 m ， x 相當 d 於 nr 美國 ns 第 m 15 m 大城 ns ， x 比舊 d 金山 nr 、 x 華府 n 或 c 波士 ns 頓 q 的 uj 人口 n 都 d 多 m 。 x 此外 c ， x 美國 ns 新冠 n 死亡率 n 也 d 是 v 富國 ns 中 ns 最高 a ， x 其中 r 半數 m 死亡 v 病例 n 發生 v 在 p 疫苗 n 問世 n 後 nr 。 x 美國 ns 從未 d 以 p 全國 n 一致 d 且 zg 持久 a 、 x 主動 b 的 uj 方式 n 防疫 vn ， x 多數 m 防疫 vn 責任 n 落 v 在 p 個 m 人 n 身上 s 。 x 在 p 收入 v 極不 d 平等 a 、 x 公共 b 衛生 an 不 d 健全 a 、 x 政治 n 對立 v 嚴重 a 的 uj 美國 ns ， x 防疫 vn 結果 n 可想而知 l 。 x 美國 ns 尤其 d 在 p 疫苗 n 接種 v 方面 n 落 v 後 nr ， x 特別 d 是 v 與 p 其他 r 富國 ns 相比 v 。 x 醫療 n 體系 n 在 p 遭遇 n 一 m 波波 ns 疫情 n 衝擊 vn 前 f 就 d 已 d 不穩 a 。 x 其他 r 在 p 疫情 n 早期 t 死亡 v 數 m 也 d 很多 m 的 uj 國家 n ， x 在 p 新冠 n 病毒 n 變異株 l Omicron eng 擴散 v 後 nr ， x 死亡 v 數 m 就 d 下降 v ， x 但 c 美國 ns 的 uj Omicron eng 死亡 v 病例 n 已 d 超越 v 去年 t 秋天 t Delta eng 變異株 l 疫情 n 的 uj 死亡 v 病例 n 。 x 同時 c ， x 美國 ns 領袖 n 想 v 模仿 v 其他 r 國家 n 回歸 v 正常 d 生活 vn ， x 但 c 住院 n 和 c 死亡 v 數 zg 明明 t 與 zg 其他 r 國家大相 nr 逕 zg 庭 ng 。 x 美國 ns 平均 a 每天 r 新冠 n 死亡 v 數 m 超過 v 2400 m 人 n ， x 逼近 v 911 m 恐 d 攻 v 死亡 v 數 zg 。 x 布朗大學 x 教務長 n 、 x 急診 v 醫師 n 梅根 nr ． x 蘭尼 nr 說 v ： x 「 x 問題 n 主要 b 是 v 疫苗 n 和 c 加強 v 針接 b 種率 n 不 d 高 a ， x 比 p 多數 m 高 a 收入 v 國家 n 低 a 。 x 疾管署 n 大量 n 資料 n 顯示 v ， x 疫苗 n 和 c 加強 v 針能 n 有效 a 防止 v 新冠 n 死亡 v ， x 甚至 d 在 p Omicron eng 流行 v 時 ng 也 d 是 v 。 x 」 x 美國 ns 疫苗 n 供應 vn 充足 a ， x 但 c 疫苗 n 接 v 種率 n 約 d 64 m % x ， x 加強 v 針接 b 種率 n 48 m % x 。 x "
     ]
    }
   ],
   "source": [
    "#A:\n",
    "\"\"\"\n",
    "(提示)\n",
    "1.先import packege\n",
    "2.並使用xxxx.cut( )\n",
    "\"\"\"\n",
    "import jieba.posseg as pseg\n",
    "words = pseg.cut(text)\n",
    "for word, flag in words:\n",
    "    print(word, flag, end=\" \")"
   ]
  },
  {
   "cell_type": "markdown",
   "id": "7e84d092",
   "metadata": {
    "execution": {
     "iopub.execute_input": "2022-02-07T09:10:30.548895Z",
     "iopub.status.busy": "2022-02-07T09:10:30.548398Z",
     "iopub.status.idle": "2022-02-07T09:10:30.553679Z",
     "shell.execute_reply": "2022-02-07T09:10:30.552487Z",
     "shell.execute_reply.started": "2022-02-07T09:10:30.548840Z"
    }
   },
   "source": [
    "# Q4: 請使用jieba進行關鍵字抽取，並設定topK為10"
   ]
  },
  {
   "cell_type": "code",
   "execution_count": 14,
   "id": "e77e0321",
   "metadata": {},
   "outputs": [
    {
     "name": "stdout",
     "output_type": "stream",
     "text": [
      "['美國', '死亡', '新冠', 'Omicron', '國家', '疫苗', '加強', '病例', '防疫', '疫情']\n"
     ]
    }
   ],
   "source": [
    "#A:\n",
    "\"\"\"\n",
    "(提示)\n",
    "1.先import packege\n",
    "2.並使用xxxx.extract_tags( )\n",
    "3.記得設定topK\n",
    "\"\"\"\n",
    "\n",
    "import jieba.analyse\n",
    "\n",
    "tags = jieba.analyse.extract_tags(text, topK=10)\n",
    "print(tags)"
   ]
  },
  {
   "cell_type": "code",
   "execution_count": null,
   "id": "bc3d9968",
   "metadata": {},
   "outputs": [],
   "source": []
  }
 ],
 "metadata": {
  "kernelspec": {
   "display_name": "Python 3 (ipykernel)",
   "language": "python",
   "name": "python3"
  },
  "language_info": {
   "codemirror_mode": {
    "name": "ipython",
    "version": 3
   },
   "file_extension": ".py",
   "mimetype": "text/x-python",
   "name": "python",
   "nbconvert_exporter": "python",
   "pygments_lexer": "ipython3",
   "version": "3.7.3"
  }
 },
 "nbformat": 4,
 "nbformat_minor": 5
}
