{
 "cells": [
  {
   "cell_type": "markdown",
   "id": "b8aeb05f",
   "metadata": {},
   "source": [
    "# 正向最大匹配（FMM）"
   ]
  },
  {
   "cell_type": "code",
   "execution_count": 1,
   "id": "61f4f302",
   "metadata": {},
   "outputs": [],
   "source": [
    "def FMM_func(user_dict, sentence):\n",
    "    \"\"\"\n",
    "    正向最大匹配（FMM）\n",
    "    :param user_dict: 詞典\n",
    "    :param sentence: 句子\n",
    "    \"\"\"\n",
    "    # 词典中最长词长度\n",
    "    max_len = max([len(item) for item in user_dict])\n",
    "    start = 0\n",
    "    result = []\n",
    "    print(\"正向最大匹配法斷詞結果為:\")\n",
    "    while start != len(sentence):\n",
    "        index = start+max_len\n",
    "        if index>len(sentence):\n",
    "            index = len(sentence)\n",
    "        for i in range(max_len):\n",
    "            if (sentence[start:index] in user_dict) or (len(sentence[start:index])==1):\n",
    "                print(sentence[start:index], end='/')\n",
    "                result.append(sentence[start:index])\n",
    "                start = index                \n",
    "\n",
    "                break\n",
    "\n",
    "            index += -1\n",
    "        \n",
    "        \n",
    "    return result"
   ]
  },
  {
   "cell_type": "code",
   "execution_count": 2,
   "id": "008da7e9",
   "metadata": {},
   "outputs": [
    {
     "name": "stdout",
     "output_type": "stream",
     "text": [
      "正向最大匹配法斷詞結果為:\n",
      "我們/在台/北/植物園/散步/"
     ]
    },
    {
     "data": {
      "text/plain": [
       "['我們', '在台', '北', '植物園', '散步']"
      ]
     },
     "execution_count": 2,
     "metadata": {},
     "output_type": "execute_result"
    }
   ],
   "source": [
    "sentence = '我們在台北植物園散步'\n",
    "user_dict = ['我們', '在', '在台', '台北', '北', '植物園', '台北植物園', '植物', '物','散步']\n",
    "FMM_func(user_dict, sentence)\n"
   ]
  },
  {
   "cell_type": "markdown",
   "id": "bff349fb",
   "metadata": {},
   "source": [
    "# 反向最大匹配（BMM）"
   ]
  },
  {
   "cell_type": "code",
   "execution_count": 3,
   "id": "5f0f9090",
   "metadata": {},
   "outputs": [],
   "source": [
    "def BMM_func(user_dict, sentence):\n",
    "    \"\"\"\n",
    "    反向最大匹配（BMM）\n",
    "    :param user_dict:詞典\n",
    "    :param sentence:句子\n",
    "    \"\"\"\n",
    "    # 词典中最长词长度\n",
    "    max_len = max([len(item) for item in user_dict])\n",
    "    result = []\n",
    "    start = len(sentence)\n",
    "#     result = []\n",
    "    print(\"反向最大匹配法斷詞結果為:\")\n",
    "    while start != 0:\n",
    "        index = start - max_len\n",
    "        if index < 0:\n",
    "            index = 0\n",
    "        for i in range(max_len):\n",
    "            if (sentence[index:start] in user_dict) or (len(sentence[start:index])==1):\n",
    "                result.append(sentence[index:start])\n",
    "                start = index\n",
    "                break\n",
    "            index += 1\n",
    "    for i in result[::-1]:\n",
    "        print(i, end='/')\n",
    "    return result[::-1]"
   ]
  },
  {
   "cell_type": "code",
   "execution_count": 4,
   "id": "22f94916",
   "metadata": {},
   "outputs": [
    {
     "name": "stdout",
     "output_type": "stream",
     "text": [
      "反向最大匹配法斷詞結果為:\n",
      "我們/在/台北植物園/散步/"
     ]
    },
    {
     "data": {
      "text/plain": [
       "['我們', '在', '台北植物園', '散步']"
      ]
     },
     "execution_count": 4,
     "metadata": {},
     "output_type": "execute_result"
    }
   ],
   "source": [
    "sentence = '我們在台北植物園散步'\n",
    "user_dict = ['我們', '在', '在台', '台北', '北', '植物園', '台北植物園', '植物', '物','散步']\n",
    "BMM_func(user_dict, sentence)\n"
   ]
  },
  {
   "cell_type": "markdown",
   "id": "1f68d35f",
   "metadata": {},
   "source": [
    "# 雙向最大匹配"
   ]
  },
  {
   "cell_type": "code",
   "execution_count": null,
   "id": "d50a4a2e",
   "metadata": {},
   "outputs": [],
   "source": [
    "Q: 請利用上面的例子，寫出雙向最大匹配的程式"
   ]
  },
  {
   "cell_type": "code",
   "execution_count": 5,
   "id": "e28cc1b5",
   "metadata": {},
   "outputs": [
    {
     "name": "stdout",
     "output_type": "stream",
     "text": [
      "正向最大匹配法斷詞結果為:\n",
      "我們/在台/北/植物園/散步/\n",
      "反向最大匹配法斷詞結果為:\n",
      "我們/在/台北植物園/散步/\n",
      "雙向最大匹配法斷詞結果為:\n"
     ]
    },
    {
     "data": {
      "text/plain": [
       "['我們', '在', '台北植物園', '散步']"
      ]
     },
     "execution_count": 5,
     "metadata": {},
     "output_type": "execute_result"
    }
   ],
   "source": [
    "def Twoway_maximum_match(user_dict, sentence):\n",
    "    \"\"\"\n",
    "    Author: t4ngw\n",
    "    param user_dict: 用户分词词典\n",
    "    param sentence: 需分词句子\n",
    "    \"\"\"\n",
    "    FMM_ = FMM_func(user_dict, sentence)\n",
    "    print(\"\")\n",
    "    BMM_ = BMM_func(user_dict, sentence)\n",
    "    print(\"\")\n",
    "    print(\"雙向最大匹配法斷詞結果為:\")\n",
    "    if (len(FMM_)) != (len(BMM_)):\n",
    "        if (len(FMM_)) <= (len(BMM_)):\n",
    "            return FMM_\n",
    "        else:\n",
    "            return BMM_\n",
    "    else:\n",
    "        FMM_single = 0\n",
    "        BMM_single = 0\n",
    "        for i in range(len(FMM_)):\n",
    "            if len(FMM_[i]) == 1:\n",
    "                FMM_single += 1\n",
    "        for j in range(len(BMM_)):\n",
    "            if len(FMM_[i]) == 1:\n",
    "                BMM_single += 1 \n",
    "        if FMM_single > BMM_single:\n",
    "            return BMM_\n",
    "        else:\n",
    "            return FMM_\n",
    "\n",
    "Twoway_maximum_match(user_dict, sentence)\n"
   ]
  },
  {
   "cell_type": "code",
   "execution_count": null,
   "id": "2f4069ab",
   "metadata": {},
   "outputs": [],
   "source": []
  },
  {
   "cell_type": "markdown",
   "id": "109d26fa",
   "metadata": {},
   "source": [
    "# Trie (Prefix Tree)"
   ]
  },
  {
   "cell_type": "code",
   "execution_count": 6,
   "id": "df2fde25",
   "metadata": {},
   "outputs": [],
   "source": [
    "class Node:\n",
    "    def __init__(self, val):\n",
    "        self.val = val\n",
    "        self.child = {}\n",
    "        self.last = False # for prefix searches only - not required for full word searches\n",
    "\n",
    "class Trie:\n",
    "\n",
    "    def __init__(self):\n",
    "        self.root = Node(None)\n",
    "\n",
    "    def insert(self, word: str) -> None: # O(n) space and time\n",
    "        root = self.root\n",
    "        for ch in word:\n",
    "            if ch not in root.child:\n",
    "                root.child[ch] = Node(ch)\n",
    "            root = root.child[ch]\n",
    "        root.last = True\n",
    "            \n",
    "        \n",
    "\n",
    "    def search(self, word: str) -> bool: # - O(n) time and O(1) space\n",
    "        root = self.root\n",
    "        for ch in word:\n",
    "            if ch not in root.child:\n",
    "                return False\n",
    "            root = root.child[ch]\n",
    "        return root.last\n",
    "        \n",
    "\n",
    "    def startsWith(self, prefix: str) -> bool: # - O(n) time and O(1) space\n",
    "        root = self.root\n",
    "        for ch in prefix:\n",
    "            if ch not in root.child:\n",
    "                return False\n",
    "            root = root.child[ch]\n",
    "        return True"
   ]
  },
  {
   "cell_type": "code",
   "execution_count": 7,
   "id": "84b5fd3b",
   "metadata": {},
   "outputs": [],
   "source": [
    "obj = Trie()"
   ]
  },
  {
   "cell_type": "code",
   "execution_count": 8,
   "id": "ece07d80",
   "metadata": {},
   "outputs": [
    {
     "data": {
      "text/plain": [
       "True"
      ]
     },
     "execution_count": 8,
     "metadata": {},
     "output_type": "execute_result"
    }
   ],
   "source": [
    "obj.insert(\"apple\")\n",
    "obj.search(\"apple\")\n",
    "#True\n"
   ]
  },
  {
   "cell_type": "code",
   "execution_count": 9,
   "id": "4366d349",
   "metadata": {},
   "outputs": [
    {
     "data": {
      "text/plain": [
       "True"
      ]
     },
     "execution_count": 9,
     "metadata": {},
     "output_type": "execute_result"
    }
   ],
   "source": [
    "obj.startsWith(\"appl\")\n",
    "#True\n"
   ]
  },
  {
   "cell_type": "code",
   "execution_count": 10,
   "id": "413374bf",
   "metadata": {},
   "outputs": [
    {
     "data": {
      "text/plain": [
       "False"
      ]
     },
     "execution_count": 10,
     "metadata": {},
     "output_type": "execute_result"
    }
   ],
   "source": [
    "obj.search(\"orange\")\n",
    "#True\n"
   ]
  },
  {
   "cell_type": "code",
   "execution_count": 11,
   "id": "ec705fb2",
   "metadata": {},
   "outputs": [
    {
     "data": {
      "text/plain": [
       "True"
      ]
     },
     "execution_count": 11,
     "metadata": {},
     "output_type": "execute_result"
    }
   ],
   "source": [
    "obj.insert(\"pineapple\")\n",
    "obj.search(\"pineapple\")  \n",
    "#True\n"
   ]
  },
  {
   "cell_type": "code",
   "execution_count": 12,
   "id": "94a72dbf",
   "metadata": {},
   "outputs": [
    {
     "data": {
      "text/plain": [
       "True"
      ]
     },
     "execution_count": 12,
     "metadata": {},
     "output_type": "execute_result"
    }
   ],
   "source": [
    "obj.startsWith(\"appl\")\n",
    "#True\n"
   ]
  },
  {
   "cell_type": "code",
   "execution_count": 13,
   "id": "86a97b64",
   "metadata": {},
   "outputs": [
    {
     "data": {
      "text/plain": [
       "True"
      ]
     },
     "execution_count": 13,
     "metadata": {},
     "output_type": "execute_result"
    }
   ],
   "source": [
    "obj.startsWith(\"pine\")\n",
    "#True\n"
   ]
  },
  {
   "cell_type": "code",
   "execution_count": null,
   "id": "36916a9b",
   "metadata": {},
   "outputs": [],
   "source": []
  },
  {
   "cell_type": "markdown",
   "id": "f3ac2dd1",
   "metadata": {},
   "source": [
    "# 動態規劃-Fibonacci Numbers"
   ]
  },
  {
   "cell_type": "code",
   "execution_count": 14,
   "id": "7a6d4c42",
   "metadata": {},
   "outputs": [],
   "source": [
    "class Solution:\n",
    "    def fib(self, n: int) -> int:    \n",
    "        if n == 0:\n",
    "            return 0\n",
    "        elif n == 1:\n",
    "            return 1\n",
    "        elif n == 2 :\n",
    "            n = 0 + 1\n",
    "            return n\n",
    "        else:\n",
    "            return self.fib(n-1) + self.fib(n-2)\n"
   ]
  },
  {
   "cell_type": "code",
   "execution_count": 15,
   "id": "038bf883",
   "metadata": {},
   "outputs": [],
   "source": [
    "test = Solution()"
   ]
  },
  {
   "cell_type": "code",
   "execution_count": 16,
   "id": "2afd23af",
   "metadata": {},
   "outputs": [
    {
     "data": {
      "text/plain": [
       "55"
      ]
     },
     "execution_count": 16,
     "metadata": {},
     "output_type": "execute_result"
    }
   ],
   "source": [
    "test.fib(10)\n",
    "# 55"
   ]
  },
  {
   "cell_type": "code",
   "execution_count": 17,
   "id": "22532312",
   "metadata": {},
   "outputs": [
    {
     "data": {
      "text/plain": [
       "6765"
      ]
     },
     "execution_count": 17,
     "metadata": {},
     "output_type": "execute_result"
    }
   ],
   "source": [
    "test.fib(20)\n",
    "# 6765"
   ]
  },
  {
   "cell_type": "code",
   "execution_count": null,
   "id": "c456fa39",
   "metadata": {},
   "outputs": [],
   "source": []
  }
 ],
 "metadata": {
  "kernelspec": {
   "display_name": "Python 3 (ipykernel)",
   "language": "python",
   "name": "python3"
  },
  "language_info": {
   "codemirror_mode": {
    "name": "ipython",
    "version": 3
   },
   "file_extension": ".py",
   "mimetype": "text/x-python",
   "name": "python",
   "nbconvert_exporter": "python",
   "pygments_lexer": "ipython3",
   "version": "3.7.3"
  }
 },
 "nbformat": 4,
 "nbformat_minor": 5
}
