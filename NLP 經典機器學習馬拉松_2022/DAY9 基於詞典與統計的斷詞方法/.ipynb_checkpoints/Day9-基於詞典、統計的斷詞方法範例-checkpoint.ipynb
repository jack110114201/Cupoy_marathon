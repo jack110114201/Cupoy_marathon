{
 "cells": [
  {
   "cell_type": "markdown",
   "id": "3d70af9f",
   "metadata": {},
   "source": [
    "# 正向最大匹配（FMM）"
   ]
  },
  {
   "cell_type": "code",
   "execution_count": 1,
   "id": "07e3f59c",
   "metadata": {},
   "outputs": [],
   "source": [
    "def FMM_func(user_dict, sentence):\n",
    "    \"\"\"\n",
    "    正向最大匹配（FMM）\n",
    "    :param user_dict: 詞典\n",
    "    :param sentence: 句子\n",
    "    \"\"\"\n",
    "    # 词典中最长词长度\n",
    "    max_len = max([len(item) for item in user_dict])\n",
    "    start = 0\n",
    "    result = []\n",
    "    print(\"正向最大匹配法斷詞結果為:\")\n",
    "    while start != len(sentence):\n",
    "        index = start+max_len\n",
    "        if index>len(sentence):\n",
    "            index = len(sentence)\n",
    "        for i in range(max_len):\n",
    "            if (sentence[start:index] in user_dict) or (len(sentence[start:index])==1):\n",
    "                print(sentence[start:index], end='/')\n",
    "                result.append(sentence[start:index])\n",
    "                start = index                \n",
    "\n",
    "                break\n",
    "\n",
    "            index += -1\n",
    "        \n",
    "        \n",
    "    return result"
   ]
  },
  {
   "cell_type": "code",
   "execution_count": 2,
   "id": "5b30e563",
   "metadata": {},
   "outputs": [
    {
     "name": "stdout",
     "output_type": "stream",
     "text": [
      "正向最大匹配法斷詞結果為:\n",
      "我們/在台/北/植物園/散步/"
     ]
    },
    {
     "data": {
      "text/plain": [
       "['我們', '在台', '北', '植物園', '散步']"
      ]
     },
     "execution_count": 2,
     "metadata": {},
     "output_type": "execute_result"
    }
   ],
   "source": [
    "sentence = '我們在台北植物園散步'\n",
    "user_dict = ['我們', '在', '在台', '台北', '北', '植物園', '台北植物園', '植物', '物','散步']\n",
    "FMM_func(user_dict, sentence)\n"
   ]
  },
  {
   "cell_type": "markdown",
   "id": "c195c4af",
   "metadata": {},
   "source": [
    "# 反向最大匹配（BMM）"
   ]
  },
  {
   "cell_type": "code",
   "execution_count": 3,
   "id": "0dbb1552",
   "metadata": {},
   "outputs": [],
   "source": [
    "def BMM_func(user_dict, sentence):\n",
    "    \"\"\"\n",
    "    反向最大匹配（BMM）\n",
    "    :param user_dict:詞典\n",
    "    :param sentence:句子\n",
    "    \"\"\"\n",
    "    # 词典中最长词长度\n",
    "    max_len = max([len(item) for item in user_dict])\n",
    "    result = []\n",
    "    start = len(sentence)\n",
    "#     result = []\n",
    "    print(\"反向最大匹配法斷詞結果為:\")\n",
    "    while start != 0:\n",
    "        index = start - max_len\n",
    "        if index < 0:\n",
    "            index = 0\n",
    "        for i in range(max_len):\n",
    "            if (sentence[index:start] in user_dict) or (len(sentence[start:index])==1):\n",
    "                result.append(sentence[index:start])\n",
    "                start = index\n",
    "                break\n",
    "            index += 1\n",
    "    for i in result[::-1]:\n",
    "        print(i, end='/')\n",
    "    return result[::-1]"
   ]
  },
  {
   "cell_type": "code",
   "execution_count": 4,
   "id": "b6e6e882",
   "metadata": {},
   "outputs": [
    {
     "name": "stdout",
     "output_type": "stream",
     "text": [
      "反向最大匹配法斷詞結果為:\n",
      "我們/在/台北植物園/散步/"
     ]
    },
    {
     "data": {
      "text/plain": [
       "['我們', '在', '台北植物園', '散步']"
      ]
     },
     "execution_count": 4,
     "metadata": {},
     "output_type": "execute_result"
    }
   ],
   "source": [
    "sentence = '我們在台北植物園散步'\n",
    "user_dict = ['我們', '在', '在台', '台北', '北', '植物園', '台北植物園', '植物', '物','散步']\n",
    "BMM_func(user_dict, sentence)\n"
   ]
  },
  {
   "cell_type": "code",
   "execution_count": null,
   "id": "c1cfb034",
   "metadata": {},
   "outputs": [],
   "source": []
  }
 ],
 "metadata": {
  "kernelspec": {
   "display_name": "Python 3 (ipykernel)",
   "language": "python",
   "name": "python3"
  },
  "language_info": {
   "codemirror_mode": {
    "name": "ipython",
    "version": 3
   },
   "file_extension": ".py",
   "mimetype": "text/x-python",
   "name": "python",
   "nbconvert_exporter": "python",
   "pygments_lexer": "ipython3",
   "version": "3.7.3"
  }
 },
 "nbformat": 4,
 "nbformat_minor": 5
}
