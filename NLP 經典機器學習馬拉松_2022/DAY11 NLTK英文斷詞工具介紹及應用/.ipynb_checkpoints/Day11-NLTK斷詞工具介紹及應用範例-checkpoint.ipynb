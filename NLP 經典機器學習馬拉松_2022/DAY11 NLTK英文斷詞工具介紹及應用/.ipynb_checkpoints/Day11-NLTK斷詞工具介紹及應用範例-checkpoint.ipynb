{
 "cells": [
  {
   "cell_type": "code",
   "execution_count": 1,
   "id": "2af35f93",
   "metadata": {
    "execution": {
     "iopub.execute_input": "2022-02-07T05:51:39.682626Z",
     "iopub.status.busy": "2022-02-07T05:51:39.682167Z",
     "iopub.status.idle": "2022-02-07T05:51:39.690382Z",
     "shell.execute_reply": "2022-02-07T05:51:39.688963Z",
     "shell.execute_reply.started": "2022-02-07T05:51:39.682569Z"
    }
   },
   "outputs": [],
   "source": [
    "## BBC新聞\n",
    "#https://www.bbc.com/news/business-58579831"
   ]
  },
  {
   "cell_type": "code",
   "execution_count": 1,
   "id": "eb52186d",
   "metadata": {
    "execution": {
     "iopub.execute_input": "2022-02-07T05:51:41.011193Z",
     "iopub.status.busy": "2022-02-07T05:51:41.010677Z",
     "iopub.status.idle": "2022-02-07T05:51:41.018215Z",
     "shell.execute_reply": "2022-02-07T05:51:41.017185Z",
     "shell.execute_reply.started": "2022-02-07T05:51:41.011139Z"
    }
   },
   "outputs": [],
   "source": [
    "text = \"\"\"For decades life in China had evolved around its home-grown version of let-it-rip capitalism.Despite being technically a \"communist\" country, the government had put its faith in trickle-down economics, believing that allowing some people to become extremely rich would benefit all of society by dragging it out of the disastrous quagmire of Chairman Mao's Cultural Revolution as quickly as possible.\n",
    "To an extent it worked. A large middle class has emerged and people in virtually all strata of society now have better living standards as a result. Wealth disparity. From the stagnation of the 1970s China has been thrust to the top of the pile, now challenging the United States for global economic dominance.\n",
    "But it left a chasm of income disparity. It is there to be seen in the children of those who were in the right place and the right time. Parents who were able to take over factories in the 1980s made exorbitant profits which have paid for their progeny to now drive flashy sports cars around gleaming cities, zooming past the construction workers who wonder how they will ever be able to afford to buy a home.\n",
    "The get-out-of jail card for the Party had always been the phrase \"with Chinese characteristics\". The concept of socialism - \"with Chinese characteristics\" - allowed the government massive philosophical leeway to run a society which, in many ways, was not very socialist at all. General Secretary Xi Jinping appears to have decided that this is no longer acceptable. The Chinese government, under his leadership, has started putting the Communist back in the Communist Party, at least to some extent.\n",
    "The new catchphrase is \"common prosperity\". It hasn't really appeared yet on the street side propaganda posters but this can't be far off. It is now the cornerstone of what China's leader is doing.\n",
    "\"\"\""
   ]
  },
  {
   "cell_type": "markdown",
   "id": "cacc893f",
   "metadata": {},
   "source": [
    "# str.split()"
   ]
  },
  {
   "cell_type": "markdown",
   "id": "98665ed9",
   "metadata": {},
   "source": [
    "### Sentence Segmentation (斷句)\n"
   ]
  },
  {
   "cell_type": "code",
   "execution_count": 2,
   "id": "e5485010",
   "metadata": {
    "execution": {
     "iopub.execute_input": "2022-02-07T05:51:42.835338Z",
     "iopub.status.busy": "2022-02-07T05:51:42.834811Z",
     "iopub.status.idle": "2022-02-07T05:51:42.866316Z",
     "shell.execute_reply": "2022-02-07T05:51:42.865541Z",
     "shell.execute_reply.started": "2022-02-07T05:51:42.835285Z"
    },
    "tags": []
   },
   "outputs": [
    {
     "data": {
      "text/plain": [
       "['For decades life in China had evolved around its home-grown version of let-it-rip capitalism',\n",
       " 'Despite being technically a \"communist\" country, the government had put its faith in trickle-down economics, believing that allowing some people to become extremely rich would benefit all of society by dragging it out of the disastrous quagmire of Chairman Mao\\'s Cultural Revolution as quickly as possible',\n",
       " '\\nTo an extent it worked',\n",
       " ' A large middle class has emerged and people in virtually all strata of society now have better living standards as a result',\n",
       " ' Wealth disparity',\n",
       " ' From the stagnation of the 1970s China has been thrust to the top of the pile, now challenging the United States for global economic dominance',\n",
       " '\\nBut it left a chasm of income disparity',\n",
       " ' It is there to be seen in the children of those who were in the right place and the right time',\n",
       " ' Parents who were able to take over factories in the 1980s made exorbitant profits which have paid for their progeny to now drive flashy sports cars around gleaming cities, zooming past the construction workers who wonder how they will ever be able to afford to buy a home',\n",
       " '\\nThe get-out-of jail card for the Party had always been the phrase \"with Chinese characteristics\"',\n",
       " ' The concept of socialism - \"with Chinese characteristics\" - allowed the government massive philosophical leeway to run a society which, in many ways, was not very socialist at all',\n",
       " ' General Secretary Xi Jinping appears to have decided that this is no longer acceptable',\n",
       " ' The Chinese government, under his leadership, has started putting the Communist back in the Communist Party, at least to some extent',\n",
       " '\\nThe new catchphrase is \"common prosperity\"',\n",
       " \" It hasn't really appeared yet on the street side propaganda posters but this can't be far off\",\n",
       " \" It is now the cornerstone of what China's leader is doing\",\n",
       " '\\n']"
      ]
     },
     "execution_count": 2,
     "metadata": {},
     "output_type": "execute_result"
    }
   ],
   "source": [
    "sentence = text.split(\".\") # 以句號作為分隔基準\n",
    "sentence"
   ]
  },
  {
   "cell_type": "markdown",
   "id": "b393351e",
   "metadata": {},
   "source": [
    "### Word Segmentation (斷詞)\n"
   ]
  },
  {
   "cell_type": "code",
   "execution_count": 3,
   "id": "02d67d1c",
   "metadata": {
    "execution": {
     "iopub.execute_input": "2022-02-07T05:51:45.026846Z",
     "iopub.status.busy": "2022-02-07T05:51:45.026340Z",
     "iopub.status.idle": "2022-02-07T05:51:45.034195Z",
     "shell.execute_reply": "2022-02-07T05:51:45.032985Z",
     "shell.execute_reply.started": "2022-02-07T05:51:45.026792Z"
    }
   },
   "outputs": [],
   "source": [
    "token_text = []\n",
    "for sent in sentence:\n",
    "    sent = sent.replace(\"\\n\",\"\") #去除換行符號\n",
    "    sent_word_list = sent.split(\" \") #英文的先天優勢，可以用空格作為分隔\n",
    "    token_text.extend(sent_word_list)"
   ]
  },
  {
   "cell_type": "code",
   "execution_count": 4,
   "id": "ddd22662",
   "metadata": {
    "tags": []
   },
   "outputs": [
    {
     "name": "stdout",
     "output_type": "stream",
     "text": [
      "['For', 'decades', 'life', 'in', 'China', 'had', 'evolved', 'around', 'its', 'home-grown', 'version', 'of', 'let-it-rip', 'capitalism', 'Despite', 'being', 'technically', 'a', '\"communist\"', 'country,', 'the', 'government', 'had', 'put', 'its', 'faith', 'in', 'trickle-down', 'economics,', 'believing', 'that', 'allowing', 'some', 'people', 'to', 'become', 'extremely', 'rich', 'would', 'benefit', 'all', 'of', 'society', 'by', 'dragging', 'it', 'out', 'of', 'the', 'disastrous', 'quagmire', 'of', 'Chairman', \"Mao's\", 'Cultural', 'Revolution', 'as', 'quickly', 'as', 'possible', 'To', 'an', 'extent', 'it', 'worked', '', 'A', 'large', 'middle', 'class', 'has', 'emerged', 'and', 'people', 'in', 'virtually', 'all', 'strata', 'of', 'society', 'now', 'have', 'better', 'living', 'standards', 'as', 'a', 'result', '', 'Wealth', 'disparity', '', 'From', 'the', 'stagnation', 'of', 'the', '1970s', 'China', 'has', 'been', 'thrust', 'to', 'the', 'top', 'of', 'the', 'pile,', 'now', 'challenging', 'the', 'United', 'States', 'for', 'global', 'economic', 'dominance', 'But', 'it', 'left', 'a', 'chasm', 'of', 'income', 'disparity', '', 'It', 'is', 'there', 'to', 'be', 'seen', 'in', 'the', 'children', 'of', 'those', 'who', 'were', 'in', 'the', 'right', 'place', 'and', 'the', 'right', 'time', '', 'Parents', 'who', 'were', 'able', 'to', 'take', 'over', 'factories', 'in', 'the', '1980s', 'made', 'exorbitant', 'profits', 'which', 'have', 'paid', 'for', 'their', 'progeny', 'to', 'now', 'drive', 'flashy', 'sports', 'cars', 'around', 'gleaming', 'cities,', 'zooming', 'past', 'the', 'construction', 'workers', 'who', 'wonder', 'how', 'they', 'will', 'ever', 'be', 'able', 'to', 'afford', 'to', 'buy', 'a', 'home', 'The', 'get-out-of', 'jail', 'card', 'for', 'the', 'Party', 'had', 'always', 'been', 'the', 'phrase', '\"with', 'Chinese', 'characteristics\"', '', 'The', 'concept', 'of', 'socialism', '-', '\"with', 'Chinese', 'characteristics\"', '-', 'allowed', 'the', 'government', 'massive', 'philosophical', 'leeway', 'to', 'run', 'a', 'society', 'which,', 'in', 'many', 'ways,', 'was', 'not', 'very', 'socialist', 'at', 'all', '', 'General', 'Secretary', 'Xi', 'Jinping', 'appears', 'to', 'have', 'decided', 'that', 'this', 'is', 'no', 'longer', 'acceptable', '', 'The', 'Chinese', 'government,', 'under', 'his', 'leadership,', 'has', 'started', 'putting', 'the', 'Communist', 'back', 'in', 'the', 'Communist', 'Party,', 'at', 'least', 'to', 'some', 'extent', 'The', 'new', 'catchphrase', 'is', '\"common', 'prosperity\"', '', 'It', \"hasn't\", 'really', 'appeared', 'yet', 'on', 'the', 'street', 'side', 'propaganda', 'posters', 'but', 'this', \"can't\", 'be', 'far', 'off', '', 'It', 'is', 'now', 'the', 'cornerstone', 'of', 'what', \"China's\", 'leader', 'is', 'doing', '']\n"
     ]
    }
   ],
   "source": [
    "print(token_text)"
   ]
  },
  {
   "cell_type": "markdown",
   "id": "311201a7",
   "metadata": {},
   "source": [
    "# NLTK (Natural Language Tool Kit)"
   ]
  },
  {
   "cell_type": "code",
   "execution_count": 11,
   "id": "36f3c1be",
   "metadata": {},
   "outputs": [
    {
     "name": "stdout",
     "output_type": "stream",
     "text": [
      "Requirement already satisfied: nltk in c:\\users\\ar-haochuan.kao\\anaconda3\\envs\\hckao\\lib\\site-packages (3.6.3)\n",
      "Requirement already satisfied: joblib in c:\\users\\ar-haochuan.kao\\anaconda3\\envs\\hckao\\lib\\site-packages (from nltk) (1.0.1)\n",
      "Requirement already satisfied: tqdm in c:\\users\\ar-haochuan.kao\\anaconda3\\envs\\hckao\\lib\\site-packages (from nltk) (4.62.3)\n",
      "Requirement already satisfied: click in c:\\users\\ar-haochuan.kao\\anaconda3\\envs\\hckao\\lib\\site-packages (from nltk) (8.0.1)\n",
      "Requirement already satisfied: regex in c:\\users\\ar-haochuan.kao\\anaconda3\\envs\\hckao\\lib\\site-packages (from nltk) (2021.8.28)\n",
      "Requirement already satisfied: importlib-metadata in c:\\users\\ar-haochuan.kao\\anaconda3\\envs\\hckao\\lib\\site-packages (from click->nltk) (4.8.1)\n",
      "Requirement already satisfied: colorama in c:\\users\\ar-haochuan.kao\\anaconda3\\envs\\hckao\\lib\\site-packages (from click->nltk) (0.4.4)\n",
      "Requirement already satisfied: typing-extensions>=3.6.4 in c:\\users\\ar-haochuan.kao\\anaconda3\\envs\\hckao\\lib\\site-packages (from importlib-metadata->click->nltk) (3.7.4.3)\n",
      "Requirement already satisfied: zipp>=0.5 in c:\\users\\ar-haochuan.kao\\anaconda3\\envs\\hckao\\lib\\site-packages (from importlib-metadata->click->nltk) (3.5.0)\n"
     ]
    }
   ],
   "source": [
    "!pip install nltk"
   ]
  },
  {
   "cell_type": "markdown",
   "id": "f3cebf1f",
   "metadata": {},
   "source": [
    "### Sentence Segmentation (斷句)\n"
   ]
  },
  {
   "cell_type": "code",
   "execution_count": 5,
   "id": "26d9a326",
   "metadata": {},
   "outputs": [
    {
     "name": "stderr",
     "output_type": "stream",
     "text": [
      "[nltk_data] Downloading package punkt to /home/weiche/nltk_data...\n",
      "[nltk_data]   Unzipping tokenizers/punkt.zip.\n"
     ]
    },
    {
     "data": {
      "text/plain": [
       "True"
      ]
     },
     "execution_count": 5,
     "metadata": {},
     "output_type": "execute_result"
    }
   ],
   "source": [
    "import nltk\n",
    "nltk.download(\"punkt\")"
   ]
  },
  {
   "cell_type": "code",
   "execution_count": 6,
   "id": "721f491e",
   "metadata": {},
   "outputs": [
    {
     "data": {
      "text/plain": [
       "['For decades life in China had evolved around its home-grown version of let-it-rip capitalism.Despite being technically a \"communist\" country, the government had put its faith in trickle-down economics, believing that allowing some people to become extremely rich would benefit all of society by dragging it out of the disastrous quagmire of Chairman Mao\\'s Cultural Revolution as quickly as possible.',\n",
       " 'To an extent it worked.',\n",
       " 'A large middle class has emerged and people in virtually all strata of society now have better living standards as a result.',\n",
       " 'Wealth disparity.',\n",
       " 'From the stagnation of the 1970s China has been thrust to the top of the pile, now challenging the United States for global economic dominance.',\n",
       " 'But it left a chasm of income disparity.',\n",
       " 'It is there to be seen in the children of those who were in the right place and the right time.',\n",
       " 'Parents who were able to take over factories in the 1980s made exorbitant profits which have paid for their progeny to now drive flashy sports cars around gleaming cities, zooming past the construction workers who wonder how they will ever be able to afford to buy a home.',\n",
       " 'The get-out-of jail card for the Party had always been the phrase \"with Chinese characteristics\".',\n",
       " 'The concept of socialism - \"with Chinese characteristics\" - allowed the government massive philosophical leeway to run a society which, in many ways, was not very socialist at all.',\n",
       " 'General Secretary Xi Jinping appears to have decided that this is no longer acceptable.',\n",
       " 'The Chinese government, under his leadership, has started putting the Communist back in the Communist Party, at least to some extent.',\n",
       " 'The new catchphrase is \"common prosperity\".',\n",
       " \"It hasn't really appeared yet on the street side propaganda posters but this can't be far off.\",\n",
       " \"It is now the cornerstone of what China's leader is doing.\"]"
      ]
     },
     "execution_count": 6,
     "metadata": {},
     "output_type": "execute_result"
    }
   ],
   "source": [
    "sentences = nltk.sent_tokenize(text) #使用 NLTK package內建的函式->sent_tokenize來斷句\n",
    "sentences"
   ]
  },
  {
   "cell_type": "code",
   "execution_count": 7,
   "id": "95c20b80",
   "metadata": {},
   "outputs": [
    {
     "name": "stdout",
     "output_type": "stream",
     "text": [
      "['For', 'decades', 'life', 'in', 'China', 'had', 'evolved', 'around', 'its', 'home-grown', 'version', 'of', 'let-it-rip', 'capitalism.Despite', 'being', 'technically', 'a', '``', 'communist', \"''\", 'country', ',', 'the', 'government', 'had', 'put', 'its', 'faith', 'in', 'trickle-down', 'economics', ',', 'believing', 'that', 'allowing', 'some', 'people', 'to', 'become', 'extremely', 'rich', 'would', 'benefit', 'all', 'of', 'society', 'by', 'dragging', 'it', 'out', 'of', 'the', 'disastrous', 'quagmire', 'of', 'Chairman', 'Mao', \"'s\", 'Cultural', 'Revolution', 'as', 'quickly', 'as', 'possible', '.']\n",
      "['To', 'an', 'extent', 'it', 'worked', '.']\n",
      "['A', 'large', 'middle', 'class', 'has', 'emerged', 'and', 'people', 'in', 'virtually', 'all', 'strata', 'of', 'society', 'now', 'have', 'better', 'living', 'standards', 'as', 'a', 'result', '.']\n",
      "['Wealth', 'disparity', '.']\n",
      "['From', 'the', 'stagnation', 'of', 'the', '1970s', 'China', 'has', 'been', 'thrust', 'to', 'the', 'top', 'of', 'the', 'pile', ',', 'now', 'challenging', 'the', 'United', 'States', 'for', 'global', 'economic', 'dominance', '.']\n",
      "['But', 'it', 'left', 'a', 'chasm', 'of', 'income', 'disparity', '.']\n",
      "['It', 'is', 'there', 'to', 'be', 'seen', 'in', 'the', 'children', 'of', 'those', 'who', 'were', 'in', 'the', 'right', 'place', 'and', 'the', 'right', 'time', '.']\n",
      "['Parents', 'who', 'were', 'able', 'to', 'take', 'over', 'factories', 'in', 'the', '1980s', 'made', 'exorbitant', 'profits', 'which', 'have', 'paid', 'for', 'their', 'progeny', 'to', 'now', 'drive', 'flashy', 'sports', 'cars', 'around', 'gleaming', 'cities', ',', 'zooming', 'past', 'the', 'construction', 'workers', 'who', 'wonder', 'how', 'they', 'will', 'ever', 'be', 'able', 'to', 'afford', 'to', 'buy', 'a', 'home', '.']\n",
      "['The', 'get-out-of', 'jail', 'card', 'for', 'the', 'Party', 'had', 'always', 'been', 'the', 'phrase', '``', 'with', 'Chinese', 'characteristics', \"''\", '.']\n",
      "['The', 'concept', 'of', 'socialism', '-', '``', 'with', 'Chinese', 'characteristics', \"''\", '-', 'allowed', 'the', 'government', 'massive', 'philosophical', 'leeway', 'to', 'run', 'a', 'society', 'which', ',', 'in', 'many', 'ways', ',', 'was', 'not', 'very', 'socialist', 'at', 'all', '.']\n",
      "['General', 'Secretary', 'Xi', 'Jinping', 'appears', 'to', 'have', 'decided', 'that', 'this', 'is', 'no', 'longer', 'acceptable', '.']\n",
      "['The', 'Chinese', 'government', ',', 'under', 'his', 'leadership', ',', 'has', 'started', 'putting', 'the', 'Communist', 'back', 'in', 'the', 'Communist', 'Party', ',', 'at', 'least', 'to', 'some', 'extent', '.']\n",
      "['The', 'new', 'catchphrase', 'is', '``', 'common', 'prosperity', \"''\", '.']\n",
      "['It', 'has', \"n't\", 'really', 'appeared', 'yet', 'on', 'the', 'street', 'side', 'propaganda', 'posters', 'but', 'this', 'ca', \"n't\", 'be', 'far', 'off', '.']\n",
      "['It', 'is', 'now', 'the', 'cornerstone', 'of', 'what', 'China', \"'s\", 'leader', 'is', 'doing', '.']\n"
     ]
    }
   ],
   "source": [
    "tokens = [nltk.tokenize.word_tokenize(sent) for sent in sentences] #使用 NLTK package內建的函式->word_tokenize來斷詞\n",
    "for token in tokens:\n",
    "    print(token)"
   ]
  },
  {
   "cell_type": "markdown",
   "id": "d4a5f711",
   "metadata": {},
   "source": [
    "### POS (詞性標記)\n"
   ]
  },
  {
   "cell_type": "code",
   "execution_count": 8,
   "id": "2a6f5efb",
   "metadata": {},
   "outputs": [
    {
     "name": "stderr",
     "output_type": "stream",
     "text": [
      "[nltk_data] Downloading package averaged_perceptron_tagger to\n",
      "[nltk_data]     /home/weiche/nltk_data...\n",
      "[nltk_data]   Unzipping taggers/averaged_perceptron_tagger.zip.\n"
     ]
    },
    {
     "data": {
      "text/plain": [
       "True"
      ]
     },
     "execution_count": 8,
     "metadata": {},
     "output_type": "execute_result"
    }
   ],
   "source": [
    "nltk.download('averaged_perceptron_tagger')"
   ]
  },
  {
   "cell_type": "code",
   "execution_count": 9,
   "id": "01d43b94",
   "metadata": {},
   "outputs": [
    {
     "name": "stdout",
     "output_type": "stream",
     "text": [
      "[('For', 'IN'), ('decades', 'NNS'), ('life', 'NN'), ('in', 'IN'), ('China', 'NNP'), ('had', 'VBD'), ('evolved', 'VBN'), ('around', 'IN'), ('its', 'PRP$'), ('home-grown', 'JJ'), ('version', 'NN'), ('of', 'IN'), ('let-it-rip', 'JJ'), ('capitalism.Despite', 'NN'), ('being', 'VBG'), ('technically', 'RB'), ('a', 'DT'), ('``', '``'), ('communist', 'JJ'), (\"''\", \"''\"), ('country', 'NN'), (',', ','), ('the', 'DT'), ('government', 'NN'), ('had', 'VBD'), ('put', 'VBN'), ('its', 'PRP$'), ('faith', 'NN'), ('in', 'IN'), ('trickle-down', 'JJ'), ('economics', 'NNS'), (',', ','), ('believing', 'VBG'), ('that', 'IN'), ('allowing', 'VBG'), ('some', 'DT'), ('people', 'NNS'), ('to', 'TO'), ('become', 'VB'), ('extremely', 'RB'), ('rich', 'JJ'), ('would', 'MD'), ('benefit', 'VB'), ('all', 'DT'), ('of', 'IN'), ('society', 'NN'), ('by', 'IN'), ('dragging', 'VBG'), ('it', 'PRP'), ('out', 'IN'), ('of', 'IN'), ('the', 'DT'), ('disastrous', 'JJ'), ('quagmire', 'NN'), ('of', 'IN'), ('Chairman', 'NNP'), ('Mao', 'NNP'), (\"'s\", 'POS'), ('Cultural', 'JJ'), ('Revolution', 'NNP'), ('as', 'RB'), ('quickly', 'RB'), ('as', 'IN'), ('possible', 'JJ'), ('.', '.')]\n",
      "[('To', 'TO'), ('an', 'DT'), ('extent', 'NN'), ('it', 'PRP'), ('worked', 'VBD'), ('.', '.')]\n",
      "[('A', 'DT'), ('large', 'JJ'), ('middle', 'JJ'), ('class', 'NN'), ('has', 'VBZ'), ('emerged', 'VBN'), ('and', 'CC'), ('people', 'NNS'), ('in', 'IN'), ('virtually', 'RB'), ('all', 'DT'), ('strata', 'NNS'), ('of', 'IN'), ('society', 'NN'), ('now', 'RB'), ('have', 'VBP'), ('better', 'RBR'), ('living', 'NN'), ('standards', 'NNS'), ('as', 'IN'), ('a', 'DT'), ('result', 'NN'), ('.', '.')]\n",
      "[('Wealth', 'NNP'), ('disparity', 'NN'), ('.', '.')]\n",
      "[('From', 'IN'), ('the', 'DT'), ('stagnation', 'NN'), ('of', 'IN'), ('the', 'DT'), ('1970s', 'CD'), ('China', 'NNP'), ('has', 'VBZ'), ('been', 'VBN'), ('thrust', 'RB'), ('to', 'TO'), ('the', 'DT'), ('top', 'NN'), ('of', 'IN'), ('the', 'DT'), ('pile', 'NN'), (',', ','), ('now', 'RB'), ('challenging', 'VBG'), ('the', 'DT'), ('United', 'NNP'), ('States', 'NNPS'), ('for', 'IN'), ('global', 'JJ'), ('economic', 'JJ'), ('dominance', 'NN'), ('.', '.')]\n",
      "[('But', 'CC'), ('it', 'PRP'), ('left', 'VBD'), ('a', 'DT'), ('chasm', 'NN'), ('of', 'IN'), ('income', 'NN'), ('disparity', 'NN'), ('.', '.')]\n",
      "[('It', 'PRP'), ('is', 'VBZ'), ('there', 'RB'), ('to', 'TO'), ('be', 'VB'), ('seen', 'VBN'), ('in', 'IN'), ('the', 'DT'), ('children', 'NNS'), ('of', 'IN'), ('those', 'DT'), ('who', 'WP'), ('were', 'VBD'), ('in', 'IN'), ('the', 'DT'), ('right', 'JJ'), ('place', 'NN'), ('and', 'CC'), ('the', 'DT'), ('right', 'JJ'), ('time', 'NN'), ('.', '.')]\n",
      "[('Parents', 'NNS'), ('who', 'WP'), ('were', 'VBD'), ('able', 'JJ'), ('to', 'TO'), ('take', 'VB'), ('over', 'RP'), ('factories', 'NNS'), ('in', 'IN'), ('the', 'DT'), ('1980s', 'CD'), ('made', 'VBD'), ('exorbitant', 'NN'), ('profits', 'NNS'), ('which', 'WDT'), ('have', 'VBP'), ('paid', 'VBN'), ('for', 'IN'), ('their', 'PRP$'), ('progeny', 'NN'), ('to', 'TO'), ('now', 'RB'), ('drive', 'VB'), ('flashy', 'JJ'), ('sports', 'NNS'), ('cars', 'NNS'), ('around', 'IN'), ('gleaming', 'VBG'), ('cities', 'NNS'), (',', ','), ('zooming', 'VBG'), ('past', 'IN'), ('the', 'DT'), ('construction', 'NN'), ('workers', 'NNS'), ('who', 'WP'), ('wonder', 'VBP'), ('how', 'WRB'), ('they', 'PRP'), ('will', 'MD'), ('ever', 'RB'), ('be', 'VB'), ('able', 'JJ'), ('to', 'TO'), ('afford', 'VB'), ('to', 'TO'), ('buy', 'VB'), ('a', 'DT'), ('home', 'NN'), ('.', '.')]\n",
      "[('The', 'DT'), ('get-out-of', 'JJ'), ('jail', 'NN'), ('card', 'NN'), ('for', 'IN'), ('the', 'DT'), ('Party', 'NNP'), ('had', 'VBD'), ('always', 'RB'), ('been', 'VBN'), ('the', 'DT'), ('phrase', 'NN'), ('``', '``'), ('with', 'IN'), ('Chinese', 'JJ'), ('characteristics', 'NNS'), (\"''\", \"''\"), ('.', '.')]\n",
      "[('The', 'DT'), ('concept', 'NN'), ('of', 'IN'), ('socialism', 'NN'), ('-', ':'), ('``', '``'), ('with', 'IN'), ('Chinese', 'JJ'), ('characteristics', 'NNS'), (\"''\", \"''\"), ('-', ':'), ('allowed', 'VBD'), ('the', 'DT'), ('government', 'NN'), ('massive', 'JJ'), ('philosophical', 'JJ'), ('leeway', 'NN'), ('to', 'TO'), ('run', 'VB'), ('a', 'DT'), ('society', 'NN'), ('which', 'WDT'), (',', ','), ('in', 'IN'), ('many', 'JJ'), ('ways', 'NNS'), (',', ','), ('was', 'VBD'), ('not', 'RB'), ('very', 'RB'), ('socialist', 'JJ'), ('at', 'IN'), ('all', 'DT'), ('.', '.')]\n",
      "[('General', 'NNP'), ('Secretary', 'NNP'), ('Xi', 'NNP'), ('Jinping', 'NNP'), ('appears', 'VBZ'), ('to', 'TO'), ('have', 'VB'), ('decided', 'VBN'), ('that', 'IN'), ('this', 'DT'), ('is', 'VBZ'), ('no', 'RB'), ('longer', 'RBR'), ('acceptable', 'JJ'), ('.', '.')]\n",
      "[('The', 'DT'), ('Chinese', 'JJ'), ('government', 'NN'), (',', ','), ('under', 'IN'), ('his', 'PRP$'), ('leadership', 'NN'), (',', ','), ('has', 'VBZ'), ('started', 'VBN'), ('putting', 'VBG'), ('the', 'DT'), ('Communist', 'NNP'), ('back', 'RB'), ('in', 'IN'), ('the', 'DT'), ('Communist', 'NNP'), ('Party', 'NNP'), (',', ','), ('at', 'IN'), ('least', 'JJS'), ('to', 'TO'), ('some', 'DT'), ('extent', 'NN'), ('.', '.')]\n",
      "[('The', 'DT'), ('new', 'JJ'), ('catchphrase', 'NN'), ('is', 'VBZ'), ('``', '``'), ('common', 'JJ'), ('prosperity', 'NN'), (\"''\", \"''\"), ('.', '.')]\n",
      "[('It', 'PRP'), ('has', 'VBZ'), (\"n't\", 'RB'), ('really', 'RB'), ('appeared', 'VBN'), ('yet', 'RB'), ('on', 'IN'), ('the', 'DT'), ('street', 'NN'), ('side', 'JJ'), ('propaganda', 'NN'), ('posters', 'NNS'), ('but', 'CC'), ('this', 'DT'), ('ca', 'MD'), (\"n't\", 'RB'), ('be', 'VB'), ('far', 'RB'), ('off', 'RP'), ('.', '.')]\n",
      "[('It', 'PRP'), ('is', 'VBZ'), ('now', 'RB'), ('the', 'DT'), ('cornerstone', 'NN'), ('of', 'IN'), ('what', 'WP'), ('China', 'NNP'), (\"'s\", 'POS'), ('leader', 'NN'), ('is', 'VBZ'), ('doing', 'VBG'), ('.', '.')]\n"
     ]
    }
   ],
   "source": [
    "pos = [nltk.pos_tag(token) for token in tokens] #使用 NLTK package內建的函式->pos_tag來作詞性標記\n",
    "for item in pos:\n",
    "    print(item)"
   ]
  },
  {
   "cell_type": "code",
   "execution_count": 17,
   "id": "6aac1ab4",
   "metadata": {},
   "outputs": [
    {
     "data": {
      "text/html": [
       "<div>\n",
       "<style scoped>\n",
       "    .dataframe tbody tr th:only-of-type {\n",
       "        vertical-align: middle;\n",
       "    }\n",
       "\n",
       "    .dataframe tbody tr th {\n",
       "        vertical-align: top;\n",
       "    }\n",
       "\n",
       "    .dataframe thead th {\n",
       "        text-align: right;\n",
       "    }\n",
       "</style>\n",
       "<table border=\"1\" class=\"dataframe\">\n",
       "  <thead>\n",
       "    <tr style=\"text-align: right;\">\n",
       "      <th></th>\n",
       "      <th>簡寫</th>\n",
       "      <th>中文意思</th>\n",
       "    </tr>\n",
       "  </thead>\n",
       "  <tbody>\n",
       "    <tr>\n",
       "      <th>0</th>\n",
       "      <td>CC</td>\n",
       "      <td>並列連詞</td>\n",
       "    </tr>\n",
       "    <tr>\n",
       "      <th>1</th>\n",
       "      <td>CD</td>\n",
       "      <td>基數</td>\n",
       "    </tr>\n",
       "    <tr>\n",
       "      <th>2</th>\n",
       "      <td>DT</td>\n",
       "      <td>確定器</td>\n",
       "    </tr>\n",
       "    <tr>\n",
       "      <th>3</th>\n",
       "      <td>EX</td>\n",
       "      <td>存在那裡</td>\n",
       "    </tr>\n",
       "    <tr>\n",
       "      <th>4</th>\n",
       "      <td>FW</td>\n",
       "      <td>外來詞</td>\n",
       "    </tr>\n",
       "    <tr>\n",
       "      <th>5</th>\n",
       "      <td>IN</td>\n",
       "      <td>介詞/從屬連詞</td>\n",
       "    </tr>\n",
       "    <tr>\n",
       "      <th>6</th>\n",
       "      <td>JJ</td>\n",
       "      <td>這個 NLTK POS 標籤是一個形容詞（大）</td>\n",
       "    </tr>\n",
       "    <tr>\n",
       "      <th>7</th>\n",
       "      <td>JJR</td>\n",
       "      <td>形容詞，比較級（較大）</td>\n",
       "    </tr>\n",
       "    <tr>\n",
       "      <th>8</th>\n",
       "      <td>JJS</td>\n",
       "      <td>形容詞，最高級（最大）</td>\n",
       "    </tr>\n",
       "    <tr>\n",
       "      <th>9</th>\n",
       "      <td>LS</td>\n",
       "      <td>列表市場</td>\n",
       "    </tr>\n",
       "    <tr>\n",
       "      <th>10</th>\n",
       "      <td>MD</td>\n",
       "      <td>模式（可以，將）</td>\n",
       "    </tr>\n",
       "    <tr>\n",
       "      <th>11</th>\n",
       "      <td>NN</td>\n",
       "      <td>名詞，單數（貓，樹）</td>\n",
       "    </tr>\n",
       "    <tr>\n",
       "      <th>12</th>\n",
       "      <td>NNS</td>\n",
       "      <td>名詞複數 (desk)</td>\n",
       "    </tr>\n",
       "    <tr>\n",
       "      <th>13</th>\n",
       "      <td>NNP</td>\n",
       "      <td>專有名詞，單數 (sarah)</td>\n",
       "    </tr>\n",
       "    <tr>\n",
       "      <th>14</th>\n",
       "      <td>NNPS</td>\n",
       "      <td>專有名詞，複數（印第安人或美國人）</td>\n",
       "    </tr>\n",
       "    <tr>\n",
       "      <th>15</th>\n",
       "      <td>PDT</td>\n",
       "      <td>預定子（全部，兩者，一半）</td>\n",
       "    </tr>\n",
       "    <tr>\n",
       "      <th>16</th>\n",
       "      <td>POS</td>\n",
       "      <td>所有格結尾（父母的）</td>\n",
       "    </tr>\n",
       "    <tr>\n",
       "      <th>17</th>\n",
       "      <td>PRP</td>\n",
       "      <td>人稱代詞（她的、她的、他的、他自己）</td>\n",
       "    </tr>\n",
       "    <tr>\n",
       "      <th>18</th>\n",
       "      <td>PRP$</td>\n",
       "      <td>物主代詞（她、他的、我的、我的、我們的）</td>\n",
       "    </tr>\n",
       "    <tr>\n",
       "      <th>19</th>\n",
       "      <td>RB</td>\n",
       "      <td>副詞（偶爾，迅速）</td>\n",
       "    </tr>\n",
       "    <tr>\n",
       "      <th>20</th>\n",
       "      <td>RBR</td>\n",
       "      <td>副詞，比較級（更大）</td>\n",
       "    </tr>\n",
       "    <tr>\n",
       "      <th>21</th>\n",
       "      <td>RBS</td>\n",
       "      <td>副詞，最高級（最大）</td>\n",
       "    </tr>\n",
       "    <tr>\n",
       "      <th>22</th>\n",
       "      <td>RP</td>\n",
       "      <td>粒子（大約）</td>\n",
       "    </tr>\n",
       "    <tr>\n",
       "      <th>23</th>\n",
       "      <td>TO</td>\n",
       "      <td>無限標記（到）</td>\n",
       "    </tr>\n",
       "    <tr>\n",
       "      <th>24</th>\n",
       "      <td>UH</td>\n",
       "      <td>嘆詞（再見）</td>\n",
       "    </tr>\n",
       "    <tr>\n",
       "      <th>25</th>\n",
       "      <td>VBG</td>\n",
       "      <td>動詞（問）</td>\n",
       "    </tr>\n",
       "    <tr>\n",
       "      <th>26</th>\n",
       "      <td>VBD</td>\n",
       "      <td>動詞動名詞（判斷）</td>\n",
       "    </tr>\n",
       "    <tr>\n",
       "      <th>27</th>\n",
       "      <td>VBN</td>\n",
       "      <td>動詞過去時（懇求）</td>\n",
       "    </tr>\n",
       "    <tr>\n",
       "      <th>28</th>\n",
       "      <td>VBP</td>\n",
       "      <td>動詞過去分詞（統一）</td>\n",
       "    </tr>\n",
       "    <tr>\n",
       "      <th>29</th>\n",
       "      <td>VBZ</td>\n",
       "      <td>動詞，現在時不是第三人稱單數（換行）</td>\n",
       "    </tr>\n",
       "    <tr>\n",
       "      <th>30</th>\n",
       "      <td>WDT</td>\n",
       "      <td>動詞，現在時，第三人稱單數（基數）</td>\n",
       "    </tr>\n",
       "    <tr>\n",
       "      <th>31</th>\n",
       "      <td>WP</td>\n",
       "      <td>wh-確定器（那個，什麼）</td>\n",
       "    </tr>\n",
       "    <tr>\n",
       "      <th>32</th>\n",
       "      <td>WRB</td>\n",
       "      <td>wh- 代詞（誰）</td>\n",
       "    </tr>\n",
       "    <tr>\n",
       "      <th>33</th>\n",
       "      <td>NaN</td>\n",
       "      <td>wh- 副詞（如何）</td>\n",
       "    </tr>\n",
       "  </tbody>\n",
       "</table>\n",
       "</div>"
      ],
      "text/plain": [
       "      簡寫                     中文意思\n",
       "0     CC                     並列連詞\n",
       "1     CD                       基數\n",
       "2     DT                      確定器\n",
       "3     EX                     存在那裡\n",
       "4     FW                      外來詞\n",
       "5     IN                  介詞/從屬連詞\n",
       "6     JJ  這個 NLTK POS 標籤是一個形容詞（大）\n",
       "7    JJR              形容詞，比較級（較大）\n",
       "8    JJS              形容詞，最高級（最大）\n",
       "9     LS                     列表市場\n",
       "10    MD                 模式（可以，將）\n",
       "11    NN               名詞，單數（貓，樹）\n",
       "12   NNS              名詞複數 (desk)\n",
       "13   NNP          專有名詞，單數 (sarah)\n",
       "14  NNPS        專有名詞，複數（印第安人或美國人）\n",
       "15   PDT            預定子（全部，兩者，一半）\n",
       "16   POS               所有格結尾（父母的）\n",
       "17   PRP       人稱代詞（她的、她的、他的、他自己）\n",
       "18  PRP$     物主代詞（她、他的、我的、我的、我們的）\n",
       "19    RB                副詞（偶爾，迅速）\n",
       "20   RBR               副詞，比較級（更大）\n",
       "21   RBS               副詞，最高級（最大）\n",
       "22    RP                   粒子（大約）\n",
       "23    TO                  無限標記（到）\n",
       "24    UH                   嘆詞（再見）\n",
       "25   VBG                    動詞（問）\n",
       "26   VBD                動詞動名詞（判斷）\n",
       "27   VBN                動詞過去時（懇求）\n",
       "28   VBP               動詞過去分詞（統一）\n",
       "29   VBZ       動詞，現在時不是第三人稱單數（換行）\n",
       "30   WDT        動詞，現在時，第三人稱單數（基數）\n",
       "31    WP            wh-確定器（那個，什麼）\n",
       "32   WRB                wh- 代詞（誰）\n",
       "33   NaN               wh- 副詞（如何）"
      ]
     },
     "execution_count": 17,
     "metadata": {},
     "output_type": "execute_result"
    }
   ],
   "source": [
    "import pandas as pd\n",
    "data = { \"簡寫\" : pd.Series([\"CC\", \"CD\", \"DT\", \"EX\", \"FW\", \"IN\", \"JJ\", \"JJR\", \"JJS\", \"LS\", \"MD\", \"NN\", \"NNS\", \"NNP\", \"NNPS\", \"PDT\", \"POS\", \"PRP\", \"PRP$\", \"RB\", \"RBR\", \"RBS\", \"RP\", \"TO\",\n",
    "                           \"UH\", \"VBG\", \"VBD\", \"VBN\", \"VBP\", \"VBZ\", \"WDT\", \"WP\", \"WRB\"]),\n",
    "      \"中文意思\" : pd.Series([\"並列連詞\", \"基數\", \"確定器\", \"存在那裡\", \"外來詞\", \"介詞/從屬連詞\", \"這個 NLTK POS 標籤是一個形容詞（大）\", \"形容詞，比較級（較大）\", \"形容詞，最高級（最大）\", \"列表市場\",\n",
    "                          \"模式（可以，將）\", \"名詞，單數（貓，樹）\", \"名詞複數 (desk)\", \"專有名詞，單數 (sarah)\", \"專有名詞，複數（印第安人或美國人）\", \"預定子（全部，兩者，一半）\", \"所有格結尾（父母的）\",\n",
    "                          \"人稱代詞（她的、她的、他的、他自己）\", \"物主代詞（她、他的、我的、我的、我們的）\", \"副詞（偶爾，迅速）\", \"副詞，比較級（更大）\", \"副詞，最高級（最大）\", \"粒子（大約）\", \"無限標記（到）\",\n",
    "                          \"嘆詞（再見）\", \"動詞（問）\", \"動詞動名詞（判斷）\", \"動詞過去時（懇求）\", \"動詞過去分詞（統一）\", \"動詞，現在時不是第三人稱單數（換行）\", \"動詞，現在時，第三人稱單數（基數）\",\n",
    "                          \"wh-確定器（那個，什麼）\", \"wh- 代詞（誰）\", \"wh- 副詞（如何）\"])}\n",
    "df = pd.DataFrame(data)\n",
    "df"
   ]
  },
  {
   "cell_type": "markdown",
   "id": "220afcee",
   "metadata": {},
   "source": [
    "### NER (命名實體辨識)\n",
    " "
   ]
  },
  {
   "cell_type": "code",
   "execution_count": 18,
   "id": "15abe405",
   "metadata": {},
   "outputs": [
    {
     "name": "stderr",
     "output_type": "stream",
     "text": [
      "[nltk_data] Downloading package maxent_ne_chunker to C:\\Users\\ar-\n",
      "[nltk_data]     haochuan.kao\\AppData\\Roaming\\nltk_data...\n",
      "[nltk_data]   Package maxent_ne_chunker is already up-to-date!\n",
      "[nltk_data] Downloading package words to C:\\Users\\ar-\n",
      "[nltk_data]     haochuan.kao\\AppData\\Roaming\\nltk_data...\n",
      "[nltk_data]   Package words is already up-to-date!\n"
     ]
    },
    {
     "data": {
      "text/plain": [
       "True"
      ]
     },
     "execution_count": 18,
     "metadata": {},
     "output_type": "execute_result"
    }
   ],
   "source": [
    "nltk.download('maxent_ne_chunker')\n",
    "nltk.download('words')"
   ]
  },
  {
   "cell_type": "code",
   "execution_count": 19,
   "id": "fa8c653c",
   "metadata": {},
   "outputs": [
    {
     "name": "stdout",
     "output_type": "stream",
     "text": [
      "('United States', 'GPE')\n",
      "('Communist', 'ORGANIZATION')\n",
      "('Mao', 'PERSON')\n",
      "('Communist Party', 'ORGANIZATION')\n",
      "('Chinese', 'GPE')\n",
      "('China', 'GPE')\n",
      "('Party', 'ORGANIZATION')\n",
      "('Wealth', 'GPE')\n"
     ]
    }
   ],
   "source": [
    "ne_chunked_sents = [nltk.ne_chunk(tag) for tag in pos]\n",
    "named_entities = []\n",
    "\n",
    "for ne_tagged_sentence in ne_chunked_sents:\n",
    "    for tagged_tree in ne_tagged_sentence:\n",
    "        if hasattr(tagged_tree, 'label'):\n",
    "            entity_name = ' '.join(c[0] for c in tagged_tree.leaves())\n",
    "            entity_type = tagged_tree.label()\n",
    "            named_entities.append((entity_name, entity_type))\n",
    "            named_entities = list(set(named_entities))\n",
    "\n",
    "for ner in named_entities:\n",
    "    print(ner)\n",
    "\n"
   ]
  },
  {
   "cell_type": "code",
   "execution_count": 21,
   "id": "c4979f8f",
   "metadata": {},
   "outputs": [
    {
     "data": {
      "text/html": [
       "<div>\n",
       "<style scoped>\n",
       "    .dataframe tbody tr th:only-of-type {\n",
       "        vertical-align: middle;\n",
       "    }\n",
       "\n",
       "    .dataframe tbody tr th {\n",
       "        vertical-align: top;\n",
       "    }\n",
       "\n",
       "    .dataframe thead th {\n",
       "        text-align: right;\n",
       "    }\n",
       "</style>\n",
       "<table border=\"1\" class=\"dataframe\">\n",
       "  <thead>\n",
       "    <tr style=\"text-align: right;\">\n",
       "      <th></th>\n",
       "      <th>簡寫</th>\n",
       "      <th>中文意思</th>\n",
       "    </tr>\n",
       "  </thead>\n",
       "  <tbody>\n",
       "    <tr>\n",
       "      <th>0</th>\n",
       "      <td>PERSON</td>\n",
       "      <td>人名</td>\n",
       "    </tr>\n",
       "    <tr>\n",
       "      <th>1</th>\n",
       "      <td>ORGANIZATION</td>\n",
       "      <td>組織名</td>\n",
       "    </tr>\n",
       "    <tr>\n",
       "      <th>2</th>\n",
       "      <td>LOCATION</td>\n",
       "      <td>地名</td>\n",
       "    </tr>\n",
       "    <tr>\n",
       "      <th>3</th>\n",
       "      <td>DATE</td>\n",
       "      <td>日期</td>\n",
       "    </tr>\n",
       "    <tr>\n",
       "      <th>4</th>\n",
       "      <td>TIME</td>\n",
       "      <td>時間(較細)</td>\n",
       "    </tr>\n",
       "    <tr>\n",
       "      <th>5</th>\n",
       "      <td>MONEY</td>\n",
       "      <td>金錢</td>\n",
       "    </tr>\n",
       "    <tr>\n",
       "      <th>6</th>\n",
       "      <td>PERCAENT</td>\n",
       "      <td>百分比</td>\n",
       "    </tr>\n",
       "    <tr>\n",
       "      <th>7</th>\n",
       "      <td>FACILITY</td>\n",
       "      <td>知名的紀念碑或人工製品</td>\n",
       "    </tr>\n",
       "    <tr>\n",
       "      <th>8</th>\n",
       "      <td>GPE</td>\n",
       "      <td>地理位置(城市，州，國家，洲)</td>\n",
       "    </tr>\n",
       "  </tbody>\n",
       "</table>\n",
       "</div>"
      ],
      "text/plain": [
       "             簡寫             中文意思\n",
       "0        PERSON               人名\n",
       "1  ORGANIZATION              組織名\n",
       "2      LOCATION               地名\n",
       "3          DATE               日期\n",
       "4          TIME           時間(較細)\n",
       "5         MONEY               金錢\n",
       "6      PERCAENT              百分比\n",
       "7      FACILITY      知名的紀念碑或人工製品\n",
       "8           GPE  地理位置(城市，州，國家，洲)"
      ]
     },
     "execution_count": 21,
     "metadata": {},
     "output_type": "execute_result"
    }
   ],
   "source": [
    "import pandas as pd\n",
    "data = { \"簡寫\" : pd.Series([\"PERSON\", \"ORGANIZATION\", \"LOCATION\", \"DATE\", \"TIME\", \"MONEY\", \"PERCAENT\",\"FACILITY\", \"GPE\"]),\n",
    "      \"中文意思\" : pd.Series([\"人名\", \"組織名\", \"地名\", \"日期\", \"時間(較細)\", \"金錢\", \"百分比\",\"知名的紀念碑或人工製品\", \"地理位置(城市，州，國家，洲)\"])}\n",
    "df = pd.DataFrame(data)\n",
    "df"
   ]
  },
  {
   "cell_type": "code",
   "execution_count": null,
   "id": "92f97919",
   "metadata": {},
   "outputs": [],
   "source": []
  }
 ],
 "metadata": {
  "kernelspec": {
   "display_name": "Python 3 (ipykernel)",
   "language": "python",
   "name": "python3"
  },
  "language_info": {
   "codemirror_mode": {
    "name": "ipython",
    "version": 3
   },
   "file_extension": ".py",
   "mimetype": "text/x-python",
   "name": "python",
   "nbconvert_exporter": "python",
   "pygments_lexer": "ipython3",
   "version": "3.7.3"
  }
 },
 "nbformat": 4,
 "nbformat_minor": 5
}
