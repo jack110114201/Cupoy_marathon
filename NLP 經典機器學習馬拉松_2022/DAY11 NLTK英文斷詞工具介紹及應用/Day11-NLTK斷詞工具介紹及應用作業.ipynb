{
 "cells": [
  {
   "cell_type": "code",
   "execution_count": 1,
   "id": "eab904ac",
   "metadata": {
    "execution": {
     "iopub.execute_input": "2022-02-07T08:00:28.122489Z",
     "iopub.status.busy": "2022-02-07T08:00:28.122114Z",
     "iopub.status.idle": "2022-02-07T08:00:28.129560Z",
     "shell.execute_reply": "2022-02-07T08:00:28.128312Z",
     "shell.execute_reply.started": "2022-02-07T08:00:28.122441Z"
    },
    "tags": []
   },
   "outputs": [],
   "source": [
    "## 英文文本為此BBC新聞\n",
    "#https://www.bbc.com/news/health-60161124"
   ]
  },
  {
   "cell_type": "code",
   "execution_count": 1,
   "id": "a54956d3",
   "metadata": {
    "execution": {
     "iopub.execute_input": "2022-02-07T08:00:28.135181Z",
     "iopub.status.busy": "2022-02-07T08:00:28.134833Z",
     "iopub.status.idle": "2022-02-07T08:00:28.141447Z",
     "shell.execute_reply": "2022-02-07T08:00:28.140379Z",
     "shell.execute_reply.started": "2022-02-07T08:00:28.135142Z"
    },
    "tags": []
   },
   "outputs": [],
   "source": [
    "text = \"\"\"Omicron's fall has slowed - should we worry?\n",
    "Covid cases have been falling in the UK since early January - but that decline has now come to a halt.\n",
    "For more than a week, the daily number of positive tests being reported has been averaging just above 90,000.\n",
    "That's well above the peak of last winter. But how concerning is this?\n",
    "Covid cases have been falling in the UK since early January - but that decline has now come to a halt.\n",
    "For more than a week, the daily number of positive tests being reported has been averaging just above 90,000.\n",
    "That's well above the peak of last winter. But how concerning is this?\n",
    "But low levels of mixing also played a role. By the end of December, adults were averaging about 2.7 contacts a day - close to what was seen in the first lockdown.\n",
    "As people have returned to work and school, contacts will have increased, giving the virus more opportunity to spread.\n",
    "Particularly high levels are now being detected in children and this seems to be translating to an increase in cases in their parents' age group.\n",
    "Another factor that will come into play is waning immunity - by 10 weeks that initial protection against infection has started to wane quite significantly.\n",
    "Cases are now going to \"stay high until the spring\" and continue to disrupt our daily lives, Zoe Covid symptom-tracking app lead scientist Prof Tim Spector believes.\n",
    "\"It's crucial that we're responsible with our new freedoms and help prevent the virus reaching the more vulnerable groups,\" he says.\n",
    "\"\"\""
   ]
  },
  {
   "cell_type": "markdown",
   "id": "aa9d8650",
   "metadata": {},
   "source": [
    "# Q1: 請先去除換行符號，並使用簡單的str.split()斷句後，再進行一次str.split()斷詞。"
   ]
  },
  {
   "cell_type": "code",
   "execution_count": 41,
   "id": "dc0f20b7",
   "metadata": {
    "tags": []
   },
   "outputs": [
    {
     "name": "stdout",
     "output_type": "stream",
     "text": [
      "['Omicrons', 'fall', 'has', 'slowed', '-', 'should', 'we', 'worry', 'Covid', 'cases', 'have', 'been', 'falling', 'in', 'the', 'UK', 'since', 'early', 'January', '-', 'but', 'that', 'decline', 'has', 'now', 'come', 'to', 'a', 'halt', 'For', 'more', 'than', 'a', 'week,', 'the', 'daily', 'number', 'of', 'positive', 'tests', 'being', 'reported', 'has', 'been', 'averaging', 'just', 'above', '90,000', 'Thats', 'well', 'above', 'the', 'peak', 'of', 'last', 'winter', '', 'But', 'how', 'concerning', 'is', 'this', 'Covid', 'cases', 'have', 'been', 'falling', 'in', 'the', 'UK', 'since', 'early', 'January', '-', 'but', 'that', 'decline', 'has', 'now', 'come', 'to', 'a', 'halt', 'For', 'more', 'than', 'a', 'week,', 'the', 'daily', 'number', 'of', 'positive', 'tests', 'being', 'reported', 'has', 'been', 'averaging', 'just', 'above', '90,000', 'Thats', 'well', 'above', 'the', 'peak', 'of', 'last', 'winter', '', 'But', 'how', 'concerning', 'is', 'this', 'But', 'low', 'levels', 'of', 'mixing', 'also', 'played', 'a', 'role', '', 'By', 'the', 'end', 'of', 'December,', 'adults', 'were', 'averaging', 'about', '2', '7', 'contacts', 'a', 'day', '-', 'close', 'to', 'what', 'was', 'seen', 'in', 'the', 'first', 'lockdown', 'As', 'people', 'have', 'returned', 'to', 'work', 'and', 'school,', 'contacts', 'will', 'have', 'increased,', 'giving', 'the', 'virus', 'more', 'opportunity', 'to', 'spread', 'Particularly', 'high', 'levels', 'are', 'now', 'being', 'detected', 'in', 'children', 'and', 'this', 'seems', 'to', 'be', 'translating', 'to', 'an', 'increase', 'in', 'cases', 'in', 'their', 'parents', 'age', 'group', 'Another', 'factor', 'that', 'will', 'come', 'into', 'play', 'is', 'waning', 'immunity', '-', 'by', '10', 'weeks', 'that', 'initial', 'protection', 'against', 'infection', 'has', 'started', 'to', 'wane', 'quite', 'significantly', 'Cases', 'are', 'now', 'going', 'to', '\"stay', 'high', 'until', 'the', 'spring\"', 'and', 'continue', 'to', 'disrupt', 'our', 'daily', 'lives,', 'Zoe', 'Covid', 'symptom-tracking', 'app', 'lead', 'scientist', 'Prof', 'Tim', 'Spector', 'believes', '\"Its', 'crucial', 'that', 'were', 'responsible', 'with', 'our', 'new', 'freedoms', 'and', 'help', 'prevent', 'the', 'virus', 'reaching', 'the', 'more', 'vulnerable', 'groups,\"', 'he', 'says', '']\n"
     ]
    }
   ],
   "source": [
    "# A:\n",
    "\"\"\"\n",
    "# 1.去除換行\n",
    "# 2.斷句\n",
    "# 3.斷詞\n",
    "\"\"\"\n",
    "\n",
    "import re\n",
    "a = text.replace('\\n','').replace(\"\\'\",'')\n",
    "sentence = re.split(r'\\?|\\.', a)\n",
    "\n",
    "token_text = []\n",
    "for sent in sentence:\n",
    "    sent_word_list = sent.split(\" \") #英文的先天優勢，可以用空格作為分隔\n",
    "    token_text.extend(sent_word_list)\n",
    "\n",
    "\n",
    "\n",
    "print(token_text)"
   ]
  },
  {
   "cell_type": "markdown",
   "id": "6c00aa26",
   "metadata": {},
   "source": [
    "# Q2: 請先去除換行符號，並使用NLTK斷詞。"
   ]
  },
  {
   "cell_type": "code",
   "execution_count": 43,
   "id": "5d6b21dc",
   "metadata": {
    "tags": []
   },
   "outputs": [
    {
     "name": "stdout",
     "output_type": "stream",
     "text": [
      "['Omicrons', 'fall', 'has', 'slowed', '-', 'should', 'we', 'worry', '?', 'Covid', 'cases', 'have', 'been', 'falling', 'in', 'the', 'UK', 'since', 'early', 'January', '-', 'but', 'that', 'decline', 'has', 'now', 'come', 'to', 'a', 'halt.For', 'more', 'than', 'a', 'week', ',', 'the', 'daily', 'number', 'of', 'positive', 'tests', 'being', 'reported', 'has', 'been', 'averaging', 'just', 'above', '90,000.Thats', 'well', 'above', 'the', 'peak', 'of', 'last', 'winter', '.']\n",
      "['But', 'how', 'concerning', 'is', 'this', '?', 'Covid', 'cases', 'have', 'been', 'falling', 'in', 'the', 'UK', 'since', 'early', 'January', '-', 'but', 'that', 'decline', 'has', 'now', 'come', 'to', 'a', 'halt.For', 'more', 'than', 'a', 'week', ',', 'the', 'daily', 'number', 'of', 'positive', 'tests', 'being', 'reported', 'has', 'been', 'averaging', 'just', 'above', '90,000.Thats', 'well', 'above', 'the', 'peak', 'of', 'last', 'winter', '.']\n",
      "['But', 'how', 'concerning', 'is', 'this', '?', 'But', 'low', 'levels', 'of', 'mixing', 'also', 'played', 'a', 'role', '.']\n",
      "['By', 'the', 'end', 'of', 'December', ',', 'adults', 'were', 'averaging', 'about', '2.7', 'contacts', 'a', 'day', '-', 'close', 'to', 'what', 'was', 'seen', 'in', 'the', 'first', 'lockdown.As', 'people', 'have', 'returned', 'to', 'work', 'and', 'school', ',', 'contacts', 'will', 'have', 'increased', ',', 'giving', 'the', 'virus', 'more', 'opportunity', 'to', 'spread.Particularly', 'high', 'levels', 'are', 'now', 'being', 'detected', 'in', 'children', 'and', 'this', 'seems', 'to', 'be', 'translating', 'to', 'an', 'increase', 'in', 'cases', 'in', 'their', 'parents', 'age', 'group.Another', 'factor', 'that', 'will', 'come', 'into', 'play', 'is', 'waning', 'immunity', '-', 'by', '10', 'weeks', 'that', 'initial', 'protection', 'against', 'infection', 'has', 'started', 'to', 'wane', 'quite', 'significantly.Cases', 'are', 'now', 'going', 'to', '``', 'stay', 'high', 'until', 'the', 'spring', \"''\", 'and', 'continue', 'to', 'disrupt', 'our', 'daily', 'lives', ',', 'Zoe', 'Covid', 'symptom-tracking', 'app', 'lead', 'scientist', 'Prof', 'Tim', 'Spector', 'believes', '.']\n",
      "['``', 'Its', 'crucial', 'that', 'were', 'responsible', 'with', 'our', 'new', 'freedoms', 'and', 'help', 'prevent', 'the', 'virus', 'reaching', 'the', 'more', 'vulnerable', 'groups', ',', \"''\", 'he', 'says', '.']\n"
     ]
    }
   ],
   "source": [
    "# A:\n",
    "\"\"\"\n",
    "# 1.去除換行\n",
    "# 2.NLTK斷詞\n",
    "\"\"\"\n",
    "import nltk\n",
    "text = text.replace('\\n','').replace(\"\\'\",'')\n",
    "sentences = nltk.sent_tokenize(text)\n",
    "tokens = [nltk.tokenize.word_tokenize(sent) for sent in sentences] #使用 NLTK package內建的函式->word_tokenize來斷詞\n",
    "\n",
    "\n",
    "for token in tokens:\n",
    "    print(token)"
   ]
  },
  {
   "cell_type": "markdown",
   "id": "df977592",
   "metadata": {},
   "source": [
    "# Q3: 請使用NLTK內建的nltk.pos_tag( )來進行詞性標記。"
   ]
  },
  {
   "cell_type": "code",
   "execution_count": 44,
   "id": "00cd1d7c",
   "metadata": {
    "tags": []
   },
   "outputs": [
    {
     "name": "stdout",
     "output_type": "stream",
     "text": [
      "[('Omicrons', 'NNS'), ('fall', 'NN'), ('has', 'VBZ'), ('slowed', 'VBN'), ('-', ':'), ('should', 'MD'), ('we', 'PRP'), ('worry', 'VB'), ('?', '.'), ('Covid', 'NNP'), ('cases', 'NNS'), ('have', 'VBP'), ('been', 'VBN'), ('falling', 'VBG'), ('in', 'IN'), ('the', 'DT'), ('UK', 'NNP'), ('since', 'IN'), ('early', 'RB'), ('January', 'NNP'), ('-', ':'), ('but', 'CC'), ('that', 'DT'), ('decline', 'NN'), ('has', 'VBZ'), ('now', 'RB'), ('come', 'VBN'), ('to', 'TO'), ('a', 'DT'), ('halt.For', 'NN'), ('more', 'JJR'), ('than', 'IN'), ('a', 'DT'), ('week', 'NN'), (',', ','), ('the', 'DT'), ('daily', 'JJ'), ('number', 'NN'), ('of', 'IN'), ('positive', 'JJ'), ('tests', 'NNS'), ('being', 'VBG'), ('reported', 'VBN'), ('has', 'VBZ'), ('been', 'VBN'), ('averaging', 'VBG'), ('just', 'RB'), ('above', 'IN'), ('90,000.Thats', 'CD'), ('well', 'RB'), ('above', 'IN'), ('the', 'DT'), ('peak', 'NN'), ('of', 'IN'), ('last', 'JJ'), ('winter', 'NN'), ('.', '.')]\n",
      "[('But', 'CC'), ('how', 'WRB'), ('concerning', 'NN'), ('is', 'VBZ'), ('this', 'DT'), ('?', '.'), ('Covid', 'NNP'), ('cases', 'NNS'), ('have', 'VBP'), ('been', 'VBN'), ('falling', 'VBG'), ('in', 'IN'), ('the', 'DT'), ('UK', 'NNP'), ('since', 'IN'), ('early', 'RB'), ('January', 'NNP'), ('-', ':'), ('but', 'CC'), ('that', 'DT'), ('decline', 'NN'), ('has', 'VBZ'), ('now', 'RB'), ('come', 'VBN'), ('to', 'TO'), ('a', 'DT'), ('halt.For', 'NN'), ('more', 'JJR'), ('than', 'IN'), ('a', 'DT'), ('week', 'NN'), (',', ','), ('the', 'DT'), ('daily', 'JJ'), ('number', 'NN'), ('of', 'IN'), ('positive', 'JJ'), ('tests', 'NNS'), ('being', 'VBG'), ('reported', 'VBN'), ('has', 'VBZ'), ('been', 'VBN'), ('averaging', 'VBG'), ('just', 'RB'), ('above', 'IN'), ('90,000.Thats', 'CD'), ('well', 'RB'), ('above', 'IN'), ('the', 'DT'), ('peak', 'NN'), ('of', 'IN'), ('last', 'JJ'), ('winter', 'NN'), ('.', '.')]\n",
      "[('But', 'CC'), ('how', 'WRB'), ('concerning', 'NN'), ('is', 'VBZ'), ('this', 'DT'), ('?', '.'), ('But', 'CC'), ('low', 'JJ'), ('levels', 'NNS'), ('of', 'IN'), ('mixing', 'NN'), ('also', 'RB'), ('played', 'VBD'), ('a', 'DT'), ('role', 'NN'), ('.', '.')]\n",
      "[('By', 'IN'), ('the', 'DT'), ('end', 'NN'), ('of', 'IN'), ('December', 'NNP'), (',', ','), ('adults', 'NNS'), ('were', 'VBD'), ('averaging', 'VBG'), ('about', 'RB'), ('2.7', 'CD'), ('contacts', 'NNS'), ('a', 'DT'), ('day', 'NN'), ('-', ':'), ('close', 'NN'), ('to', 'TO'), ('what', 'WP'), ('was', 'VBD'), ('seen', 'VBN'), ('in', 'IN'), ('the', 'DT'), ('first', 'JJ'), ('lockdown.As', 'NN'), ('people', 'NNS'), ('have', 'VBP'), ('returned', 'VBN'), ('to', 'TO'), ('work', 'VB'), ('and', 'CC'), ('school', 'NN'), (',', ','), ('contacts', 'NNS'), ('will', 'MD'), ('have', 'VB'), ('increased', 'VBN'), (',', ','), ('giving', 'VBG'), ('the', 'DT'), ('virus', 'NN'), ('more', 'JJR'), ('opportunity', 'NN'), ('to', 'TO'), ('spread.Particularly', 'RB'), ('high', 'JJ'), ('levels', 'NNS'), ('are', 'VBP'), ('now', 'RB'), ('being', 'VBG'), ('detected', 'VBN'), ('in', 'IN'), ('children', 'NNS'), ('and', 'CC'), ('this', 'DT'), ('seems', 'VBZ'), ('to', 'TO'), ('be', 'VB'), ('translating', 'VBG'), ('to', 'TO'), ('an', 'DT'), ('increase', 'NN'), ('in', 'IN'), ('cases', 'NNS'), ('in', 'IN'), ('their', 'PRP$'), ('parents', 'NNS'), ('age', 'NN'), ('group.Another', 'NN'), ('factor', 'NN'), ('that', 'WDT'), ('will', 'MD'), ('come', 'VB'), ('into', 'IN'), ('play', 'NN'), ('is', 'VBZ'), ('waning', 'VBG'), ('immunity', 'NN'), ('-', ':'), ('by', 'IN'), ('10', 'CD'), ('weeks', 'NNS'), ('that', 'IN'), ('initial', 'JJ'), ('protection', 'NN'), ('against', 'IN'), ('infection', 'NN'), ('has', 'VBZ'), ('started', 'VBN'), ('to', 'TO'), ('wane', 'VB'), ('quite', 'RB'), ('significantly.Cases', 'NNS'), ('are', 'VBP'), ('now', 'RB'), ('going', 'VBG'), ('to', 'TO'), ('``', '``'), ('stay', 'VB'), ('high', 'JJ'), ('until', 'IN'), ('the', 'DT'), ('spring', 'NN'), (\"''\", \"''\"), ('and', 'CC'), ('continue', 'VB'), ('to', 'TO'), ('disrupt', 'VB'), ('our', 'PRP$'), ('daily', 'JJ'), ('lives', 'NNS'), (',', ','), ('Zoe', 'NNP'), ('Covid', 'NNP'), ('symptom-tracking', 'JJ'), ('app', 'JJ'), ('lead', 'NN'), ('scientist', 'NN'), ('Prof', 'NNP'), ('Tim', 'NNP'), ('Spector', 'NNP'), ('believes', 'VBZ'), ('.', '.')]\n",
      "[('``', '``'), ('Its', 'PRP$'), ('crucial', 'JJ'), ('that', 'WDT'), ('were', 'VBD'), ('responsible', 'JJ'), ('with', 'IN'), ('our', 'PRP$'), ('new', 'JJ'), ('freedoms', 'NNS'), ('and', 'CC'), ('help', 'VB'), ('prevent', 'VB'), ('the', 'DT'), ('virus', 'NN'), ('reaching', 'VBG'), ('the', 'DT'), ('more', 'RBR'), ('vulnerable', 'JJ'), ('groups', 'NNS'), (',', ','), (\"''\", \"''\"), ('he', 'PRP'), ('says', 'VBZ'), ('.', '.')]\n"
     ]
    }
   ],
   "source": [
    "# A:\n",
    "# nltk.download('averaged_perceptron_tagger') #若沒執行過  要先執行。\n",
    "\n",
    "pos = [nltk.pos_tag(token) for token in tokens] #使用 NLTK package內建的函式->pos_tag來作詞性標記\n",
    "\n",
    "\n",
    "\"\"\"\n",
    "# 1.延續上方的tokens\n",
    "# 2.記得下載tagger package\n",
    "# 3.nltk.pos_tag( )\n",
    "\"\"\"\n",
    "\n",
    "for item in pos:\n",
    "    print(item)"
   ]
  },
  {
   "cell_type": "markdown",
   "id": "215aa292",
   "metadata": {},
   "source": [
    "# Q4: 請使用NLTK內建的nltk.ne_chunk( )來進行命名實體識別。"
   ]
  },
  {
   "cell_type": "code",
   "execution_count": 45,
   "id": "753e9ae1",
   "metadata": {
    "tags": []
   },
   "outputs": [
    {
     "name": "stdout",
     "output_type": "stream",
     "text": [
      "('Zoe Covid', 'PERSON')\n",
      "('UK', 'ORGANIZATION')\n"
     ]
    }
   ],
   "source": [
    "# A:\n",
    "# nltk.download('maxent_ne_chunker') #若沒執行過  要先執行。\n",
    "# nltk.download('words') #若沒執行過  要先執行。\n",
    "\n",
    "ne_chunked_sents = [nltk.ne_chunk(tag) for tag in pos]\n",
    "named_entities = []\n",
    "\n",
    "\"\"\"\n",
    "# 1.延續上方的pos\n",
    "# 2.記得下載兩個package (chunker, words)\n",
    "# 3.依據範例將 nltk.ne_chunk(tag) 完成\n",
    "\"\"\"\n",
    "\n",
    "for ne_tagged_sentence in ne_chunked_sents:\n",
    "    for tagged_tree in ne_tagged_sentence:\n",
    "        if hasattr(tagged_tree, 'label'):\n",
    "            entity_name = ' '.join(c[0] for c in tagged_tree.leaves())\n",
    "            entity_type = tagged_tree.label()\n",
    "            named_entities.append((entity_name, entity_type))\n",
    "            named_entities = list(set(named_entities))\n",
    "\n",
    "for ner in named_entities:\n",
    "    print(ner)\n",
    "\n"
   ]
  },
  {
   "cell_type": "code",
   "execution_count": null,
   "id": "eb04e025",
   "metadata": {},
   "outputs": [],
   "source": []
  }
 ],
 "metadata": {
  "kernelspec": {
   "display_name": "Python 3 (ipykernel)",
   "language": "python",
   "name": "python3"
  },
  "language_info": {
   "codemirror_mode": {
    "name": "ipython",
    "version": 3
   },
   "file_extension": ".py",
   "mimetype": "text/x-python",
   "name": "python",
   "nbconvert_exporter": "python",
   "pygments_lexer": "ipython3",
   "version": "3.7.3"
  }
 },
 "nbformat": 4,
 "nbformat_minor": 5
}
