{
 "cells": [
  {
   "cell_type": "markdown",
   "metadata": {},
   "source": [
    "# YAHOO電影爬蟲練習\n",
    "## 練習爬取電影放映資訊。必須逐步獲取電影的代號、放映地區、放映日期後，再送出查詢給伺服器。"
   ]
  },
  {
   "cell_type": "code",
   "execution_count": 1,
   "metadata": {},
   "outputs": [],
   "source": [
    "import requests\n",
    "import re\n",
    "from bs4 import BeautifulSoup"
   ]
  },
  {
   "cell_type": "markdown",
   "metadata": {},
   "source": [
    "### 先搜尋全部的電影代號(ID)資訊"
   ]
  },
  {
   "cell_type": "code",
   "execution_count": 17,
   "metadata": {},
   "outputs": [
    {
     "name": "stdout",
     "output_type": "stream",
     "text": [
      "Movie: 攀登者, ID: 11948\n",
      "Movie: 461個便當, ID: 11873\n",
      "Movie: 死亡教室：母校, ID: 11825\n",
      "Movie: 我從來不是幽默的女生, ID: 11824\n",
      "Movie: 天菜特警, ID: 11821\n",
      "Movie: 有你相伴的旅程, ID: 11757\n",
      "Movie: 魔仿犯, ID: 11739\n",
      "Movie: 北海浩劫, ID: 11711\n",
      "Movie: 終極生存戰, ID: 11708\n",
      "Movie: 藍宇, ID: 11695\n",
      "Movie: ANNETTE：星夢戀歌, ID: 11635\n",
      "Movie: 法蘭西特派週報, ID: 11633\n",
      "Movie: 麥迪遜之橋, ID: 11617\n",
      "Movie: 寶可夢：皮卡丘與可可的冒險, ID: 11607\n",
      "Movie: 大紅狗克里弗, ID: 11416\n",
      "Movie: 今晚來點史密斯, ID: 11805\n",
      "Movie: 最後一個平安夜, ID: 11765\n",
      "Movie: 仰望星空的少年, ID: 11764\n",
      "Movie: 殺出個黃昏, ID: 11746\n",
      "Movie: 小教父全新4K完整導演版, ID: 11682\n",
      "Movie: 哈利波特：神秘的魔法石, ID: 11677\n",
      "Movie: 詭祭, ID: 11649\n",
      "Movie: 爆裂戰警, ID: 11644\n",
      "Movie: 活了100天的鱷魚, ID: 11638\n",
      "Movie: 配對遊戲, ID: 11637\n",
      "Movie: 青春特調蜂蜜檸檬蘇打, ID: 11631\n",
      "Movie: 迷情蘇珊娜, ID: 11623\n",
      "Movie: 魔法少女☆伊莉雅：LICHT無名的少女, ID: 11606\n",
      "Movie: 獵魂者, ID: 11603\n",
      "Movie: 美國女孩, ID: 11600\n",
      "Movie: 生而為人, ID: 11589\n",
      "Movie: 天才貓奴畫家, ID: 11538\n",
      "Movie: 潛艦危機倒數, ID: 11422\n",
      "Movie: 異星隕落, ID: 11405\n",
      "Movie: 魔法滿屋, ID: 11736\n",
      "Movie: 殺無赦, ID: 11618\n",
      "Movie: 偶然與想像, ID: 11597\n",
      "Movie: 電影之神, ID: 11568\n",
      "Movie: 沒說出口的殺人告白, ID: 11564\n",
      "Movie: 惡靈古堡首部曲：拉昆市, ID: 11558\n",
      "Movie: 魔法阿媽, ID: 11552\n",
      "Movie: Fate/Grand Order-終局特異點 冠位時間神殿所羅門-, ID: 11550\n",
      "Movie: 阿查依蘭的呼喚, ID: 11378\n",
      "Movie: 月老, ID: 11563\n",
      "Movie: 濁水漂流, ID: 11622\n",
      "Movie: 金錢男孩MONEYBOYS, ID: 11522\n",
      "Movie: 青春弒戀, ID: 11508\n",
      "Movie: 王者理查, ID: 11442\n",
      "Movie: 文林銀行, ID: 11605\n",
      "Movie: 安雅與魔女, ID: 11554\n",
      "Movie: 刀劍神域 –Progressive- 無星夜的詠嘆調, ID: 11504\n",
      "Movie: 詭扯, ID: 11491\n",
      "Movie: 梅艷芳, ID: 11419\n",
      "Movie: 迷離夜蘇活, ID: 11407\n",
      "Movie: 地球迷航, ID: 11544\n",
      "Movie: 史賓賽, ID: 11542\n",
      "Movie: 永恆族, ID: 11472\n",
      "Movie: 天兵阿榮, ID: 11572\n",
      "Movie: 我的英雄學院劇場版：世界英雄任務, ID: 11518\n",
      "Movie: 瀑布, ID: 11481\n",
      "Movie: 蜜月夜不眠, ID: 11495\n",
      "Movie: 月光光新慌慌：萬聖殺, ID: 11414\n",
      "Movie: 猛毒2：血蜘蛛, ID: 11392\n",
      "Movie: 龍與雀斑公主, ID: 11525\n",
      "Movie: 四個好日子, ID: 11516\n",
      "Movie: 鱷魚, ID: 11468\n",
      "Movie: 殺手保鑣2, ID: 10441\n",
      "Movie: 逃出奧斯威辛, ID: 11501\n",
      "Movie: 霹靂油俠, ID: 11494\n",
      "Movie: 007生死交戰, ID: 10406\n",
      "Movie: 蠟筆小新：謎案！天下春日部學院的怪奇事件, ID: 11506\n",
      "Movie: 金錢帝國：追虎擒龍, ID: 11497\n",
      "Movie: 高玩殺手, ID: 11482\n",
      "Movie: 疾凍救援, ID: 11406\n",
      "Movie: 抓狂演訓班, ID: 11485\n",
      "Movie: 算牌手, ID: 11480\n",
      "Movie: 汪汪隊立大功電影版, ID: 11411\n",
      "Movie: 沙丘, ID: 10633\n",
      "Movie: 心悸效應, ID: 11473\n",
      "Movie: 糖果人, ID: 10549\n",
      "Movie: 尚氣與十環傳奇, ID: 11374\n",
      "Movie: 脫稿玩家, ID: 11445\n",
      "Movie: 路卡的夏天, ID: 11268\n",
      "Movie: 自殺突擊隊：集結, ID: 11328\n",
      "Movie: 叢林奇航, ID: 10315\n",
      "Movie: 黑寡婦, ID: 10397\n",
      "Movie: 販膚走卒, ID: 11356\n",
      "Movie: 一級任務, ID: 11346\n",
      "Movie: 聽見歌 再唱, ID: 11232\n",
      "Movie: 醉好的時光, ID: 11223\n",
      "Movie: 尋龍使者：拉雅, ID: 11219\n",
      "Movie: 布紐爾超現實人生, ID: 10334\n"
     ]
    }
   ],
   "source": [
    "# 查看目前上映那些電影，並擷取出其ID資訊\n",
    "url = 'https://movies.yahoo.com.tw/'\n",
    "resp = requests.get(url)\n",
    "resp.encoding = 'utf-8'\n",
    "\n",
    "soup = BeautifulSoup(resp.text, 'lxml')\n",
    "html = soup.find(\"select\", attrs={'name':'movie_id'})\n",
    "movie_item = html.find_all(\"option\", attrs={'data-name':re.compile('.*')})\n",
    "\n",
    "for p in movie_item:\n",
    "    print(\"Movie: %s, ID: %s\" % (p[\"data-name\"], p[\"value\"]))"
   ]
  },
  {
   "cell_type": "markdown",
   "metadata": {},
   "source": [
    "### 指定你有興趣的電影其ID，然後查詢其放映地區資訊。"
   ]
  },
  {
   "cell_type": "code",
   "execution_count": 34,
   "metadata": {},
   "outputs": [],
   "source": [
    "# 參考前一個步驟中擷取到的ID資訊，並指定ID\n",
    "movie_id = 11504"
   ]
  },
  {
   "cell_type": "code",
   "execution_count": 35,
   "metadata": {},
   "outputs": [
    {
     "name": "stdout",
     "output_type": "stream",
     "text": [
      "放映地區: 台北市, 代號(area_id): 28\n",
      "放映地區: 新北市, 代號(area_id): 8\n",
      "放映地區: 桃園, 代號(area_id): 16\n",
      "放映地區: 新竹, 代號(area_id): 20\n",
      "放映地區: 苗栗, 代號(area_id): 15\n",
      "放映地區: 台中, 代號(area_id): 2\n",
      "放映地區: 台南, 代號(area_id): 10\n",
      "放映地區: 高雄, 代號(area_id): 17\n"
     ]
    }
   ],
   "source": [
    "url = 'https://movies.yahoo.com.tw/api/v1/areas_by_movie_theater'\n",
    "payload = {'movie_id':str(movie_id)}\n",
    "\n",
    "# 模擬一個header\n",
    "headers = {\n",
    "    'authority': 'movies.yahoo.com.tw',\n",
    "    'method': 'GET',\n",
    "    'path': '/api/v1/areas_by_movie_theater?movie_id=' + str(movie_id),\n",
    "    'scheme': 'https',\n",
    "    'accept': 'application/json, text/javascript, */*; q=0.01',\n",
    "    'accept-encoding': 'gzip, deflate, br',\n",
    "    'accept-language': 'zh-TW,zh;q=0.9,en-US;q=0.8,en;q=0.7,zh-CN;q=0.6',\n",
    "    'cookie': 'rxx=9s3x2fws06.1g16irnc&v=1; _ga=GA1.3.2056742944.1551651301; GUC=AQEBAQFczFpdm0IfmwSB&s=AQAAACoo4N5D&g=XMsVBw; BX=4hkdk1decm57t&b=3&s=mr; _ga=GA1.4.2056742944.1551651301; nexagesuid=82843256dd234e8e91aa73f2062f8218; browsed_movie=eyJpdiI6IlJXWWtiSWJaZlNGK2MxQnhscnVUYWc9PSIsInZhbHVlIjoiMXRhMmVHRXRIeUNjc1RBWDJzdGYwbnlIQURmWGsrcjJSMzhkbkcraDNJVUNIZEZsbzU3amlFcVZ1NzlmazJrTGpoMjVrbHk1YmpoRENXaHZTOUw1TmI2ZTZVWHdOejZQZm16RmVuMWlHTTJLaTZLVFZZVkFOMDlTd1wvSGltcytJIiwibWFjIjoiZWQ2ZjA4MmVjZmZlYjlmNjJmYmY2NGMyMDI0Njc0NWViYjVkOWE2NDg0N2RhODMxZjBjZDhiMmJhZTc2MDZhYiJ9; avi=eyJpdiI6Im1NeWFJRlVRWDR1endEcGRGUGJUbVE9PSIsInZhbHVlIjoickRpU3JuUytmcGl6cjF5OW0rNU9iZz09IiwibWFjIjoiY2VmY2NkNzZmM2NhNjY5YzlkOTcyNjE5OGEyMzU0NWYxOTdmMDRkMDY3OWNmMmZjOTMxYjc5MjI5N2Q5NGE5MiJ9; cmp=t=1559391030&j=0; _gid=GA1.4.779543841.1559391031; XSRF-TOKEN=eyJpdiI6IkhpS2hGcDRQaHlmWUJmaHdSS2Q2bHc9PSIsInZhbHVlIjoiOUVoNFk4OHI1UUZmUWRtYXhza0MyWjJSTlhlZ3RnT0VGeVJPN2JuczVRMGRFdWt2OUlsamVKeHRobFwvcHBGM0dhU3VyMXNGTHlsb2dVM2l0U1hpUGxBPT0iLCJtYWMiOiJkZWU4YzJhNjAxMTY3MzE4Y2ExNWIxYmE1ZjE1YWZlZTlhOTcyYjc4M2RlZGY4ZWNjZDYyMTA2NGYwZGViMzc2In0%3D; m_s=eyJpdiI6InpsZHZ2Tk1BZ0dxaHhETml1RjBnUXc9PSIsInZhbHVlIjoiSkNGeHUranRoXC85bDFiaDhySTJqNkJRcWdjWUxjeVRJSHVYZ1wvd2d4bWJZUTUrSHVDM0lUcW5KNHdETFZ4T1lieU81OUhzc1VoUXhZcWk0UDZSQXVFdz09IiwibWFjIjoiYmJkMDJkMDhlODIzMzcyMWY4M2NmYWNjNGVlOWRjMDIwZmVmNzAyMjE3Yzg3ZGY3ODBkZWEzZTI4MTI5ZWNmOSJ9; _gat=1; nexagesd=10',\n",
    "    'dnt': '1',\n",
    "    'mv-authorization': '21835b082e15b91a69b3851eec7b31b82ce82afb',\n",
    "    'referer': 'https://movies.yahoo.com.tw/',\n",
    "    'user-agent': 'Mozilla/5.0 (Windows NT 10.0; Win64; x64) AppleWebKit/537.36 (KHTML, like Gecko) Chrome/74.0.3729.169 Safari/537.36',\n",
    "    'x-requested-with': 'XMLHttpRequest',\n",
    "}\n",
    "    \n",
    "resp = requests.get(url, params=payload, headers=headers)\n",
    "#print(resp.json())  # 若有需要，列印出json原始碼\n",
    "\n",
    "# 這裡回傳的格式是JSON格式的資料，要解析JSON擷取資料\n",
    "for p in resp.json():\n",
    "    print('放映地區: {0}, 代號(area_id): {1}'.format(p['title'], p['area_id']))"
   ]
  },
  {
   "cell_type": "markdown",
   "metadata": {},
   "source": [
    "### 指定你想要觀看的放映地區，查詢有上映電影的場次日期"
   ]
  },
  {
   "cell_type": "code",
   "execution_count": 36,
   "metadata": {},
   "outputs": [],
   "source": [
    "# 指定放映地區\n",
    "area_id = 28"
   ]
  },
  {
   "cell_type": "code",
   "execution_count": 37,
   "metadata": {},
   "outputs": [
    {
     "name": "stdout",
     "output_type": "stream",
     "text": [
      "十二月 13\n",
      "十二月 14\n",
      "十二月 15\n",
      "十二月 16\n",
      "十二月 17\n"
     ]
    }
   ],
   "source": [
    "# 向網站發送請求\n",
    "url = 'https://movies.yahoo.com.tw/movietime_result.html'\n",
    "payload = {'movie_id':str(movie_id), 'area_id':str(area_id)}\n",
    "resp = requests.get(url, params=payload)\n",
    "resp.encoding = 'utf-8'\n",
    "\n",
    "soup = BeautifulSoup(resp.text, 'lxml')\n",
    "movie_date = soup.find_all(\"label\", attrs={'for':re.compile(\"date_[\\d]\")})\n",
    "\n",
    "# 列印播放日期\n",
    "for date in movie_date:\n",
    "    print(\"%s %s\" % (date.p.string, date.h3.string))"
   ]
  },
  {
   "cell_type": "markdown",
   "metadata": {},
   "source": [
    "### 最後指定觀看的日期，查詢並列印出放映的電影院、放映類型(數位、3D、IMAX 3D...)、放映時間等資訊。"
   ]
  },
  {
   "cell_type": "code",
   "execution_count": 38,
   "metadata": {},
   "outputs": [],
   "source": [
    "# 選定要觀看的日期\n",
    "date = \"2021-12-13\""
   ]
  },
  {
   "cell_type": "code",
   "execution_count": 39,
   "metadata": {},
   "outputs": [],
   "source": [
    "# 向網站發送請求，獲取上映的電影院及時間資訊\n",
    "url = \"https://movies.yahoo.com.tw/ajax/pc/get_schedule_by_movie\"\n",
    "payload = {'movie_id':str(movie_id),\n",
    "           'date':date,\n",
    "           'area_id':str(area_id),\n",
    "           'theater_id':'',\n",
    "           'datetime':'',\n",
    "           'movie_type_id':''}\n",
    "\n",
    "resp = requests.get(url, params=payload)\n",
    "#print(resp.json()['view'])  # 若有需要，列印出json原始碼\n",
    "\n",
    "soup = BeautifulSoup(resp.json()['view'], 'lxml')\n",
    "html = soup.find_all(\"ul\", attrs={'data-theater_name':re.compile(\".*\")})"
   ]
  },
  {
   "cell_type": "code",
   "execution_count": 40,
   "metadata": {},
   "outputs": [
    {
     "data": {
      "text/plain": [
       "[<ul class=\"area_time _c jq_area_time\" data-theater_name=\"國賓影城(台北長春廣場)\" data-theater_schedules=\"https://movies.yahoo.com.tw/public/index.php/theater_result.html/id=29\" data-theater_url=\"http://www.ambassador.com.tw/\" id=\"theater_id_29\">\n",
       " <li class=\"adds\">\n",
       " <a href=\"https://movies.yahoo.com.tw/public/index.php/theater_result.html/id=29\">國賓影城(台北長春廣場)</a>\n",
       " <span>02-25155755</span>\n",
       " </li>\n",
       " <li class=\"taps\">\n",
       " <span class=\"tapR\">數位</span> </li>\n",
       " <li class=\"time _c\">\n",
       " <div class=\"input_picker jq_input_picker\">\n",
       " <input class=\"gabtn\" data-ga=\"['電影頁_時刻表', '電影頁_時刻表_場次', '刀劍神域 –Progressive- 無星夜的詠嘆調']\" data-movie_date=\"12.13\" data-movie_time=\"13:50\" data-movie_title=\"刀劍神域 –Progressive- 無星夜的詠嘆調\" data-movie_type=\"數位\" data-news=\"news\" id=\"76447842\" name=\"schedule_list\" type=\"radio\" value=\"2021-12-13 13:50:00\"/>\n",
       " <label class=\"\" for=\"76447842\">13:50</label>\n",
       " </div>\n",
       " </li>\n",
       " </ul>,\n",
       " <ul class=\"area_time _c jq_area_time\" data-theater_name=\"欣欣秀泰影城\" data-theater_schedules=\"https://movies.yahoo.com.tw/public/index.php/theater_result.html/id=30\" data-theater_url=\"http://www.showtimes.com.tw/\" id=\"theater_id_30\">\n",
       " <li class=\"adds\">\n",
       " <a href=\"https://movies.yahoo.com.tw/public/index.php/theater_result.html/id=30\">欣欣秀泰影城</a>\n",
       " <span>02-25371889</span>\n",
       " </li>\n",
       " <li class=\"taps\">\n",
       " <span class=\"tapR\">數位</span> </li>\n",
       " <li class=\"time _c\">\n",
       " <div class=\"input_picker jq_input_picker\">\n",
       " <input class=\"gabtn\" data-ga=\"['電影頁_時刻表', '電影頁_時刻表_場次', '刀劍神域 –Progressive- 無星夜的詠嘆調']\" data-movie_date=\"12.13\" data-movie_time=\"13:05\" data-movie_title=\"刀劍神域 –Progressive- 無星夜的詠嘆調\" data-movie_type=\"數位\" data-news=\"news\" id=\"76447911\" name=\"schedule_list\" type=\"radio\" value=\"2021-12-13 13:05:00\"/>\n",
       " <label class=\"\" for=\"76447911\">13:05</label>\n",
       " </div>\n",
       " </li>\n",
       " </ul>,\n",
       " <ul class=\"area_time _c jq_area_time\" data-theater_name=\"台北美麗華大直影城\" data-theater_schedules=\"https://movies.yahoo.com.tw/public/index.php/theater_result.html/id=32\" data-theater_url=\"http://www.miramarcinemas.tw/\" id=\"theater_id_32\">\n",
       " <li class=\"adds\">\n",
       " <a href=\"https://movies.yahoo.com.tw/public/index.php/theater_result.html/id=32\">台北美麗華大直影城</a>\n",
       " <span>02-85022208</span>\n",
       " </li>\n",
       " <li class=\"taps\">\n",
       " <span class=\"tapR\">數位</span> </li>\n",
       " <li class=\"time _c\">\n",
       " <div class=\"input_picker jq_input_picker\">\n",
       " <input class=\"gabtn\" data-cinema=\"40288eb0050f31210ada0f55676b1bbc\" data-date=\"1639324800\" data-ezding=\"ezding\" data-ga=\"['電影頁_時刻表', '電影頁_時刻表_場次', '刀劍神域 –Progressive- 無星夜的詠嘆調']\" data-movie=\"d6ab4855bb5645baad13e8e139537925\" data-movie_date=\"12.13\" data-movie_time=\"23:40\" data-movie_title=\"刀劍神域 –Progressive- 無星夜的詠嘆調\" data-movie_type=\"數位\" data-session=\"9506c601e3464087bfe69611c0a223af\" data-time=\"1639410000\" id=\"76363228\" name=\"schedule_list\" type=\"radio\" value=\"2021-12-13 23:40:00\"/>\n",
       " <label class=\"select\" for=\"76363228\">23:40</label>\n",
       " </div>\n",
       " </li>\n",
       " </ul>,\n",
       " <ul class=\"area_time _c jq_area_time\" data-theater_name=\"百老匯數位影城\" data-theater_schedules=\"https://movies.yahoo.com.tw/public/index.php/theater_result.html/id=52\" data-theater_url=\"http://www.broadway-cineplex.com.tw/index.asp\" id=\"theater_id_52\">\n",
       " <li class=\"adds\">\n",
       " <a href=\"https://movies.yahoo.com.tw/public/index.php/theater_result.html/id=52\">百老匯數位影城</a>\n",
       " <span>02-86636128</span>\n",
       " </li>\n",
       " <li class=\"taps\">\n",
       " <span class=\"tapR\">數位</span> </li>\n",
       " <li class=\"time _c\">\n",
       " <div class=\"input_picker jq_input_picker\">\n",
       " <input class=\"gabtn\" data-ga=\"['電影頁_時刻表', '電影頁_時刻表_場次', '刀劍神域 –Progressive- 無星夜的詠嘆調']\" data-movie_date=\"12.13\" data-movie_time=\"10:00\" data-movie_title=\"刀劍神域 –Progressive- 無星夜的詠嘆調\" data-movie_type=\"數位\" data-news=\"news\" id=\"76447762\" name=\"schedule_list\" type=\"radio\" value=\"2021-12-13 10:00:00\"/>\n",
       " <label class=\"\" for=\"76447762\">10:00</label>\n",
       " </div>\n",
       " </li>\n",
       " </ul>,\n",
       " <ul class=\"area_time _c jq_area_time\" data-theater_name=\"今日秀泰影城\" data-theater_schedules=\"https://movies.yahoo.com.tw/public/index.php/theater_result.html/id=112\" data-theater_url=\"http://showtimes.pixnet.net/blog\" id=\"theater_id_112\">\n",
       " <li class=\"adds\">\n",
       " <a href=\"https://movies.yahoo.com.tw/public/index.php/theater_result.html/id=112\">今日秀泰影城</a>\n",
       " <span>02-23751669</span>\n",
       " </li>\n",
       " <li class=\"taps\">\n",
       " <span class=\"tapR\">數位</span> </li>\n",
       " <li class=\"time _c\">\n",
       " <div class=\"input_picker jq_input_picker\">\n",
       " <input class=\"gabtn\" data-ga=\"['電影頁_時刻表', '電影頁_時刻表_場次', '刀劍神域 –Progressive- 無星夜的詠嘆調']\" data-movie_date=\"12.13\" data-movie_time=\"13:00\" data-movie_title=\"刀劍神域 –Progressive- 無星夜的詠嘆調\" data-movie_type=\"數位\" data-news=\"news\" id=\"76449106\" name=\"schedule_list\" type=\"radio\" value=\"2021-12-13 13:00:00\"/>\n",
       " <label class=\"\" for=\"76449106\">13:00</label>\n",
       " </div>\n",
       " </li>\n",
       " </ul>]"
      ]
     },
     "execution_count": 40,
     "metadata": {},
     "output_type": "execute_result"
    }
   ],
   "source": [
    "html"
   ]
  },
  {
   "cell_type": "code",
   "execution_count": 47,
   "metadata": {},
   "outputs": [
    {
     "name": "stdout",
     "output_type": "stream",
     "text": [
      "電影院:  國賓影城(台北長春廣場)\n",
      "放映類型:  數位\n",
      "2021-12-13 13:50:00\n",
      "電影院:  欣欣秀泰影城\n",
      "放映類型:  數位\n",
      "2021-12-13 13:05:00\n",
      "電影院:  台北美麗華大直影城\n",
      "放映類型:  數位\n",
      "2021-12-13 23:40:00\n",
      "電影院:  百老匯數位影城\n",
      "放映類型:  數位\n",
      "2021-12-13 10:00:00\n",
      "電影院:  今日秀泰影城\n",
      "放映類型:  數位\n",
      "2021-12-13 13:00:00\n"
     ]
    }
   ],
   "source": [
    "for content in html:\n",
    "    print('電影院: ', content.a.text)\n",
    "    print('放映類型: ', content.find('input',class_=\"gabtn\")['data-movie_type'])\n",
    "    print(content.find('input',class_=\"gabtn\")['value'])\n"
   ]
  }
 ],
 "metadata": {
  "kernelspec": {
   "display_name": "Python 3 (ipykernel)",
   "language": "python",
   "name": "python3"
  },
  "language_info": {
   "codemirror_mode": {
    "name": "ipython",
    "version": 3
   },
   "file_extension": ".py",
   "mimetype": "text/x-python",
   "name": "python",
   "nbconvert_exporter": "python",
   "pygments_lexer": "ipython3",
   "version": "3.8.10"
  }
 },
 "nbformat": 4,
 "nbformat_minor": 2
}
