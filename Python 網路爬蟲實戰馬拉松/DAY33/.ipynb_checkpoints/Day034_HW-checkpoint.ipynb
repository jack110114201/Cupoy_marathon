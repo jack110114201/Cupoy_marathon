{
 "cells": [
  {
   "cell_type": "markdown",
   "metadata": {
    "colab_type": "text",
    "id": "I8CoX4R7VoCd"
   },
   "source": [
    "# 反爬：代理伺服器/IP\n",
    "\n",
    "* 了解「IP 黑/白名單」的反爬蟲機制\n",
    "* 「IP 黑/白名單」反爬蟲的因應策略"
   ]
  },
  {
   "cell_type": "markdown",
   "metadata": {
    "colab_type": "text",
    "id": "n-3DZ_r5VoCe"
   },
   "source": [
    "## 作業目標\n",
    "\n",
    "* 目前程式中的 proxy_ips 是手動輸入的，請根據 https://free-proxy-list.net/ 寫一個可自動化抓取可用 Proxy 的 proxy_ips。\n",
    "\n",
    "\n"
   ]
  },
  {
   "cell_type": "code",
   "execution_count": 17,
   "metadata": {},
   "outputs": [],
   "source": [
    "import random\n",
    "import requests\n",
    "from bs4 import BeautifulSoup\n",
    "import re"
   ]
  },
  {
   "cell_type": "code",
   "execution_count": 18,
   "metadata": {},
   "outputs": [],
   "source": [
    "url = 'https://free-proxy-list.net/'\n",
    "\n",
    "res = requests.get(url)\n",
    "soup = BeautifulSoup(res.text, 'html.parser')"
   ]
  },
  {
   "cell_type": "code",
   "execution_count": 20,
   "metadata": {},
   "outputs": [
    {
     "name": "stdout",
     "output_type": "stream",
     "text": [
      "有300個ip\n",
      "['78.84.14.122:53281', '43.229.252.28:53281', '93.105.40.62:41258', '3.17.38.253:80', '202.69.45.22:8080', '41.77.13.186:53281', '183.88.219.206:41564', '194.233.67.98:443', '159.223.118.68:8080', '147.182.140.114:8080']\n"
     ]
    }
   ],
   "source": [
    "proxy_ips=[]\n",
    "t = soup.find_all('td')\n",
    "rex = re.compile('\\d{1,3}\\.\\d{1,3}\\.\\d{1,3}\\.\\d{1,3}')\n",
    "port=False\n",
    "\n",
    "#port的位置都在ip的下個位置\n",
    "for i in t:\n",
    "    if re.search(rex,i.text)!=None:\n",
    "        IP=re.search(rex,i.text).group()\n",
    "        #讀取的下一個為port選項\n",
    "        port=True\n",
    "    if port==True:\n",
    "        proxy_ips.append(IP+':'+i.text)\n",
    "        port=False        \n",
    "        \n",
    "\n",
    "#此網站總共有300個ip\n",
    "print('有{}個ip'.format(len(proxy_ips)))\n",
    "print(proxy_list[0:10])"
   ]
  },
  {
   "cell_type": "code",
   "execution_count": 7,
   "metadata": {
    "colab": {},
    "colab_type": "code",
    "id": "75dIsHjiVoCi"
   },
   "outputs": [
    {
     "name": "stdout",
     "output_type": "stream",
     "text": [
      "Use 206.253.164.28:80\n",
      "Your IP address: 206.253.164.28\n",
      "Use 65.18.114.254:55443\n",
      "Fail\n",
      "Use 185.104.252.10:9090\n",
      "Fail\n",
      "Use 65.18.114.254:55443\n",
      "Fail\n",
      "Use 190.211.105.86:55443\n",
      "Fail\n",
      "Use 79.160.83.167:8118\n",
      "Fail\n",
      "Use 202.62.67.209:53281\n",
      "Fail\n",
      "Use 194.163.148.53:8080\n",
      "Fail\n",
      "Use 8.211.154.52:80\n",
      "Fail\n",
      "Use 181.78.0.46:8080\n",
      "Your IP address: 181.78.0.46\n"
     ]
    }
   ],
   "source": [
    "for i in range(10):\n",
    "    ip = random.choice(proxy_ips)\n",
    "    print('Use', ip)\n",
    "    try:\n",
    "        resp = requests.get('http://ip.filefab.com/index.php',\n",
    "                        proxies={'http': ip, 'https': ip}, timeout=10)\n",
    "        soup = BeautifulSoup(resp.text, 'html.parser')\n",
    "        print(soup.find('h1', id='ipd').text.strip())\n",
    "    except:\n",
    "        print('Fail')"
   ]
  }
 ],
 "metadata": {
  "colab": {
   "name": "homework.ipynb",
   "provenance": []
  },
  "kernelspec": {
   "display_name": "Python 3 (ipykernel)",
   "language": "python",
   "name": "python3"
  },
  "language_info": {
   "codemirror_mode": {
    "name": "ipython",
    "version": 3
   },
   "file_extension": ".py",
   "mimetype": "text/x-python",
   "name": "python",
   "nbconvert_exporter": "python",
   "pygments_lexer": "ipython3",
   "version": "3.8.10"
  }
 },
 "nbformat": 4,
 "nbformat_minor": 1
}
