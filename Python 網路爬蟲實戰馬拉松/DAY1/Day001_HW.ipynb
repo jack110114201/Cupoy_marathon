{
 "cells": [
  {
   "cell_type": "markdown",
   "id": "22477d0c",
   "metadata": {},
   "source": [
    "## 1.（簡答題）檔案、API、爬蟲三種取得資料方式有什麼不同？"
   ]
  },
  {
   "cell_type": "markdown",
   "id": "3969880a",
   "metadata": {},
   "source": [
    "#### 1. 檔案 : 資料會包成檔案提供下載，格式可能包含常用的標準格式，例如「CSV」、「JSON」等等通用的格式。\n",
    "#### 2. API : 提供程式化的連接的接口，讓工程師/分析師可以選擇資料中要讀取的特定部分，而不需要把整批資料事先完整下載回來\n",
    "#### 3. 爬蟲 : 資料沒有以檔案或 API 提供，但出現在網頁上。可以利用爬蟲爬蟲程式，將網頁的資料解析所需的部分。"
   ]
  },
  {
   "cell_type": "markdown",
   "id": "e1e64725",
   "metadata": {},
   "source": [
    "## 2.（實作）完成一個程式，需滿足下列需求：\n",
    "-    下載指定檔案到 Data 資料夾，存成檔名 Homework.txt\n",
    "- 「下載指定檔案到 Data 資料夾，存成檔名 Homework.txt」的檔案網址：https://www.w3.org/TR/PNG/iso_8859-1.txt 或任一個 .txt 的檔案網址\n",
    "-     檢查 Data 資料夾是否有 Homework.txt 檔名之檔案\n",
    "-     將「Hello World」字串覆寫到 Homework.txt 檔案\n",
    "-     檢查 Homework.txt 檔案字數是否符合 Hello World 字數"
   ]
  },
  {
   "cell_type": "code",
   "execution_count": 10,
   "id": "d5cc452c",
   "metadata": {},
   "outputs": [
    {
     "name": "stdout",
     "output_type": "stream",
     "text": [
      "檔案存在\n",
      "字數符合\n"
     ]
    }
   ],
   "source": [
    "from urllib.request import urlretrieve\n",
    "import os\n",
    "\n",
    "fullfilename = os.path.join(\"./Data/\", \"Homework.txt\")\n",
    "\n",
    "try:\n",
    "    os.makedirs(\"./data\")\n",
    "    urlretrieve(\"https://www.w3.org/TR/PNG/iso_8859-1.txt\", fullfilename)\n",
    "except FileExistsError:\n",
    "    pass\n",
    "\n",
    "if os.path.exists(\"./data/Homework.txt\"):\n",
    "    print(\"檔案存在\")\n",
    "    with open(\"./data/Homework.txt\", \"w\") as hw:\n",
    "        hw.write(\"Hello World\")\n",
    "\n",
    "    with open(\"./data/Homework.txt\", \"r\") as hw:\n",
    "        f = len(hw.read())\n",
    "        if len(\"Hello World\") == f:\n",
    "            print(\"字數符合\")\n",
    "        else:\n",
    "            print(\"字數不符\")\n",
    "else:\n",
    "    print(\"檔案不存在\")\n",
    "\n",
    "\n"
   ]
  },
  {
   "cell_type": "code",
   "execution_count": null,
   "id": "aa553f3b",
   "metadata": {},
   "outputs": [],
   "source": []
  }
 ],
 "metadata": {
  "kernelspec": {
   "display_name": "Python 3 (ipykernel)",
   "language": "python",
   "name": "python3"
  },
  "language_info": {
   "codemirror_mode": {
    "name": "ipython",
    "version": 3
   },
   "file_extension": ".py",
   "mimetype": "text/x-python",
   "name": "python",
   "nbconvert_exporter": "python",
   "pygments_lexer": "ipython3",
   "version": "3.8.10"
  }
 },
 "nbformat": 4,
 "nbformat_minor": 5
}
