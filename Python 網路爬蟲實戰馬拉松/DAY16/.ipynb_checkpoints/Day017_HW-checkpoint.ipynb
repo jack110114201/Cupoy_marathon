{
 "cells": [
  {
   "cell_type": "markdown",
   "metadata": {},
   "source": [
    "# HTTP 動態網頁架構說明\n",
    "\n",
    "\n",
    "* 了解動態網頁的資料爬蟲策略\n",
    "* 知道非同步網頁載入機制（Ajax）\n",
    "* 學習兩種對應動態網頁爬蟲的的策略\n"
   ]
  },
  {
   "cell_type": "markdown",
   "metadata": {},
   "source": [
    "## 作業目標\n",
    "\n",
    "回答以下問題：\n",
    "\n",
    "1. 動態網頁跟靜態網頁的差別是什麼？原本靜態網頁的做法會產生什麼問題或是缺點？\n",
    "2. 還記得我們在 ETTODAY 靜態爬蟲實作練習中，有請大家完成一個題目「取出今天所有的發文」，但仔細看其實並沒有真的把當天所有的新聞都抓回來， 試著回答看看原因是什麼？及該如何檢查？\n"
   ]
  },
  {
   "cell_type": "markdown",
   "metadata": {},
   "source": [
    "### 1. 動態網頁跟靜態網頁的差別是什麼？原本靜態網頁的做法會產生什麼問題或是缺點？"
   ]
  },
  {
   "cell_type": "code",
   "execution_count": 2,
   "metadata": {},
   "outputs": [
    {
     "data": {
      "text/plain": [
       "'\\n靜態網頁的缺點 : 若 Server 的處裡時間長，則 Client 端需要長時間等待，因此後續的程式需要等到 Server 回傳資料後才能執行。\\n\\n'"
      ]
     },
     "execution_count": 2,
     "metadata": {},
     "output_type": "execute_result"
    }
   ],
   "source": [
    "'''\n",
    "動態網頁:\n",
    "1. 透過 Ajax 的技術，來完成非同步的資料傳輸。\n",
    "2. 靜態網頁在 Server 收到 Request 後會產生完整的 HTML 作為 Response。\n",
    "'''\n",
    "\n",
    "'''\n",
    "靜態網頁:\n",
    "1. 透過每一次使用者請求，後端會產生一次網頁回傳，所以請求與回傳是一對一的，有些人把他們稱為同步\n",
    "2. 靜態網頁的問題在與每次請求都需要拉回完整的 HTML ，即便畫面中僅有部分更動。\n",
    "'''\n",
    "\n",
    "\n",
    "'''\n",
    "靜態網頁的缺點 : 若 Server 的處裡時間長，則 Client 端需要長時間等待，因此後續的程式需要等到 Server 回傳資料後才能執行。\n",
    "\n",
    "'''"
   ]
  },
  {
   "cell_type": "markdown",
   "metadata": {},
   "source": [
    "### 2. 還記得我們在 ETTODAY 靜態爬蟲實作練習中，有請大家完成一個題目「取出今天所有的發文」，但仔細看其實並沒有真的把當天所有的新聞都抓回來， 試著回答看看原因是什麼？及該如何檢查？"
   ]
  },
  {
   "cell_type": "code",
   "execution_count": 3,
   "metadata": {},
   "outputs": [
    {
     "data": {
      "text/plain": [
       "'\\n使用網站會發現，往下捲的時候可以取得更多的資料，這種行為是由 JavaScript 執行。\\n\\n透過 Python 執行爬蟲的過程中，並沒有執行到 JavaScript 這一段，因此無法取得資料。\\n\\n另外可以把瀏覽器的 JavaScript的功能關閉，會發現無法往下載入更多資料，這表示這個動作是由 JavaScript運行的。\\n'"
      ]
     },
     "execution_count": 3,
     "metadata": {},
     "output_type": "execute_result"
    }
   ],
   "source": [
    "'''\n",
    "傳統的 HTTP 一來一回的機制，會找不到時機點執行動態的 Request 更新。另外單純靠 Python 程式，也無法執行 JavaScript。 \n",
    "'''\n",
    "\n",
    "'''\n",
    "使用網站會發現，往下捲的時候可以取得更多的資料，這種行為是由 JavaScript 執行。\n",
    "\n",
    "透過 Python 執行爬蟲的過程中，並沒有執行到 JavaScript 這一段，因此無法取得資料。\n",
    "\n",
    "另外可以把瀏覽器的 JavaScript的功能關閉，會發現無法往下載入更多資料，這表示這個動作是由 JavaScript運行的。\n",
    "'''"
   ]
  }
 ],
 "metadata": {
  "kernelspec": {
   "display_name": "Python 3 (ipykernel)",
   "language": "python",
   "name": "python3"
  },
  "language_info": {
   "codemirror_mode": {
    "name": "ipython",
    "version": 3
   },
   "file_extension": ".py",
   "mimetype": "text/x-python",
   "name": "python",
   "nbconvert_exporter": "python",
   "pygments_lexer": "ipython3",
   "version": "3.8.10"
  }
 },
 "nbformat": 4,
 "nbformat_minor": 2
}
