{
 "cells": [
  {
   "cell_type": "markdown",
   "metadata": {},
   "source": [
    "# 反爬：登入授權模擬\n",
    "\n",
    "* 了解「登入權限機制」的反爬蟲機制\n",
    "* 「登入權限機制」反爬蟲的因應策略"
   ]
  },
  {
   "cell_type": "markdown",
   "metadata": {},
   "source": [
    "## 作業目標\n",
    "\n",
    "* 找一個需要登入的網站試試看，並說明思考流程\n",
    "（如果不知道要用哪個網站的話，可以試試看 https://github.com/new 網址，未登入時會被導向登入頁）\n",
    "\n"
   ]
  },
  {
   "cell_type": "code",
   "execution_count": 1,
   "metadata": {},
   "outputs": [
    {
     "name": "stderr",
     "output_type": "stream",
     "text": [
      "/usr/lib/python3/dist-packages/requests/__init__.py:89: RequestsDependencyWarning: urllib3 (1.26.7) or chardet (3.0.4) doesn't match a supported version!\n",
      "  warnings.warn(\"urllib3 ({}) or chardet ({}) doesn't match a supported \"\n"
     ]
    }
   ],
   "source": [
    "import requests\n",
    "from bs4 import BeautifulSoup"
   ]
  },
  {
   "cell_type": "code",
   "execution_count": 9,
   "metadata": {},
   "outputs": [
    {
     "name": "stdout",
     "output_type": "stream",
     "text": [
      "token： pfVA2v3qNyxy2paoNUVO/lbw+DBHJh14O/DvGnKwv3v0rsC5G+AYt+VnJ5rqDqdoqcLTDijXuXmUyjc6lve66w==\n",
      "-------------------------------------------------------------------------\n",
      "{'_octo': 'GH1.1.1521667300.1640702788', 'logged_in': 'no', '_device_id': 'a0a3af7282a9df2e31271cdb7813e2a9', '_gh_sess': 'G47Up1C4ZIPvYik9It1noQEu9m6Bj%2Fgm8uVqwz6rvQXmbeBwsT93%2FJIhRGWvUU7K4qN3HnDv6GiTq0A2TV2A4ZbW%2FGSWU8Ai0YE6qZSNcBsFALoGG4Z8%2BteAwtxvcqPXlYU%2Bvw4bpr1fqq053NiBCnNeF1j2GisdSszk27KJKA9z6iqVLfXs4gnrlvqA%2F4s3RIJxRVFlQYIxX9uD28KJK%2FmrC4WFxjuhQwhYFXhjtPw5XF4wR8U9PEFpHB0ePCBckpSV8fD40vRKRUt8f6bJkQ%3D%3D--L%2FxKD%2FyNnzHdt82n--dr%2FQbdXkxFmQhfeq8%2BoprQ%3D%3D'}\n"
     ]
    }
   ],
   "source": [
    "# 在未登入帳號密碼的情況下，使用https://github.com/new時，會被導至https://github.com/login\n",
    "# 由於需要取得token以及cookie的資訊，因此先在https://github.com/login這邊取得。\n",
    "\n",
    "\n",
    "rs = requests.session()\n",
    "\n",
    "response_login = rs.get('https://github.com/login')\n",
    "soup = BeautifulSoup(response_login.text, 'lxml')\n",
    "token = soup.find('input', {'name':'authenticity_token'})['value']\n",
    "# 取得token\n",
    "print('token：',token)\n",
    "print('-------------------------------------------------------------------------')\n",
    "\n",
    "# 取得cookies\n",
    "cookies_login=response_login.cookies.get_dict()\n",
    "print(cookies_login)"
   ]
  },
  {
   "cell_type": "code",
   "execution_count": 10,
   "metadata": {},
   "outputs": [],
   "source": [
    "with open ('./password.txt', 'r') as password:\n",
    "     password = password.read()"
   ]
  },
  {
   "cell_type": "code",
   "execution_count": 11,
   "metadata": {},
   "outputs": [
    {
     "name": "stdout",
     "output_type": "stream",
     "text": [
      "{'logged_in': 'yes', '_gh_sess': 'x349CT6NHSOzSH866s9%2Bi0TA%2B4sEcBh3fwKSSCJVmmyknp4fTnC7ErOw3d6hh68kA0%2BV%2B7HfMuLL4aeXkrfI2ImehDvghSsVpgBN0KRm9ANjUHRN%2FaEPrRN9Azj%2BdI2BWtOb8jHQfPOfUw%2F2%2BlcoK7TABy2d6QLi8PGoPYBP3tduHQes3LvLGDlivvEZXx9lvZOFl%2BQe%2BFwXVF0saaqQha2XxSsgGs6ETOq%2B3WlP2Vu4%2Fus7xr3j2j3CV9VRmMOgtMOUJPUbRu84LYKpGRCFtmupnEcqScl3z7aUdEMrTJQeVZQH--cFUxQB8JnbxaZkA0--WhsHxllQtbNbvoMOiVo3Pw%3D%3D', 'has_recent_activity': '1'}\n"
     ]
    }
   ],
   "source": [
    "# 輸入錯誤的帳密將移至https://github.com/session，此網頁的方法為post。 \n",
    "#將Form Data值取出來，但如果token與cookies是用 session這個網頁的headers提供的，將無法登入。\n",
    "\n",
    "D = {'commit':'Sign in',\n",
    "     'authenticity_token':token,\n",
    "     'login':'jack110114201',\n",
    "     'password':password\n",
    "    }\n",
    "\n",
    "response_session = rs.post('https://github.com/session',\n",
    "                                data = D ,\n",
    "                                cookies = cookies_login\n",
    "                                )\n",
    "\n",
    "cookies_session = response_session.cookies.get_dict()\n",
    "print(cookies_session)  # 登入成功"
   ]
  },
  {
   "cell_type": "code",
   "execution_count": 14,
   "metadata": {},
   "outputs": [],
   "source": [
    "response = rs.get('https://github.com/', headers = headers,cookies = cookies_session)\n",
    "soup = BeautifulSoup(response.text, 'lxml')\n",
    "#soup"
   ]
  },
  {
   "cell_type": "code",
   "execution_count": 15,
   "metadata": {},
   "outputs": [
    {
     "name": "stdout",
     "output_type": "stream",
     "text": [
      "<img alt=\"@jack110114201\" class=\"avatar avatar-small circle\" data-view-component=\"true\" height=\"20\" size=\"20\" src=\"https://avatars.githubusercontent.com/u/62840335?s=40&amp;v=4\" width=\"20\"/>\n",
      "\n",
      "\n",
      "login_account: @jack110114201\n"
     ]
    }
   ],
   "source": [
    "print(soup.find_all('img')[-3])\n",
    "print('\\n')\n",
    "print('login_account:',soup.find_all('img')[-3]['alt'])"
   ]
  }
 ],
 "metadata": {
  "kernelspec": {
   "display_name": "Python 3 (ipykernel)",
   "language": "python",
   "name": "python3"
  },
  "language_info": {
   "codemirror_mode": {
    "name": "ipython",
    "version": 3
   },
   "file_extension": ".py",
   "mimetype": "text/x-python",
   "name": "python",
   "nbconvert_exporter": "python",
   "pygments_lexer": "ipython3",
   "version": "3.8.10"
  }
 },
 "nbformat": 4,
 "nbformat_minor": 2
}
